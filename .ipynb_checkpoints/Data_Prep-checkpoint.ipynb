{
 "cells": [
  {
   "cell_type": "markdown",
   "id": "f12f77f4-73f0-4524-97ad-325e7db63c64",
   "metadata": {
    "jp-MarkdownHeadingCollapsed": true,
    "tags": []
   },
   "source": [
    "Shutil - copy,paste,move\n",
    "\n",
    "Glob - works on data path"
   ]
  },
  {
   "cell_type": "code",
   "execution_count": 25,
   "id": "4579bf69-89fa-4aad-9643-8578133966d8",
   "metadata": {},
   "outputs": [
    {
     "name": "stdout",
     "output_type": "stream",
     "text": [
      "Requirement already satisfied: glob2 in c:\\users\\hmsha\\anaconda3\\envs\\monai_works\\lib\\site-packages (0.7)\n"
     ]
    }
   ],
   "source": [
    "!pip install glob2"
   ]
  },
  {
   "cell_type": "code",
   "execution_count": 26,
   "id": "3de6a6b1-636b-48ba-8976-5dafa642225e",
   "metadata": {},
   "outputs": [
    {
     "name": "stdout",
     "output_type": "stream",
     "text": [
      "Requirement already satisfied: pytest-shutil in c:\\users\\hmsha\\anaconda3\\envs\\monai_works\\lib\\site-packages (1.7.0)\n",
      "Requirement already satisfied: execnet in c:\\users\\hmsha\\anaconda3\\envs\\monai_works\\lib\\site-packages (from pytest-shutil) (1.9.0)\n",
      "Requirement already satisfied: path.py in c:\\users\\hmsha\\anaconda3\\envs\\monai_works\\lib\\site-packages (from pytest-shutil) (12.5.0)\n",
      "Requirement already satisfied: termcolor in c:\\users\\hmsha\\anaconda3\\envs\\monai_works\\lib\\site-packages (from pytest-shutil) (2.2.0)\n",
      "Requirement already satisfied: pytest in c:\\users\\hmsha\\anaconda3\\envs\\monai_works\\lib\\site-packages (from pytest-shutil) (7.3.0)\n",
      "Requirement already satisfied: mock in c:\\users\\hmsha\\anaconda3\\envs\\monai_works\\lib\\site-packages (from pytest-shutil) (5.0.1)\n",
      "Requirement already satisfied: six in c:\\users\\hmsha\\anaconda3\\envs\\monai_works\\lib\\site-packages (from pytest-shutil) (1.16.0)\n",
      "Requirement already satisfied: contextlib2 in c:\\users\\hmsha\\anaconda3\\envs\\monai_works\\lib\\site-packages (from pytest-shutil) (21.6.0)\n",
      "Requirement already satisfied: path in c:\\users\\hmsha\\anaconda3\\envs\\monai_works\\lib\\site-packages (from path.py->pytest-shutil) (16.6.0)\n",
      "Requirement already satisfied: tomli>=1.0.0 in c:\\users\\hmsha\\anaconda3\\envs\\monai_works\\lib\\site-packages (from pytest->pytest-shutil) (2.0.1)\n",
      "Requirement already satisfied: colorama in c:\\users\\hmsha\\anaconda3\\envs\\monai_works\\lib\\site-packages (from pytest->pytest-shutil) (0.4.6)\n",
      "Requirement already satisfied: exceptiongroup>=1.0.0rc8 in c:\\users\\hmsha\\anaconda3\\envs\\monai_works\\lib\\site-packages (from pytest->pytest-shutil) (1.1.1)\n",
      "Requirement already satisfied: pluggy<2.0,>=0.12 in c:\\users\\hmsha\\anaconda3\\envs\\monai_works\\lib\\site-packages (from pytest->pytest-shutil) (1.0.0)\n",
      "Requirement already satisfied: packaging in c:\\users\\hmsha\\anaconda3\\envs\\monai_works\\lib\\site-packages (from pytest->pytest-shutil) (23.0)\n",
      "Requirement already satisfied: iniconfig in c:\\users\\hmsha\\anaconda3\\envs\\monai_works\\lib\\site-packages (from pytest->pytest-shutil) (2.0.0)\n"
     ]
    }
   ],
   "source": [
    "!pip install pytest-shutil"
   ]
  },
  {
   "cell_type": "code",
   "execution_count": 27,
   "id": "efafd526-732e-441d-b34e-3594d0a83857",
   "metadata": {},
   "outputs": [],
   "source": [
    "from glob import glob\n",
    "import shutil\n",
    "import os"
   ]
  },
  {
   "cell_type": "code",
   "execution_count": 28,
   "id": "cb77b0ba-e86a-4d5d-8c02-a511145010e0",
   "metadata": {},
   "outputs": [],
   "source": [
    "#reverse the slash\n",
    "\n",
    "d_initial = \"E:/Thesis/data_preparing/dicom_initial/labels\"\n",
    "\n",
    "d_final =   \"E:/Thesis/data_preparing/dicom_final/labels\"\n",
    "\n",
    "# d_initial = \"C:/Users/RAZER/Desktop/small_data/dicom_initial/images\"\n",
    "\n",
    "# d_final = \"C:/Users/RAZER/Desktop/small_data/dicom_final/images\""
   ]
  },
  {
   "cell_type": "markdown",
   "id": "4c878530-0272-4ac0-adef-79784dc8aa46",
   "metadata": {},
   "source": [
    "the + path then /* gives all files names after the path\n",
    "\n"
   ]
  },
  {
   "cell_type": "code",
   "execution_count": 29,
   "id": "a39ae088-6a8a-4544-8aeb-374185d57053",
   "metadata": {},
   "outputs": [
    {
     "data": {
      "text/plain": [
       "['E:/Thesis/data_preparing/dicom_initial/labels\\\\labels_spleen_2',\n",
       " 'E:/Thesis/data_preparing/dicom_initial/labels\\\\labels_spleen_3']"
      ]
     },
     "execution_count": 29,
     "metadata": {},
     "output_type": "execute_result"
    }
   ],
   "source": [
    "glob(d_initial+\"/*\")"
   ]
  },
  {
   "cell_type": "code",
   "execution_count": 30,
   "id": "6a14829b-d7e5-4e12-830e-ae57fae7e6b0",
   "metadata": {},
   "outputs": [
    {
     "name": "stdout",
     "output_type": "stream",
     "text": [
      "E:/Thesis/data_preparing/dicom_initial/labels\\labels_spleen_2\n",
      "10\n"
     ]
    }
   ],
   "source": [
    "i = glob(d_initial+\"/*\")[0]\n",
    "print(i)\n",
    "print(len(glob(i+\"/*\")))"
   ]
  },
  {
   "cell_type": "code",
   "execution_count": 31,
   "id": "a65831f6-4d52-4112-96f7-068dab961cdd",
   "metadata": {},
   "outputs": [
    {
     "name": "stdout",
     "output_type": "stream",
     "text": [
      "E:/Thesis/data_preparing/dicom_initial/labels\\labels_spleen_3\n",
      "0\n"
     ]
    }
   ],
   "source": [
    "j = glob(d_initial+\"/*\")[1]\n",
    "print(j)\n",
    "print(len(glob(j+\"/*\")))"
   ]
  },
  {
   "cell_type": "code",
   "execution_count": 32,
   "id": "1fcd2f38-9b62-4d6f-bcf1-ba59f56cb97a",
   "metadata": {},
   "outputs": [
    {
     "name": "stdout",
     "output_type": "stream",
     "text": [
      "Entered->  E:/Thesis/data_preparing/dicom_initial/labels\\labels_spleen_2\n",
      "labels_spleen_2\n",
      "0\n",
      "Entered->  E:/Thesis/data_preparing/dicom_initial/labels\\labels_spleen_3\n",
      "labels_spleen_3\n",
      "0\n"
     ]
    }
   ],
   "source": [
    "number_of_slice = 40\n",
    "\n",
    "\n",
    "\n",
    "for i in glob(d_initial+\"/*\"):\n",
    "    print(\"Entered-> \",i)\n",
    "    \n",
    "    folder_name = os.path.basename(os.path.normpath(i))\n",
    "    number_of_folder = int(len(glob(i+\"/*\"))/number_of_slice)\n",
    "    print(folder_name)\n",
    "    print(number_of_folder)\n",
    "    \n",
    "    for j in range(1,number_of_folder+1):\n",
    "        new_dir = os.path.join(d_final, folder_name+\"_\"+str(j))\n",
    "        print(new_dir)\n",
    "        \n",
    "        os.mkdir(new_dir)\n",
    "        \n",
    "        k = 0\n",
    "        for l in glob(i+\"/*\"):\n",
    "            if k == number_of_slice:\n",
    "                break\n",
    "            \n",
    "            #shutil.copy(l,new_dir)\n",
    "            shutil.move(l,new_dir)\n",
    "            k+=1\n",
    "            "
   ]
  },
  {
   "cell_type": "markdown",
   "id": "352f6c64-45b2-46ff-98e7-1215158b9f0a",
   "metadata": {},
   "source": [
    "# Convert to nifti"
   ]
  },
  {
   "cell_type": "code",
   "execution_count": 41,
   "id": "2d46d523-1a22-4f3d-a8ca-c849d69bfa30",
   "metadata": {},
   "outputs": [
    {
     "name": "stdout",
     "output_type": "stream",
     "text": [
      "Requirement already satisfied: dicom2nifti in c:\\users\\hmsha\\anaconda3\\envs\\monai_works\\lib\\site-packages (2.4.8)\n",
      "Requirement already satisfied: scipy in c:\\users\\hmsha\\anaconda3\\envs\\monai_works\\lib\\site-packages (from dicom2nifti) (1.10.1)\n",
      "Requirement already satisfied: nibabel in c:\\users\\hmsha\\anaconda3\\envs\\monai_works\\lib\\site-packages (from dicom2nifti) (5.1.0)\n",
      "Requirement already satisfied: numpy in c:\\users\\hmsha\\anaconda3\\envs\\monai_works\\lib\\site-packages (from dicom2nifti) (1.24.2)\n",
      "Requirement already satisfied: pydicom>=2.2.0 in c:\\users\\hmsha\\anaconda3\\envs\\monai_works\\lib\\site-packages (from dicom2nifti) (2.3.1)\n",
      "Requirement already satisfied: python-gdcm in c:\\users\\hmsha\\anaconda3\\envs\\monai_works\\lib\\site-packages (from dicom2nifti) (3.0.21)\n",
      "Requirement already satisfied: importlib-resources>=1.3 in c:\\users\\hmsha\\anaconda3\\envs\\monai_works\\lib\\site-packages (from nibabel->dicom2nifti) (5.2.0)\n",
      "Requirement already satisfied: packaging>=17 in c:\\users\\hmsha\\anaconda3\\envs\\monai_works\\lib\\site-packages (from nibabel->dicom2nifti) (23.0)\n",
      "Requirement already satisfied: zipp>=3.1.0 in c:\\users\\hmsha\\anaconda3\\envs\\monai_works\\lib\\site-packages (from importlib-resources>=1.3->nibabel->dicom2nifti) (3.11.0)\n"
     ]
    }
   ],
   "source": [
    "!pip install dicom2nifti"
   ]
  },
  {
   "cell_type": "code",
   "execution_count": 42,
   "id": "8f6219cb-5a6b-4ef4-b0ba-dd46c3d32248",
   "metadata": {},
   "outputs": [],
   "source": [
    "import dicom2nifti as dn"
   ]
  },
  {
   "cell_type": "code",
   "execution_count": 43,
   "id": "dc5949ba-23b6-462b-8590-52f6ca6f1ade",
   "metadata": {},
   "outputs": [],
   "source": [
    "dicom_path = \"E:/Thesis/data_preparing/dicom_final/labels*\"\n",
    "\n",
    "nifti_path = \"E:/Thesis/data_preparing/nifti_initial/labels\"\n",
    "\n",
    "\n",
    "# dicom_path = \"C:/Users/RAZER/Desktop/small_data/dicom_final/images/*\"\n",
    "\n",
    "# nifti_path = \"C:/Users/RAZER/Desktop/small_data/nifi_inital/images\""
   ]
  },
  {
   "cell_type": "code",
   "execution_count": 44,
   "id": "a74bf21b-613a-4ac7-a796-1a92b815f4f1",
   "metadata": {},
   "outputs": [
    {
     "name": "stderr",
     "output_type": "stream",
     "text": [
      "Orthogonality check failed: non cubical image\n",
      "---------------------------------------------------------\n",
      "[0. 0. 1.]\n",
      "[-0.14526003 -0.14526003  0.97867208]\n",
      "---------------------------------------------------------\n"
     ]
    },
    {
     "ename": "ConversionValidationError",
     "evalue": "NON_CUBICAL_IMAGE/GANTRY_TILT",
     "output_type": "error",
     "traceback": [
      "\u001b[1;31m---------------------------------------------------------------------------\u001b[0m",
      "\u001b[1;31mConversionValidationError\u001b[0m                 Traceback (most recent call last)",
      "Cell \u001b[1;32mIn[44], line 8\u001b[0m\n\u001b[0;32m      5\u001b[0m \u001b[38;5;28;01mfor\u001b[39;00m i \u001b[38;5;129;01min\u001b[39;00m folder_list:\n\u001b[0;32m      6\u001b[0m     folder_name \u001b[38;5;241m=\u001b[39m os\u001b[38;5;241m.\u001b[39mpath\u001b[38;5;241m.\u001b[39mbasename(os\u001b[38;5;241m.\u001b[39mpath\u001b[38;5;241m.\u001b[39mnormpath(i))\n\u001b[1;32m----> 8\u001b[0m     \u001b[43mdn\u001b[49m\u001b[38;5;241;43m.\u001b[39;49m\u001b[43mdicom_series_to_nifti\u001b[49m\u001b[43m(\u001b[49m\u001b[43mi\u001b[49m\u001b[43m,\u001b[49m\u001b[43mos\u001b[49m\u001b[38;5;241;43m.\u001b[39;49m\u001b[43mpath\u001b[49m\u001b[38;5;241;43m.\u001b[39;49m\u001b[43mjoin\u001b[49m\u001b[43m(\u001b[49m\u001b[43mnifti_path\u001b[49m\u001b[43m,\u001b[49m\u001b[43mfolder_name\u001b[49m\u001b[38;5;241;43m+\u001b[39;49m\u001b[38;5;124;43m\"\u001b[39;49m\u001b[38;5;124;43m.nii.gz\u001b[39;49m\u001b[38;5;124;43m\"\u001b[39;49m\u001b[43m)\u001b[49m\u001b[43m)\u001b[49m\n",
      "File \u001b[1;32m~\\anaconda3\\envs\\Monai_works\\lib\\site-packages\\dicom2nifti\\convert_dicom.py:77\u001b[0m, in \u001b[0;36mdicom_series_to_nifti\u001b[1;34m(original_dicom_directory, output_file, reorient_nifti)\u001b[0m\n\u001b[0;32m     73\u001b[0m     shutil\u001b[38;5;241m.\u001b[39mcopytree(original_dicom_directory, dicom_directory)\n\u001b[0;32m     75\u001b[0m     dicom_input \u001b[38;5;241m=\u001b[39m common\u001b[38;5;241m.\u001b[39mread_dicom_directory(dicom_directory)\n\u001b[1;32m---> 77\u001b[0m     \u001b[38;5;28;01mreturn\u001b[39;00m \u001b[43mdicom_array_to_nifti\u001b[49m\u001b[43m(\u001b[49m\u001b[43mdicom_input\u001b[49m\u001b[43m,\u001b[49m\u001b[43m \u001b[49m\u001b[43moutput_file\u001b[49m\u001b[43m,\u001b[49m\u001b[43m \u001b[49m\u001b[43mreorient_nifti\u001b[49m\u001b[43m)\u001b[49m\n\u001b[0;32m     79\u001b[0m \u001b[38;5;28;01mexcept\u001b[39;00m \u001b[38;5;167;01mAttributeError\u001b[39;00m \u001b[38;5;28;01mas\u001b[39;00m exception:\n\u001b[0;32m     80\u001b[0m     \u001b[38;5;28;01mraise\u001b[39;00m exception\n",
      "File \u001b[1;32m~\\anaconda3\\envs\\Monai_works\\lib\\site-packages\\dicom2nifti\\convert_dicom.py:117\u001b[0m, in \u001b[0;36mdicom_array_to_nifti\u001b[1;34m(dicom_list, output_file, reorient_nifti)\u001b[0m\n\u001b[0;32m    114\u001b[0m vendor \u001b[38;5;241m=\u001b[39m _get_vendor(dicom_list)\n\u001b[0;32m    116\u001b[0m \u001b[38;5;28;01mif\u001b[39;00m vendor \u001b[38;5;241m==\u001b[39m Vendor\u001b[38;5;241m.\u001b[39mGENERIC:\n\u001b[1;32m--> 117\u001b[0m     results \u001b[38;5;241m=\u001b[39m \u001b[43mconvert_generic\u001b[49m\u001b[38;5;241;43m.\u001b[39;49m\u001b[43mdicom_to_nifti\u001b[49m\u001b[43m(\u001b[49m\u001b[43mdicom_list\u001b[49m\u001b[43m,\u001b[49m\u001b[43m \u001b[49m\u001b[43moutput_file\u001b[49m\u001b[43m)\u001b[49m\n\u001b[0;32m    118\u001b[0m \u001b[38;5;28;01melif\u001b[39;00m vendor \u001b[38;5;241m==\u001b[39m Vendor\u001b[38;5;241m.\u001b[39mSIEMENS:\n\u001b[0;32m    119\u001b[0m     results \u001b[38;5;241m=\u001b[39m convert_siemens\u001b[38;5;241m.\u001b[39mdicom_to_nifti(dicom_list, output_file)\n",
      "File \u001b[1;32m~\\anaconda3\\envs\\Monai_works\\lib\\site-packages\\dicom2nifti\\convert_generic.py:123\u001b[0m, in \u001b[0;36mdicom_to_nifti\u001b[1;34m(dicom_input, output_file)\u001b[0m\n\u001b[0;32m    120\u001b[0m     common\u001b[38;5;241m.\u001b[39mvalidate_orientation(dicom_input)\n\u001b[0;32m    121\u001b[0m \u001b[38;5;28;01mif\u001b[39;00m settings\u001b[38;5;241m.\u001b[39mvalidate_orthogonal:\n\u001b[0;32m    122\u001b[0m     \u001b[38;5;66;03m# validate that we have an orthogonal image (to detect gantry tilting etc)\u001b[39;00m\n\u001b[1;32m--> 123\u001b[0m     \u001b[43mcommon\u001b[49m\u001b[38;5;241;43m.\u001b[39;49m\u001b[43mvalidate_orthogonal\u001b[49m\u001b[43m(\u001b[49m\u001b[43mdicom_input\u001b[49m\u001b[43m)\u001b[49m\n\u001b[0;32m    125\u001b[0m \u001b[38;5;66;03m# sort the dicoms\u001b[39;00m\n\u001b[0;32m    126\u001b[0m dicom_input \u001b[38;5;241m=\u001b[39m common\u001b[38;5;241m.\u001b[39msort_dicoms(dicom_input)\n",
      "File \u001b[1;32m~\\anaconda3\\envs\\Monai_works\\lib\\site-packages\\dicom2nifti\\common.py:729\u001b[0m, in \u001b[0;36mvalidate_orthogonal\u001b[1;34m(dicoms)\u001b[0m\n\u001b[0;32m    727\u001b[0m     \u001b[38;5;28;01mreturn\u001b[39;00m\n\u001b[0;32m    728\u001b[0m \u001b[38;5;28;01mif\u001b[39;00m \u001b[38;5;129;01mnot\u001b[39;00m is_orthogonal(dicoms, log_details\u001b[38;5;241m=\u001b[39m\u001b[38;5;28;01mTrue\u001b[39;00m):\n\u001b[1;32m--> 729\u001b[0m     \u001b[38;5;28;01mraise\u001b[39;00m ConversionValidationError(\u001b[38;5;124m'\u001b[39m\u001b[38;5;124mNON_CUBICAL_IMAGE/GANTRY_TILT\u001b[39m\u001b[38;5;124m'\u001b[39m)\n",
      "\u001b[1;31mConversionValidationError\u001b[0m: NON_CUBICAL_IMAGE/GANTRY_TILT"
     ]
    }
   ],
   "source": [
    "folder_list = glob(dicom_path)\n",
    "\n",
    "#print(folder_list)\n",
    "\n",
    "for i in folder_list:\n",
    "    folder_name = os.path.basename(os.path.normpath(i))\n",
    "    \n",
    "    dn.dicom_series_to_nifti(i,os.path.join(nifti_path,folder_name+\".nii.gz\"))"
   ]
  },
  {
   "cell_type": "markdown",
   "id": "1073393d-52d6-4264-93b8-b6503c74e774",
   "metadata": {},
   "source": [
    "# Find NULL"
   ]
  },
  {
   "cell_type": "code",
   "execution_count": 36,
   "id": "feeaf564-6b71-4530-9b08-19e19fcf6de9",
   "metadata": {},
   "outputs": [
    {
     "name": "stdout",
     "output_type": "stream",
     "text": [
      "Requirement already satisfied: nibabel in c:\\users\\hmsha\\anaconda3\\envs\\monai_works\\lib\\site-packages (5.1.0)\n",
      "Requirement already satisfied: packaging>=17 in c:\\users\\hmsha\\anaconda3\\envs\\monai_works\\lib\\site-packages (from nibabel) (23.0)\n",
      "Requirement already satisfied: importlib-resources>=1.3 in c:\\users\\hmsha\\anaconda3\\envs\\monai_works\\lib\\site-packages (from nibabel) (5.2.0)\n",
      "Requirement already satisfied: numpy>=1.19 in c:\\users\\hmsha\\anaconda3\\envs\\monai_works\\lib\\site-packages (from nibabel) (1.24.2)\n",
      "Requirement already satisfied: zipp>=3.1.0 in c:\\users\\hmsha\\anaconda3\\envs\\monai_works\\lib\\site-packages (from importlib-resources>=1.3->nibabel) (3.11.0)\n"
     ]
    }
   ],
   "source": [
    "!pip install nibabel\n",
    "\n"
   ]
  },
  {
   "cell_type": "code",
   "execution_count": 37,
   "id": "80b46bd6-485f-466a-9f5e-322f3bcebc1e",
   "metadata": {},
   "outputs": [],
   "source": [
    "import nibabel as nb\n",
    "\n",
    "import numpy as np"
   ]
  },
  {
   "cell_type": "code",
   "execution_count": 38,
   "id": "9ebfe2f6-276a-490a-9b33-6214f8434ba1",
   "metadata": {},
   "outputs": [],
   "source": [
    "path_of = \"E:/Thesis/data_preparing/nifti_initial/labels/*\""
   ]
  },
  {
   "cell_type": "code",
   "execution_count": 39,
   "id": "bc60fecc-f9c4-47a2-95a3-721d6f0093bc",
   "metadata": {},
   "outputs": [],
   "source": [
    "list_of_null=[]\n",
    "\n",
    "for i in glob(path_of):\n",
    "    nifti = nb.load(i)\n",
    "    \n",
    "    frame_data = nifti.get_fdata()\n",
    "    #print(frame_data)\n",
    "    \n",
    "    uniq = np.unique(frame_data)\n",
    "    print(uniq)\n",
    "    if len(uniq) ==1:\n",
    "        list_of_null.append(i)"
   ]
  },
  {
   "cell_type": "code",
   "execution_count": 40,
   "id": "36ecc7d3-5ab3-444a-aa2b-b3e727dfbc3b",
   "metadata": {},
   "outputs": [
    {
     "data": {
      "text/plain": [
       "[]"
      ]
     },
     "execution_count": 40,
     "metadata": {},
     "output_type": "execute_result"
    }
   ],
   "source": [
    "list_of_null\n"
   ]
  },
  {
   "cell_type": "code",
   "execution_count": null,
   "id": "290058f2-b12e-4914-9a2f-9d91e080df8b",
   "metadata": {},
   "outputs": [],
   "source": []
  }
 ],
 "metadata": {
  "kernelspec": {
   "display_name": "Python 3 (ipykernel)",
   "language": "python",
   "name": "python3"
  },
  "language_info": {
   "codemirror_mode": {
    "name": "ipython",
    "version": 3
   },
   "file_extension": ".py",
   "mimetype": "text/x-python",
   "name": "python",
   "nbconvert_exporter": "python",
   "pygments_lexer": "ipython3",
   "version": "3.8.16"
  }
 },
 "nbformat": 4,
 "nbformat_minor": 5
}
