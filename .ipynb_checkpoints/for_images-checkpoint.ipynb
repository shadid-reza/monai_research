{
 "cells": [
  {
   "cell_type": "code",
   "execution_count": null,
   "id": "7d664965-0130-4780-9455-f9d03b4b6a06",
   "metadata": {},
   "outputs": [
    {
     "name": "stdout",
     "output_type": "stream",
     "text": [
      "Requirement already satisfied: SimpleITK in c:\\users\\hmsha\\anaconda3\\envs\\monai_works\\lib\\site-packages (2.2.1)\n"
     ]
    }
   ],
   "source": [
    "!pip install SimpleITK"
   ]
  },
  {
   "cell_type": "code",
   "execution_count": null,
   "id": "7efa8e70-6b79-481f-83ce-2fae10aa7551",
   "metadata": {},
   "outputs": [],
   "source": [
    "import SimpleITK as sitk\n",
    "import os\n",
    "import time\n",
    "from glob import glob\n"
   ]
  },
  {
   "cell_type": "code",
   "execution_count": null,
   "id": "bf972bc8-d763-4438-93c0-c4128a991fa8",
   "metadata": {},
   "outputs": [],
   "source": [
    "def writeSlices(series_tag_values, new_img, i, out_dir):\n",
    "    image_slice = new_img[:,:,i]\n",
    "    \n",
    "    # Set the pixel type explicitly to int16.\n",
    "    image_slice = sitk.Cast(image_slice, sitk.sitkInt16)\n",
    "    \n",
    "    writer = sitk.ImageFileWriter()\n",
    "    writer.KeepOriginalImageUIDOn()\n",
    "\n",
    "    # Tags shared by the series.\n",
    "    list(map(lambda tag_value: image_slice.SetMetaData(tag_value[0], tag_value[1]), series_tag_values))\n",
    "\n",
    "    # Slice specific tags.\n",
    "    image_slice.SetMetaData(\"0008|0012\", time.strftime(\"%Y%m%d\")) # Instance Creation Date\n",
    "    image_slice.SetMetaData(\"0008|0013\", time.strftime(\"%H%M%S\")) # Instance Creation Time\n",
    "\n",
    "    # Setting the type to CT preserves the slice location.\n",
    "    image_slice.SetMetaData(\"0008|0060\", \"CT\")  # set the type to CT so the thickness is carried over\n",
    "\n",
    "    # (0020, 0032) image position patient determines the 3D spacing between slices.\n",
    "    image_slice.SetMetaData(\"0020|0032\", '\\\\'.join(map(str,new_img.TransformIndexToPhysicalPoint((0,0,i))))) # Image Position (Patient)\n",
    "    image_slice.SetMetaData(\"0020,0013\", str(i)) # Instance Number\n",
    "\n",
    "    # Write to the output directory and add the extension dcm, to force writing in DICOM format.\n",
    "    writer.SetFileName(os.path.join(out_dir,'slice' + str(i).zfill(4) + '.dcm'))\n",
    "    writer.Execute(image_slice)"
   ]
  },
  {
   "cell_type": "code",
   "execution_count": null,
   "id": "854a1d88-801b-4399-96e2-c150d0f5d7e6",
   "metadata": {},
   "outputs": [],
   "source": [
    "def nifti2dicom_1file(in_dir, out_dir):\n",
    "    \"\"\"\n",
    "    This function is to convert only one nifti file into dicom series\n",
    "    `nifti_dir`: the path to the one nifti file\n",
    "    `out_dir`: the path to output\n",
    "    \"\"\"\n",
    "\n",
    "    os.makedirs(out_dir, exist_ok=True)\n",
    "\n",
    "    new_img = sitk.ReadImage(in_dir) \n",
    "    modification_time = time.strftime(\"%H%M%S\")\n",
    "    modification_date = time.strftime(\"%Y%m%d\")\n",
    "\n",
    "    direction = new_img.GetDirection()\n",
    "    series_tag_values = [(\"0008|0031\",modification_time), # Series Time\n",
    "                    (\"0008|0021\",modification_date), # Series Date\n",
    "                    (\"0008|0008\",\"DERIVED\\\\SECONDARY\"), # Image Type\n",
    "                    (\"0020|000e\", \"1.2.826.0.1.3680043.2.1125.\"+modification_date+\".1\"+modification_time), # Series Instance UID\n",
    "                    (\"0020|0037\", '\\\\'.join(map(str, (direction[0], direction[3], direction[6],# Image Orientation (Patient)\n",
    "                                                        direction[1],direction[4],direction[7])))),\n",
    "                    (\"0008|103e\", \"Created-Pycad\")] # Series Description\n",
    "\n",
    "    # Write slices to output directory\n",
    "    list(map(lambda i: writeSlices(series_tag_values, new_img, i, out_dir), range(new_img.GetDepth())))"
   ]
  },
  {
   "cell_type": "code",
   "execution_count": null,
   "id": "1faae0f3-a661-4bda-ae0f-e618b37823b5",
   "metadata": {},
   "outputs": [],
   "source": [
    "out_dir = \"E:/Thesis/Experiment/final\"\n",
    "\n",
    "\n",
    "in_dir = \"E:/Thesis\\Experiment/nifty_ini/images_spleen_2.nii\""
   ]
  },
  {
   "cell_type": "code",
   "execution_count": null,
   "id": "b4285a05-3156-4a9e-b409-78d14e1bbce6",
   "metadata": {},
   "outputs": [],
   "source": [
    "\n",
    "nifti2dicom_1file(in_dir , out_dir)"
   ]
  },
  {
   "cell_type": "code",
   "execution_count": null,
   "id": "6d514e15-2775-45ab-9beb-faefaf050f26",
   "metadata": {},
   "outputs": [],
   "source": []
  }
 ],
 "metadata": {
  "kernelspec": {
   "display_name": "Python 3 (ipykernel)",
   "language": "python",
   "name": "python3"
  },
  "language_info": {
   "codemirror_mode": {
    "name": "ipython",
    "version": 3
   },
   "file_extension": ".py",
   "mimetype": "text/x-python",
   "name": "python",
   "nbconvert_exporter": "python",
   "pygments_lexer": "ipython3",
   "version": "3.8.16"
  }
 },
 "nbformat": 4,
 "nbformat_minor": 5
}
