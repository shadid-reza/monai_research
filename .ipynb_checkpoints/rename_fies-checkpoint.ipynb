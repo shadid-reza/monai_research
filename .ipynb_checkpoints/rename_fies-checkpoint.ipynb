{
 "cells": [
  {
   "cell_type": "code",
   "execution_count": 19,
   "id": "823704df-e89d-4daa-b5ac-3adb4fecaf5b",
   "metadata": {},
   "outputs": [],
   "source": [
    "import os\n",
    "import re"
   ]
  },
  {
   "cell_type": "code",
   "execution_count": 20,
   "id": "5086a6da-cab8-40ef-8d4e-7bd878bacdcc",
   "metadata": {},
   "outputs": [],
   "source": [
    "dir_path = \"E:/Thesis/Most_one/re_labels\""
   ]
  },
  {
   "cell_type": "code",
   "execution_count": 34,
   "id": "7324d358-e22c-4d2a-b7a8-de9ae002551b",
   "metadata": {},
   "outputs": [],
   "source": [
    "def files_rename(dir_path, keyword):\n",
    "    \n",
    "    file_pattern = r'spleen_(\\d+)\\.nii\\.gz'\n",
    "\n",
    "    for filename in os.listdir(dir_path):\n",
    "        new_name = keyword + \"_\" + filename\n",
    "        try:\n",
    "            if re.match(file_pattern, filename):\n",
    "                os.rename(os.path.join(dir_path, filename), os.path.join(dir_path, new_name))\n",
    "                print(f\"success!!! File name: {new_name}\")\n",
    "            else:\n",
    "                print(f\"not renamed due to {new_name}\")\n",
    "        except Exception as e:\n",
    "            print(f\"An error occurred while renaming file '{filename}': {e}\")"
   ]
  },
  {
   "cell_type": "code",
   "execution_count": 35,
   "id": "81e150fc-062f-44a6-8fcb-61e4c6dfce9c",
   "metadata": {},
   "outputs": [
    {
     "name": "stdout",
     "output_type": "stream",
     "text": [
      "not renamed due to labels_labels_spleen_10.nii.gz\n",
      "not renamed due to labels_labels_spleen_12.nii.gz\n",
      "not renamed due to labels_labels_spleen_13.nii.gz\n",
      "not renamed due to labels_labels_spleen_14.nii.gz\n",
      "not renamed due to labels_labels_spleen_16.nii.gz\n",
      "not renamed due to labels_labels_spleen_17.nii.gz\n",
      "not renamed due to labels_labels_spleen_9.nii.gz\n"
     ]
    }
   ],
   "source": [
    "files_rename(dir_path , \"labels\")"
   ]
  },
  {
   "cell_type": "code",
   "execution_count": null,
   "id": "1734c73d-9bc4-4fd4-bb30-56458d969632",
   "metadata": {},
   "outputs": [],
   "source": []
  },
  {
   "cell_type": "code",
   "execution_count": null,
   "id": "220dfd6a-2a87-4dde-83d5-68d0dffe047e",
   "metadata": {},
   "outputs": [],
   "source": []
  }
 ],
 "metadata": {
  "kernelspec": {
   "display_name": "Python 3 (ipykernel)",
   "language": "python",
   "name": "python3"
  },
  "language_info": {
   "codemirror_mode": {
    "name": "ipython",
    "version": 3
   },
   "file_extension": ".py",
   "mimetype": "text/x-python",
   "name": "python",
   "nbconvert_exporter": "python",
   "pygments_lexer": "ipython3",
   "version": "3.8.16"
  }
 },
 "nbformat": 4,
 "nbformat_minor": 5
}
