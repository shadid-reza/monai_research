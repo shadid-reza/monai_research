{
 "cells": [
  {
   "cell_type": "code",
   "execution_count": 1,
   "id": "93d2a492-223e-4903-8468-2471fb05e31f",
   "metadata": {},
   "outputs": [
    {
     "name": "stdout",
     "output_type": "stream",
     "text": [
      "Collecting glob2\n",
      "  Using cached glob2-0.7-py2.py3-none-any.whl\n",
      "Installing collected packages: glob2\n",
      "Successfully installed glob2-0.7\n"
     ]
    }
   ],
   "source": [
    "!pip install glob2"
   ]
  },
  {
   "cell_type": "code",
   "execution_count": 2,
   "id": "56f8d173-2482-40c3-9907-bf07b2504da3",
   "metadata": {},
   "outputs": [
    {
     "name": "stdout",
     "output_type": "stream",
     "text": [
      "Collecting pytest-shutil\n",
      "  Using cached pytest_shutil-1.7.0-py2.py3-none-any.whl (15 kB)\n",
      "Collecting mock\n",
      "  Using cached mock-5.0.1-py3-none-any.whl (30 kB)\n",
      "Requirement already satisfied: six in c:\\users\\razer\\anaconda3\\envs\\green_mamba\\lib\\site-packages (from pytest-shutil) (1.16.0)\n",
      "Collecting contextlib2\n",
      "  Using cached contextlib2-21.6.0-py2.py3-none-any.whl (13 kB)\n",
      "Collecting pytest\n",
      "  Using cached pytest-7.2.2-py3-none-any.whl (317 kB)\n",
      "Collecting execnet\n",
      "  Using cached execnet-1.9.0-py2.py3-none-any.whl (39 kB)\n",
      "Collecting termcolor\n",
      "  Using cached termcolor-2.2.0-py3-none-any.whl (6.6 kB)\n",
      "Collecting path.py\n",
      "  Using cached path.py-12.5.0-py3-none-any.whl (2.3 kB)\n",
      "Collecting path\n",
      "  Using cached path-16.6.0-py3-none-any.whl (26 kB)\n",
      "Requirement already satisfied: packaging in c:\\users\\razer\\anaconda3\\envs\\green_mamba\\lib\\site-packages (from pytest->pytest-shutil) (23.0)\n",
      "Requirement already satisfied: tomli>=1.0.0 in c:\\users\\razer\\anaconda3\\envs\\green_mamba\\lib\\site-packages (from pytest->pytest-shutil) (2.0.1)\n",
      "Collecting iniconfig\n",
      "  Using cached iniconfig-2.0.0-py3-none-any.whl (5.9 kB)\n",
      "Collecting pluggy<2.0,>=0.12\n",
      "  Using cached pluggy-1.0.0-py2.py3-none-any.whl (13 kB)\n",
      "Requirement already satisfied: colorama in c:\\users\\razer\\anaconda3\\envs\\green_mamba\\lib\\site-packages (from pytest->pytest-shutil) (0.4.6)\n",
      "Collecting exceptiongroup>=1.0.0rc8\n",
      "  Using cached exceptiongroup-1.1.1-py3-none-any.whl (14 kB)\n",
      "Requirement already satisfied: attrs>=19.2.0 in c:\\users\\razer\\anaconda3\\envs\\green_mamba\\lib\\site-packages (from pytest->pytest-shutil) (22.1.0)\n",
      "Installing collected packages: termcolor, pluggy, path, mock, iniconfig, execnet, exceptiongroup, contextlib2, pytest, path.py, pytest-shutil\n",
      "Successfully installed contextlib2-21.6.0 exceptiongroup-1.1.1 execnet-1.9.0 iniconfig-2.0.0 mock-5.0.1 path-16.6.0 path.py-12.5.0 pluggy-1.0.0 pytest-7.2.2 pytest-shutil-1.7.0 termcolor-2.2.0\n"
     ]
    }
   ],
   "source": [
    "!pip install pytest-shutil"
   ]
  },
  {
   "cell_type": "code",
   "execution_count": 3,
   "id": "c43d7cbb-ce58-4bc1-96a3-2c03527b619f",
   "metadata": {},
   "outputs": [],
   "source": [
    "from glob import glob\n",
    "import shutil\n",
    "import os"
   ]
  },
  {
   "cell_type": "code",
   "execution_count": 25,
   "id": "cf40f1ff-b3ae-4101-842f-930fc406b2d8",
   "metadata": {},
   "outputs": [],
   "source": [
    "#d_initial = \"C:/Users/RAZER/Desktop/small_data/dicom_initial/labels\"\n",
    "\n",
    "#d_final = \"C:/Users/RAZER/Desktop/small_data/dicom_final/labels\"\n",
    "\n",
    "d_initial = \"C:/Users/RAZER/Desktop/small_data/dicom_initial/images\"\n",
    "\n",
    "d_final = \"C:/Users/RAZER/Desktop/small_data/dicom_final/images\""
   ]
  },
  {
   "cell_type": "code",
   "execution_count": 8,
   "id": "1b1aff74-4dbf-40a6-b46d-9623ff1a56de",
   "metadata": {},
   "outputs": [
    {
     "data": {
      "text/plain": [
       "['C:/Users/RAZER/Desktop/small_data/dicom_initial/labels\\\\labels_sleepen_2',\n",
       " 'C:/Users/RAZER/Desktop/small_data/dicom_initial/labels\\\\labels_sleepen_3']"
      ]
     },
     "execution_count": 8,
     "metadata": {},
     "output_type": "execute_result"
    }
   ],
   "source": [
    "glob(d_initial+\"/*\")"
   ]
  },
  {
   "cell_type": "code",
   "execution_count": 9,
   "id": "d59de192-00c2-4fc4-a00a-7db207e23a84",
   "metadata": {},
   "outputs": [
    {
     "name": "stdout",
     "output_type": "stream",
     "text": [
      "['C:/Users/RAZER/Desktop/small_data/dicom_initial/labels\\\\labels_sleepen_2\\\\IMG0001.dcm', 'C:/Users/RAZER/Desktop/small_data/dicom_initial/labels\\\\labels_sleepen_2\\\\IMG0002.dcm', 'C:/Users/RAZER/Desktop/small_data/dicom_initial/labels\\\\labels_sleepen_2\\\\IMG0003.dcm', 'C:/Users/RAZER/Desktop/small_data/dicom_initial/labels\\\\labels_sleepen_2\\\\IMG0004.dcm', 'C:/Users/RAZER/Desktop/small_data/dicom_initial/labels\\\\labels_sleepen_2\\\\IMG0005.dcm', 'C:/Users/RAZER/Desktop/small_data/dicom_initial/labels\\\\labels_sleepen_2\\\\IMG0006.dcm', 'C:/Users/RAZER/Desktop/small_data/dicom_initial/labels\\\\labels_sleepen_2\\\\IMG0007.dcm', 'C:/Users/RAZER/Desktop/small_data/dicom_initial/labels\\\\labels_sleepen_2\\\\IMG0008.dcm', 'C:/Users/RAZER/Desktop/small_data/dicom_initial/labels\\\\labels_sleepen_2\\\\IMG0009.dcm', 'C:/Users/RAZER/Desktop/small_data/dicom_initial/labels\\\\labels_sleepen_2\\\\IMG0010.dcm', 'C:/Users/RAZER/Desktop/small_data/dicom_initial/labels\\\\labels_sleepen_2\\\\IMG0011.dcm', 'C:/Users/RAZER/Desktop/small_data/dicom_initial/labels\\\\labels_sleepen_2\\\\IMG0012.dcm', 'C:/Users/RAZER/Desktop/small_data/dicom_initial/labels\\\\labels_sleepen_2\\\\IMG0013.dcm', 'C:/Users/RAZER/Desktop/small_data/dicom_initial/labels\\\\labels_sleepen_2\\\\IMG0014.dcm', 'C:/Users/RAZER/Desktop/small_data/dicom_initial/labels\\\\labels_sleepen_2\\\\IMG0015.dcm', 'C:/Users/RAZER/Desktop/small_data/dicom_initial/labels\\\\labels_sleepen_2\\\\IMG0016.dcm', 'C:/Users/RAZER/Desktop/small_data/dicom_initial/labels\\\\labels_sleepen_2\\\\IMG0017.dcm', 'C:/Users/RAZER/Desktop/small_data/dicom_initial/labels\\\\labels_sleepen_2\\\\IMG0018.dcm', 'C:/Users/RAZER/Desktop/small_data/dicom_initial/labels\\\\labels_sleepen_2\\\\IMG0019.dcm', 'C:/Users/RAZER/Desktop/small_data/dicom_initial/labels\\\\labels_sleepen_2\\\\IMG0020.dcm', 'C:/Users/RAZER/Desktop/small_data/dicom_initial/labels\\\\labels_sleepen_2\\\\IMG0021.dcm', 'C:/Users/RAZER/Desktop/small_data/dicom_initial/labels\\\\labels_sleepen_2\\\\IMG0022.dcm', 'C:/Users/RAZER/Desktop/small_data/dicom_initial/labels\\\\labels_sleepen_2\\\\IMG0023.dcm', 'C:/Users/RAZER/Desktop/small_data/dicom_initial/labels\\\\labels_sleepen_2\\\\IMG0024.dcm', 'C:/Users/RAZER/Desktop/small_data/dicom_initial/labels\\\\labels_sleepen_2\\\\IMG0025.dcm', 'C:/Users/RAZER/Desktop/small_data/dicom_initial/labels\\\\labels_sleepen_2\\\\IMG0026.dcm', 'C:/Users/RAZER/Desktop/small_data/dicom_initial/labels\\\\labels_sleepen_2\\\\IMG0027.dcm', 'C:/Users/RAZER/Desktop/small_data/dicom_initial/labels\\\\labels_sleepen_2\\\\IMG0028.dcm', 'C:/Users/RAZER/Desktop/small_data/dicom_initial/labels\\\\labels_sleepen_2\\\\IMG0029.dcm', 'C:/Users/RAZER/Desktop/small_data/dicom_initial/labels\\\\labels_sleepen_2\\\\IMG0030.dcm', 'C:/Users/RAZER/Desktop/small_data/dicom_initial/labels\\\\labels_sleepen_2\\\\IMG0031.dcm', 'C:/Users/RAZER/Desktop/small_data/dicom_initial/labels\\\\labels_sleepen_2\\\\IMG0032.dcm', 'C:/Users/RAZER/Desktop/small_data/dicom_initial/labels\\\\labels_sleepen_2\\\\IMG0033.dcm', 'C:/Users/RAZER/Desktop/small_data/dicom_initial/labels\\\\labels_sleepen_2\\\\IMG0034.dcm', 'C:/Users/RAZER/Desktop/small_data/dicom_initial/labels\\\\labels_sleepen_2\\\\IMG0035.dcm', 'C:/Users/RAZER/Desktop/small_data/dicom_initial/labels\\\\labels_sleepen_2\\\\IMG0036.dcm', 'C:/Users/RAZER/Desktop/small_data/dicom_initial/labels\\\\labels_sleepen_2\\\\IMG0037.dcm', 'C:/Users/RAZER/Desktop/small_data/dicom_initial/labels\\\\labels_sleepen_2\\\\IMG0038.dcm', 'C:/Users/RAZER/Desktop/small_data/dicom_initial/labels\\\\labels_sleepen_2\\\\IMG0039.dcm', 'C:/Users/RAZER/Desktop/small_data/dicom_initial/labels\\\\labels_sleepen_2\\\\IMG0040.dcm', 'C:/Users/RAZER/Desktop/small_data/dicom_initial/labels\\\\labels_sleepen_2\\\\IMG0041.dcm', 'C:/Users/RAZER/Desktop/small_data/dicom_initial/labels\\\\labels_sleepen_2\\\\IMG0042.dcm', 'C:/Users/RAZER/Desktop/small_data/dicom_initial/labels\\\\labels_sleepen_2\\\\IMG0043.dcm', 'C:/Users/RAZER/Desktop/small_data/dicom_initial/labels\\\\labels_sleepen_2\\\\IMG0044.dcm', 'C:/Users/RAZER/Desktop/small_data/dicom_initial/labels\\\\labels_sleepen_2\\\\IMG0045.dcm', 'C:/Users/RAZER/Desktop/small_data/dicom_initial/labels\\\\labels_sleepen_2\\\\IMG0046.dcm', 'C:/Users/RAZER/Desktop/small_data/dicom_initial/labels\\\\labels_sleepen_2\\\\IMG0047.dcm', 'C:/Users/RAZER/Desktop/small_data/dicom_initial/labels\\\\labels_sleepen_2\\\\IMG0048.dcm', 'C:/Users/RAZER/Desktop/small_data/dicom_initial/labels\\\\labels_sleepen_2\\\\IMG0049.dcm', 'C:/Users/RAZER/Desktop/small_data/dicom_initial/labels\\\\labels_sleepen_2\\\\IMG0050.dcm', 'C:/Users/RAZER/Desktop/small_data/dicom_initial/labels\\\\labels_sleepen_2\\\\IMG0051.dcm', 'C:/Users/RAZER/Desktop/small_data/dicom_initial/labels\\\\labels_sleepen_2\\\\IMG0052.dcm', 'C:/Users/RAZER/Desktop/small_data/dicom_initial/labels\\\\labels_sleepen_2\\\\IMG0053.dcm', 'C:/Users/RAZER/Desktop/small_data/dicom_initial/labels\\\\labels_sleepen_2\\\\IMG0054.dcm', 'C:/Users/RAZER/Desktop/small_data/dicom_initial/labels\\\\labels_sleepen_2\\\\IMG0055.dcm', 'C:/Users/RAZER/Desktop/small_data/dicom_initial/labels\\\\labels_sleepen_2\\\\IMG0056.dcm', 'C:/Users/RAZER/Desktop/small_data/dicom_initial/labels\\\\labels_sleepen_2\\\\IMG0057.dcm', 'C:/Users/RAZER/Desktop/small_data/dicom_initial/labels\\\\labels_sleepen_2\\\\IMG0058.dcm', 'C:/Users/RAZER/Desktop/small_data/dicom_initial/labels\\\\labels_sleepen_2\\\\IMG0059.dcm', 'C:/Users/RAZER/Desktop/small_data/dicom_initial/labels\\\\labels_sleepen_2\\\\IMG0060.dcm', 'C:/Users/RAZER/Desktop/small_data/dicom_initial/labels\\\\labels_sleepen_2\\\\IMG0061.dcm', 'C:/Users/RAZER/Desktop/small_data/dicom_initial/labels\\\\labels_sleepen_2\\\\IMG0062.dcm', 'C:/Users/RAZER/Desktop/small_data/dicom_initial/labels\\\\labels_sleepen_2\\\\IMG0063.dcm', 'C:/Users/RAZER/Desktop/small_data/dicom_initial/labels\\\\labels_sleepen_2\\\\IMG0064.dcm', 'C:/Users/RAZER/Desktop/small_data/dicom_initial/labels\\\\labels_sleepen_2\\\\IMG0065.dcm', 'C:/Users/RAZER/Desktop/small_data/dicom_initial/labels\\\\labels_sleepen_2\\\\IMG0066.dcm', 'C:/Users/RAZER/Desktop/small_data/dicom_initial/labels\\\\labels_sleepen_2\\\\IMG0067.dcm', 'C:/Users/RAZER/Desktop/small_data/dicom_initial/labels\\\\labels_sleepen_2\\\\IMG0068.dcm', 'C:/Users/RAZER/Desktop/small_data/dicom_initial/labels\\\\labels_sleepen_2\\\\IMG0069.dcm', 'C:/Users/RAZER/Desktop/small_data/dicom_initial/labels\\\\labels_sleepen_2\\\\IMG0070.dcm', 'C:/Users/RAZER/Desktop/small_data/dicom_initial/labels\\\\labels_sleepen_2\\\\IMG0071.dcm', 'C:/Users/RAZER/Desktop/small_data/dicom_initial/labels\\\\labels_sleepen_2\\\\IMG0072.dcm', 'C:/Users/RAZER/Desktop/small_data/dicom_initial/labels\\\\labels_sleepen_2\\\\IMG0073.dcm', 'C:/Users/RAZER/Desktop/small_data/dicom_initial/labels\\\\labels_sleepen_2\\\\IMG0074.dcm', 'C:/Users/RAZER/Desktop/small_data/dicom_initial/labels\\\\labels_sleepen_2\\\\IMG0075.dcm', 'C:/Users/RAZER/Desktop/small_data/dicom_initial/labels\\\\labels_sleepen_2\\\\IMG0076.dcm', 'C:/Users/RAZER/Desktop/small_data/dicom_initial/labels\\\\labels_sleepen_2\\\\IMG0077.dcm', 'C:/Users/RAZER/Desktop/small_data/dicom_initial/labels\\\\labels_sleepen_2\\\\IMG0078.dcm', 'C:/Users/RAZER/Desktop/small_data/dicom_initial/labels\\\\labels_sleepen_2\\\\IMG0079.dcm', 'C:/Users/RAZER/Desktop/small_data/dicom_initial/labels\\\\labels_sleepen_2\\\\IMG0080.dcm', 'C:/Users/RAZER/Desktop/small_data/dicom_initial/labels\\\\labels_sleepen_2\\\\IMG0081.dcm', 'C:/Users/RAZER/Desktop/small_data/dicom_initial/labels\\\\labels_sleepen_2\\\\IMG0082.dcm', 'C:/Users/RAZER/Desktop/small_data/dicom_initial/labels\\\\labels_sleepen_2\\\\IMG0083.dcm', 'C:/Users/RAZER/Desktop/small_data/dicom_initial/labels\\\\labels_sleepen_2\\\\IMG0084.dcm', 'C:/Users/RAZER/Desktop/small_data/dicom_initial/labels\\\\labels_sleepen_2\\\\IMG0085.dcm', 'C:/Users/RAZER/Desktop/small_data/dicom_initial/labels\\\\labels_sleepen_2\\\\IMG0086.dcm', 'C:/Users/RAZER/Desktop/small_data/dicom_initial/labels\\\\labels_sleepen_2\\\\IMG0087.dcm', 'C:/Users/RAZER/Desktop/small_data/dicom_initial/labels\\\\labels_sleepen_2\\\\IMG0088.dcm', 'C:/Users/RAZER/Desktop/small_data/dicom_initial/labels\\\\labels_sleepen_2\\\\IMG0089.dcm', 'C:/Users/RAZER/Desktop/small_data/dicom_initial/labels\\\\labels_sleepen_2\\\\IMG0090.dcm']\n"
     ]
    }
   ],
   "source": [
    "i = glob(d_initial+\"/*\")[0]\n",
    "\n",
    "print(glob(i+\"/*\"))"
   ]
  },
  {
   "cell_type": "code",
   "execution_count": 10,
   "id": "6cb7f839-1851-466e-b211-903170f22be0",
   "metadata": {},
   "outputs": [
    {
     "name": "stdout",
     "output_type": "stream",
     "text": [
      "90\n"
     ]
    }
   ],
   "source": [
    "print(len(glob(i+\"/*\")))"
   ]
  },
  {
   "cell_type": "code",
   "execution_count": 11,
   "id": "8fec8692-c525-4078-9b7e-e1875eb6dd11",
   "metadata": {},
   "outputs": [
    {
     "name": "stdout",
     "output_type": "stream",
     "text": [
      "['C:/Users/RAZER/Desktop/small_data/dicom_initial/labels\\\\labels_sleepen_3\\\\IMG0001.dcm', 'C:/Users/RAZER/Desktop/small_data/dicom_initial/labels\\\\labels_sleepen_3\\\\IMG0002.dcm', 'C:/Users/RAZER/Desktop/small_data/dicom_initial/labels\\\\labels_sleepen_3\\\\IMG0003.dcm', 'C:/Users/RAZER/Desktop/small_data/dicom_initial/labels\\\\labels_sleepen_3\\\\IMG0004.dcm', 'C:/Users/RAZER/Desktop/small_data/dicom_initial/labels\\\\labels_sleepen_3\\\\IMG0005.dcm', 'C:/Users/RAZER/Desktop/small_data/dicom_initial/labels\\\\labels_sleepen_3\\\\IMG0006.dcm', 'C:/Users/RAZER/Desktop/small_data/dicom_initial/labels\\\\labels_sleepen_3\\\\IMG0007.dcm', 'C:/Users/RAZER/Desktop/small_data/dicom_initial/labels\\\\labels_sleepen_3\\\\IMG0008.dcm', 'C:/Users/RAZER/Desktop/small_data/dicom_initial/labels\\\\labels_sleepen_3\\\\IMG0009.dcm', 'C:/Users/RAZER/Desktop/small_data/dicom_initial/labels\\\\labels_sleepen_3\\\\IMG0010.dcm', 'C:/Users/RAZER/Desktop/small_data/dicom_initial/labels\\\\labels_sleepen_3\\\\IMG0011.dcm', 'C:/Users/RAZER/Desktop/small_data/dicom_initial/labels\\\\labels_sleepen_3\\\\IMG0012.dcm', 'C:/Users/RAZER/Desktop/small_data/dicom_initial/labels\\\\labels_sleepen_3\\\\IMG0013.dcm', 'C:/Users/RAZER/Desktop/small_data/dicom_initial/labels\\\\labels_sleepen_3\\\\IMG0014.dcm', 'C:/Users/RAZER/Desktop/small_data/dicom_initial/labels\\\\labels_sleepen_3\\\\IMG0015.dcm', 'C:/Users/RAZER/Desktop/small_data/dicom_initial/labels\\\\labels_sleepen_3\\\\IMG0016.dcm', 'C:/Users/RAZER/Desktop/small_data/dicom_initial/labels\\\\labels_sleepen_3\\\\IMG0017.dcm', 'C:/Users/RAZER/Desktop/small_data/dicom_initial/labels\\\\labels_sleepen_3\\\\IMG0018.dcm', 'C:/Users/RAZER/Desktop/small_data/dicom_initial/labels\\\\labels_sleepen_3\\\\IMG0019.dcm', 'C:/Users/RAZER/Desktop/small_data/dicom_initial/labels\\\\labels_sleepen_3\\\\IMG0020.dcm', 'C:/Users/RAZER/Desktop/small_data/dicom_initial/labels\\\\labels_sleepen_3\\\\IMG0021.dcm', 'C:/Users/RAZER/Desktop/small_data/dicom_initial/labels\\\\labels_sleepen_3\\\\IMG0022.dcm', 'C:/Users/RAZER/Desktop/small_data/dicom_initial/labels\\\\labels_sleepen_3\\\\IMG0023.dcm', 'C:/Users/RAZER/Desktop/small_data/dicom_initial/labels\\\\labels_sleepen_3\\\\IMG0024.dcm', 'C:/Users/RAZER/Desktop/small_data/dicom_initial/labels\\\\labels_sleepen_3\\\\IMG0025.dcm', 'C:/Users/RAZER/Desktop/small_data/dicom_initial/labels\\\\labels_sleepen_3\\\\IMG0026.dcm', 'C:/Users/RAZER/Desktop/small_data/dicom_initial/labels\\\\labels_sleepen_3\\\\IMG0027.dcm', 'C:/Users/RAZER/Desktop/small_data/dicom_initial/labels\\\\labels_sleepen_3\\\\IMG0028.dcm', 'C:/Users/RAZER/Desktop/small_data/dicom_initial/labels\\\\labels_sleepen_3\\\\IMG0029.dcm', 'C:/Users/RAZER/Desktop/small_data/dicom_initial/labels\\\\labels_sleepen_3\\\\IMG0030.dcm', 'C:/Users/RAZER/Desktop/small_data/dicom_initial/labels\\\\labels_sleepen_3\\\\IMG0031.dcm', 'C:/Users/RAZER/Desktop/small_data/dicom_initial/labels\\\\labels_sleepen_3\\\\IMG0032.dcm', 'C:/Users/RAZER/Desktop/small_data/dicom_initial/labels\\\\labels_sleepen_3\\\\IMG0033.dcm', 'C:/Users/RAZER/Desktop/small_data/dicom_initial/labels\\\\labels_sleepen_3\\\\IMG0034.dcm', 'C:/Users/RAZER/Desktop/small_data/dicom_initial/labels\\\\labels_sleepen_3\\\\IMG0035.dcm', 'C:/Users/RAZER/Desktop/small_data/dicom_initial/labels\\\\labels_sleepen_3\\\\IMG0036.dcm', 'C:/Users/RAZER/Desktop/small_data/dicom_initial/labels\\\\labels_sleepen_3\\\\IMG0037.dcm', 'C:/Users/RAZER/Desktop/small_data/dicom_initial/labels\\\\labels_sleepen_3\\\\IMG0038.dcm', 'C:/Users/RAZER/Desktop/small_data/dicom_initial/labels\\\\labels_sleepen_3\\\\IMG0039.dcm', 'C:/Users/RAZER/Desktop/small_data/dicom_initial/labels\\\\labels_sleepen_3\\\\IMG0040.dcm']\n"
     ]
    }
   ],
   "source": [
    "i = glob(d_initial+\"/*\")[1]\n",
    "\n",
    "print(glob(i+\"/*\"))"
   ]
  },
  {
   "cell_type": "code",
   "execution_count": 12,
   "id": "c3429f0d-b98b-44e0-b4c8-3c4e26312f5a",
   "metadata": {},
   "outputs": [
    {
     "name": "stdout",
     "output_type": "stream",
     "text": [
      "40\n"
     ]
    }
   ],
   "source": [
    "print(len(glob(i+\"/*\")))"
   ]
  },
  {
   "cell_type": "code",
   "execution_count": 26,
   "id": "dc85eb25-9c79-4f42-9d5e-73e16ea4ed05",
   "metadata": {},
   "outputs": [
    {
     "name": "stdout",
     "output_type": "stream",
     "text": [
      "Entered->  C:/Users/RAZER/Desktop/small_data/dicom_initial/images\\images_sleepen_2\n",
      "images_sleepen_2\n",
      "2\n",
      "C:/Users/RAZER/Desktop/small_data/dicom_final/images\\images_sleepen_2_1\n",
      "C:/Users/RAZER/Desktop/small_data/dicom_final/images\\images_sleepen_2_2\n",
      "Entered->  C:/Users/RAZER/Desktop/small_data/dicom_initial/images\\images_sleepen_3\n",
      "images_sleepen_3\n",
      "1\n",
      "C:/Users/RAZER/Desktop/small_data/dicom_final/images\\images_sleepen_3_1\n"
     ]
    }
   ],
   "source": [
    "number_of_slice = 40\n",
    "\n",
    "\n",
    "\n",
    "for i in glob(d_initial+\"/*\"):\n",
    "    print(\"Entered-> \",i)\n",
    "    \n",
    "    folder_name = os.path.basename(os.path.normpath(i))\n",
    "    number_of_folder = int(len(glob(i+\"/*\"))/number_of_slice)\n",
    "    print(folder_name)\n",
    "    print(number_of_folder)\n",
    "    \n",
    "    for j in range(1,number_of_folder+1):\n",
    "        new_dir = os.path.join(d_final, folder_name+\"_\"+str(j))\n",
    "        print(new_dir)\n",
    "        \n",
    "        os.mkdir(new_dir)\n",
    "        \n",
    "        k = 0\n",
    "        for l in glob(i+\"/*\"):\n",
    "            if k == number_of_slice:\n",
    "                break\n",
    "            \n",
    "            #shutil.copy(l,new_dir)\n",
    "            shutil.move(l,new_dir)\n",
    "            k+=1\n",
    "            \n",
    "    \n",
    "    "
   ]
  },
  {
   "cell_type": "markdown",
   "id": "a954a5b4-d0dc-40db-bea6-f7a0fc55edca",
   "metadata": {},
   "source": [
    "#Convert to nifti"
   ]
  },
  {
   "cell_type": "code",
   "execution_count": 27,
   "id": "d9dea828-1b49-4d23-81b7-da7f642353ad",
   "metadata": {},
   "outputs": [
    {
     "name": "stdout",
     "output_type": "stream",
     "text": [
      "Collecting dicom2nifti\n",
      "  Using cached dicom2nifti-2.4.8-py3-none-any.whl (43 kB)\n",
      "Collecting scipy\n",
      "  Using cached scipy-1.10.1-cp38-cp38-win_amd64.whl (42.2 MB)\n",
      "Collecting python-gdcm\n",
      "  Using cached python_gdcm-3.0.21-cp38-cp38-win_amd64.whl (27.2 MB)\n",
      "Collecting numpy\n",
      "  Using cached numpy-1.24.2-cp38-cp38-win_amd64.whl (14.9 MB)\n",
      "Collecting pydicom>=2.2.0\n",
      "  Using cached pydicom-2.3.1-py3-none-any.whl (2.0 MB)\n",
      "Collecting nibabel\n",
      "  Using cached nibabel-5.0.1-py3-none-any.whl (3.3 MB)\n",
      "Requirement already satisfied: setuptools in c:\\users\\razer\\anaconda3\\envs\\green_mamba\\lib\\site-packages (from nibabel->dicom2nifti) (65.6.3)\n",
      "Requirement already satisfied: packaging>=17 in c:\\users\\razer\\anaconda3\\envs\\green_mamba\\lib\\site-packages (from nibabel->dicom2nifti) (23.0)\n",
      "Installing collected packages: python-gdcm, pydicom, numpy, scipy, nibabel, dicom2nifti\n",
      "Successfully installed dicom2nifti-2.4.8 nibabel-5.0.1 numpy-1.24.2 pydicom-2.3.1 python-gdcm-3.0.21 scipy-1.10.1\n"
     ]
    }
   ],
   "source": [
    "!pip install dicom2nifti"
   ]
  },
  {
   "cell_type": "code",
   "execution_count": 28,
   "id": "b3ca2ce9-a677-44e3-b713-63b103963e78",
   "metadata": {},
   "outputs": [],
   "source": [
    "import dicom2nifti as dn"
   ]
  },
  {
   "cell_type": "code",
   "execution_count": 38,
   "id": "bae7ab54-0e3e-4fe2-a440-f1c9fb9b6c79",
   "metadata": {},
   "outputs": [],
   "source": [
    "#dicom_path = \"C:/Users/RAZER/Desktop/small_data/dicom_final/labels/*\"\n",
    "\n",
    "#nifti_path = \"C:/Users/RAZER/Desktop/small_data/nifi_inital/labels\"\n",
    "\n",
    "\n",
    "dicom_path = \"C:/Users/RAZER/Desktop/small_data/dicom_final/images/*\"\n",
    "\n",
    "nifti_path = \"C:/Users/RAZER/Desktop/small_data/nifi_inital/images\""
   ]
  },
  {
   "cell_type": "code",
   "execution_count": 39,
   "id": "8c34daf4-474d-4304-b29b-b2b66629450a",
   "metadata": {},
   "outputs": [],
   "source": [
    "folder_list = glob(dicom_path)\n",
    "\n",
    "#print(folder_list)\n",
    "\n",
    "for i in folder_list:\n",
    "    folder_name = os.path.basename(os.path.normpath(i))\n",
    "    \n",
    "    dn.dicom_series_to_nifti(i,os.path.join(nifti_path,folder_name+\".nii.gz\"))"
   ]
  },
  {
   "cell_type": "markdown",
   "id": "891cd574-3e37-40b5-b6f7-8c53eaab3e3f",
   "metadata": {},
   "source": [
    "#Find NUll"
   ]
  },
  {
   "cell_type": "code",
   "execution_count": 40,
   "id": "52a59f0e-588f-4e58-af9e-b6ad4edf0729",
   "metadata": {},
   "outputs": [
    {
     "name": "stdout",
     "output_type": "stream",
     "text": [
      "Requirement already satisfied: nibabel in c:\\users\\razer\\anaconda3\\envs\\green_mamba\\lib\\site-packages (5.0.1)\n",
      "Requirement already satisfied: packaging>=17 in c:\\users\\razer\\anaconda3\\envs\\green_mamba\\lib\\site-packages (from nibabel) (23.0)\n",
      "Requirement already satisfied: numpy>=1.19 in c:\\users\\razer\\anaconda3\\envs\\green_mamba\\lib\\site-packages (from nibabel) (1.24.2)\n",
      "Requirement already satisfied: setuptools in c:\\users\\razer\\anaconda3\\envs\\green_mamba\\lib\\site-packages (from nibabel) (65.6.3)\n"
     ]
    }
   ],
   "source": [
    "!pip install nibabel"
   ]
  },
  {
   "cell_type": "code",
   "execution_count": 41,
   "id": "ab836d2d-737b-40a7-b35c-f074923f6675",
   "metadata": {},
   "outputs": [],
   "source": [
    "import nibabel as nb\n",
    "\n",
    "import numpy as np"
   ]
  },
  {
   "cell_type": "code",
   "execution_count": 42,
   "id": "f32c7216-31ae-4045-9c06-f0d770a567bb",
   "metadata": {},
   "outputs": [],
   "source": [
    "path_of = \"C:/Users/RAZER/Desktop/small_data/nifi_inital/labels/*\""
   ]
  },
  {
   "cell_type": "code",
   "execution_count": 45,
   "id": "a378efaa-8bee-4095-a47a-e8eba77c9b0f",
   "metadata": {},
   "outputs": [
    {
     "name": "stdout",
     "output_type": "stream",
     "text": [
      "[0.]\n",
      "[0. 1.]\n",
      "[0. 1.]\n"
     ]
    }
   ],
   "source": [
    "list_of_null=[]\n",
    "\n",
    "for i in glob(path_of):\n",
    "    nifti = nb.load(i)\n",
    "    \n",
    "    frame_data = nifti.get_fdata()\n",
    "    #print(frame_data)\n",
    "    \n",
    "    uniq = np.unique(frame_data)\n",
    "    print(uniq)\n",
    "    if len(uniq) ==1:\n",
    "        list_of_null.append(i)"
   ]
  },
  {
   "cell_type": "code",
   "execution_count": 46,
   "id": "d8f7b365-af35-48e7-987a-7a19f2a9a911",
   "metadata": {},
   "outputs": [
    {
     "data": {
      "text/plain": [
       "['C:/Users/RAZER/Desktop/small_data/nifi_inital/labels\\\\labels_sleepen_2_1.nii.gz']"
      ]
     },
     "execution_count": 46,
     "metadata": {},
     "output_type": "execute_result"
    }
   ],
   "source": [
    "list_of_null"
   ]
  },
  {
   "cell_type": "code",
   "execution_count": null,
   "id": "5b5e8b43-8838-440d-a6d0-b4a941ca87e4",
   "metadata": {},
   "outputs": [],
   "source": []
  }
 ],
 "metadata": {
  "kernelspec": {
   "display_name": "Python 3 (ipykernel)",
   "language": "python",
   "name": "python3"
  },
  "language_info": {
   "codemirror_mode": {
    "name": "ipython",
    "version": 3
   },
   "file_extension": ".py",
   "mimetype": "text/x-python",
   "name": "python",
   "nbconvert_exporter": "python",
   "pygments_lexer": "ipython3",
   "version": "3.8.16"
  }
 },
 "nbformat": 4,
 "nbformat_minor": 5
}
