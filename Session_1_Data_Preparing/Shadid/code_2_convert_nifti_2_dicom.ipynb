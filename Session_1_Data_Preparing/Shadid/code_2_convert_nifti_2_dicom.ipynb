{
 "cells": [
  {
   "cell_type": "code",
   "execution_count": 2,
   "id": "9cd77221-14e3-4007-ba14-386550341e26",
   "metadata": {},
   "outputs": [
    {
     "name": "stdout",
     "output_type": "stream",
     "text": [
      "Collecting SimpleITK\n",
      "  Downloading SimpleITK-2.2.1-cp310-cp310-win_amd64.whl (27.0 MB)\n",
      "     ---------------------------------------- 27.0/27.0 MB 1.4 MB/s eta 0:00:00\n",
      "Installing collected packages: SimpleITK\n",
      "Successfully installed SimpleITK-2.2.1\n"
     ]
    }
   ],
   "source": [
    "!pip install SimpleITK"
   ]
  },
  {
   "cell_type": "code",
   "execution_count": 9,
   "id": "d0b05f99-cb60-49a6-9932-a2590e99d4b5",
   "metadata": {},
   "outputs": [],
   "source": [
    "import SimpleITK as sitk\n",
    "import os\n",
    "import time\n",
    "from glob import glob\n"
   ]
  },
  {
   "cell_type": "code",
   "execution_count": 10,
   "id": "74f22c36-e873-446a-934a-aab71a9b1a7f",
   "metadata": {},
   "outputs": [],
   "source": [
    "def writeSlices(series_tag_values, new_img, i, out_dir):\n",
    "    image_slice = new_img[:,:,i]\n",
    "    writer = sitk.ImageFileWriter()\n",
    "    writer.KeepOriginalImageUIDOn()\n",
    "\n",
    "    # Tags shared by the series.\n",
    "    list(map(lambda tag_value: image_slice.SetMetaData(tag_value[0], tag_value[1]), series_tag_values))\n",
    "\n",
    "    # Slice specific tags.\n",
    "    image_slice.SetMetaData(\"0008|0012\", time.strftime(\"%Y%m%d\")) # Instance Creation Date\n",
    "    image_slice.SetMetaData(\"0008|0013\", time.strftime(\"%H%M%S\")) # Instance Creation Time\n",
    "\n",
    "    # Setting the type to CT preserves the slice location.\n",
    "    image_slice.SetMetaData(\"0008|0060\", \"CT\")  # set the type to CT so the thickness is carried over\n",
    "\n",
    "    # (0020, 0032) image position patient determines the 3D spacing between slices.\n",
    "    image_slice.SetMetaData(\"0020|0032\", '\\\\'.join(map(str,new_img.TransformIndexToPhysicalPoint((0,0,i))))) # Image Position (Patient)\n",
    "    image_slice.SetMetaData(\"0020,0013\", str(i)) # Instance Number\n",
    "\n",
    "    # Write to the output directory and add the extension dcm, to force writing in DICOM format.\n",
    "    writer.SetFileName(os.path.join(out_dir,'slice' + str(i).zfill(4) + '.dcm'))\n",
    "    writer.Execute(image_slice)"
   ]
  },
  {
   "cell_type": "code",
   "execution_count": 11,
   "id": "3a4dd075-6a9c-4e69-878e-573395acad5a",
   "metadata": {},
   "outputs": [],
   "source": [
    "def nifti2dicom_1file(in_dir, out_dir):\n",
    "    \"\"\"\n",
    "    This function is to convert only one nifti file into dicom series\n",
    "    `nifti_dir`: the path to the one nifti file\n",
    "    `out_dir`: the path to output\n",
    "    \"\"\"\n",
    "\n",
    "    os.makedirs(out_dir, exist_ok=True)\n",
    "\n",
    "    new_img = sitk.ReadImage(in_dir) \n",
    "    modification_time = time.strftime(\"%H%M%S\")\n",
    "    modification_date = time.strftime(\"%Y%m%d\")\n",
    "\n",
    "    direction = new_img.GetDirection()\n",
    "    series_tag_values = [(\"0008|0031\",modification_time), # Series Time\n",
    "                    (\"0008|0021\",modification_date), # Series Date\n",
    "                    (\"0008|0008\",\"DERIVED\\\\SECONDARY\"), # Image Type\n",
    "                    (\"0020|000e\", \"1.2.826.0.1.3680043.2.1125.\"+modification_date+\".1\"+modification_time), # Series Instance UID\n",
    "                    (\"0020|0037\", '\\\\'.join(map(str, (direction[0], direction[3], direction[6],# Image Orientation (Patient)\n",
    "                                                        direction[1],direction[4],direction[7])))),\n",
    "                    (\"0008|103e\", \"Created-Pycad\")] # Series Description\n",
    "\n",
    "    # Write slices to output directory\n",
    "    list(map(lambda i: writeSlices(series_tag_values, new_img, i, out_dir), range(new_img.GetDepth())))"
   ]
  },
  {
   "cell_type": "code",
   "execution_count": 12,
   "id": "1703ed67-454a-4e8a-a4ad-f09622479fef",
   "metadata": {},
   "outputs": [],
   "source": [
    "\n",
    "out_dir = \"E:/Thesis/Experiment/final\"\n",
    "in_dir = \"E:/Thesis\\Experiment/nifty_ini/labels_spleen_2.nii\"\n",
    "\n",
    "\n",
    "nifti2dicom_1file(in_dir , out_dir)"
   ]
  },
  {
   "cell_type": "code",
   "execution_count": 13,
   "id": "f976bd6a-ca0a-4898-ac7c-3d4f7a566958",
   "metadata": {},
   "outputs": [],
   "source": [
    "def nifti2dicom_mfiles(nifti_dir, out_dir=''):\n",
    "    \"\"\"\n",
    "    This function is to convert multiple nifti files into dicom files\n",
    "    `nifti_dir`: You enter the global path to all of the nifti files here.\n",
    "    `out_dir`: Put the path to where you want to save all the dicoms here.\n",
    "    PS: Each nifti file's folders will be created automatically, so you do not need to create an empty folder for each patient.\n",
    "    \"\"\"\n",
    "\n",
    "    images = glob(nifti_dir + '/*.nii.gz')\n",
    "\n",
    "    for image in images:\n",
    "        o_path = out_dir + '/' + os.path.basename(image)[:-7]\n",
    "        os.makedirs(o_path, exist_ok=True)\n",
    "\n",
    "        nifti2dicom_1file(image, o_path)"
   ]
  },
  {
   "cell_type": "code",
   "execution_count": 15,
   "id": "f1714a24-8a2e-4955-a7ef-2c45e960cffd",
   "metadata": {},
   "outputs": [],
   "source": [
    "out_dir = \"E:/Thesis/Experiment/final\"\n",
    "in_dir = \"E:/Thesis\\Experiment/nifty_ini\"\n",
    "\n",
    "nifti2dicom_mfiles(in_dir, out_dir)"
   ]
  },
  {
   "cell_type": "code",
   "execution_count": null,
   "id": "0f7fe8f7-2126-479e-b46d-fee8de036eb2",
   "metadata": {},
   "outputs": [],
   "source": []
  }
 ],
 "metadata": {
  "kernelspec": {
   "display_name": "Python 3 (ipykernel)",
   "language": "python",
   "name": "python3"
  },
  "language_info": {
   "codemirror_mode": {
    "name": "ipython",
    "version": 3
   },
   "file_extension": ".py",
   "mimetype": "text/x-python",
   "name": "python",
   "nbconvert_exporter": "python",
   "pygments_lexer": "ipython3",
   "version": "3.10.9"
  }
 },
 "nbformat": 4,
 "nbformat_minor": 5
}
