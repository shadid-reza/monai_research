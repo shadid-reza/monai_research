{
 "cells": [
  {
   "cell_type": "code",
   "execution_count": 1,
   "id": "21f2048f-781e-498e-9dfe-3152c1f27b1f",
   "metadata": {},
   "outputs": [
    {
     "name": "stdout",
     "output_type": "stream",
     "text": [
      "Requirement already satisfied: glob2 in c:\\users\\hmsha\\anaconda3\\envs\\monai_works\\lib\\site-packages (0.7)\n",
      "Requirement already satisfied: ipywidgets in c:\\users\\hmsha\\anaconda3\\envs\\monai_works\\lib\\site-packages (8.1.0)\n",
      "Requirement already satisfied: traitlets>=4.3.1 in c:\\users\\hmsha\\anaconda3\\envs\\monai_works\\lib\\site-packages (from ipywidgets) (5.7.1)\n",
      "Requirement already satisfied: widgetsnbextension~=4.0.7 in c:\\users\\hmsha\\anaconda3\\envs\\monai_works\\lib\\site-packages (from ipywidgets) (4.0.8)\n",
      "Requirement already satisfied: ipython>=6.1.0 in c:\\users\\hmsha\\anaconda3\\envs\\monai_works\\lib\\site-packages (from ipywidgets) (8.12.0)\n",
      "Requirement already satisfied: comm>=0.1.3 in c:\\users\\hmsha\\anaconda3\\envs\\monai_works\\lib\\site-packages (from ipywidgets) (0.1.4)\n",
      "Requirement already satisfied: jupyterlab-widgets~=3.0.7 in c:\\users\\hmsha\\anaconda3\\envs\\monai_works\\lib\\site-packages (from ipywidgets) (3.0.8)\n",
      "Requirement already satisfied: pygments>=2.4.0 in c:\\users\\hmsha\\anaconda3\\envs\\monai_works\\lib\\site-packages (from ipython>=6.1.0->ipywidgets) (2.11.2)\n",
      "Requirement already satisfied: matplotlib-inline in c:\\users\\hmsha\\anaconda3\\envs\\monai_works\\lib\\site-packages (from ipython>=6.1.0->ipywidgets) (0.1.6)\n",
      "Requirement already satisfied: colorama in c:\\users\\hmsha\\anaconda3\\envs\\monai_works\\lib\\site-packages (from ipython>=6.1.0->ipywidgets) (0.4.6)\n",
      "Requirement already satisfied: pickleshare in c:\\users\\hmsha\\anaconda3\\envs\\monai_works\\lib\\site-packages (from ipython>=6.1.0->ipywidgets) (0.7.5)\n",
      "Requirement already satisfied: decorator in c:\\users\\hmsha\\anaconda3\\envs\\monai_works\\lib\\site-packages (from ipython>=6.1.0->ipywidgets) (5.1.1)\n",
      "Requirement already satisfied: prompt-toolkit!=3.0.37,<3.1.0,>=3.0.30 in c:\\users\\hmsha\\anaconda3\\envs\\monai_works\\lib\\site-packages (from ipython>=6.1.0->ipywidgets) (3.0.36)\n",
      "Requirement already satisfied: typing-extensions in c:\\users\\hmsha\\anaconda3\\envs\\monai_works\\lib\\site-packages (from ipython>=6.1.0->ipywidgets) (4.4.0)\n",
      "Requirement already satisfied: jedi>=0.16 in c:\\users\\hmsha\\anaconda3\\envs\\monai_works\\lib\\site-packages (from ipython>=6.1.0->ipywidgets) (0.18.1)\n",
      "Requirement already satisfied: backcall in c:\\users\\hmsha\\anaconda3\\envs\\monai_works\\lib\\site-packages (from ipython>=6.1.0->ipywidgets) (0.2.0)\n",
      "Requirement already satisfied: stack-data in c:\\users\\hmsha\\anaconda3\\envs\\monai_works\\lib\\site-packages (from ipython>=6.1.0->ipywidgets) (0.2.0)\n",
      "Requirement already satisfied: parso<0.9.0,>=0.8.0 in c:\\users\\hmsha\\anaconda3\\envs\\monai_works\\lib\\site-packages (from jedi>=0.16->ipython>=6.1.0->ipywidgets) (0.8.3)\n",
      "Requirement already satisfied: wcwidth in c:\\users\\hmsha\\anaconda3\\envs\\monai_works\\lib\\site-packages (from prompt-toolkit!=3.0.37,<3.1.0,>=3.0.30->ipython>=6.1.0->ipywidgets) (0.2.5)\n",
      "Requirement already satisfied: pure-eval in c:\\users\\hmsha\\anaconda3\\envs\\monai_works\\lib\\site-packages (from stack-data->ipython>=6.1.0->ipywidgets) (0.2.2)\n",
      "Requirement already satisfied: asttokens in c:\\users\\hmsha\\anaconda3\\envs\\monai_works\\lib\\site-packages (from stack-data->ipython>=6.1.0->ipywidgets) (2.0.5)\n",
      "Requirement already satisfied: executing in c:\\users\\hmsha\\anaconda3\\envs\\monai_works\\lib\\site-packages (from stack-data->ipython>=6.1.0->ipywidgets) (0.8.3)\n",
      "Requirement already satisfied: six in c:\\users\\hmsha\\anaconda3\\envs\\monai_works\\lib\\site-packages (from asttokens->stack-data->ipython>=6.1.0->ipywidgets) (1.16.0)\n"
     ]
    }
   ],
   "source": [
    "!pip install glob2\n",
    "!pip install ipywidgets"
   ]
  },
  {
   "cell_type": "code",
   "execution_count": 2,
   "id": "58d34a20-d470-4535-8bd8-c7cd4f7d5224",
   "metadata": {},
   "outputs": [],
   "source": [
    "import os\n",
    "from glob import glob\n",
    "from tqdm.notebook import tqdm\n"
   ]
  },
  {
   "cell_type": "markdown",
   "id": "a28e39d0-aba5-43f0-b600-21849ba0825a",
   "metadata": {
    "tags": []
   },
   "source": [
    "# Folder Management\n"
   ]
  },
  {
   "cell_type": "code",
   "execution_count": 3,
   "id": "76fe38ed-3561-4f7b-8418-e6e9dc2e6856",
   "metadata": {},
   "outputs": [],
   "source": [
    "data_dir = \"E:/Thesis/Work\"\n",
    "\n",
    "train_images = sorted(glob(os.path.join(data_dir, 'imagesTr' ,\"*.nii.gz\")))\n",
    "test_images = sorted(glob(os.path.join(data_dir, 'imagesTs',\"*.nii.gz\")))\n",
    "\n",
    "train_labels = sorted(glob(os.path.join(data_dir, 'labelsTr',\"*.nii.gz\")))\n",
    "test_labels = sorted(glob(os.path.join(data_dir, 'labelsTs',\"*.nii.gz\")))"
   ]
  },
  {
   "cell_type": "code",
   "execution_count": 4,
   "id": "405b875d-8ff6-4153-a566-d3b9a6a6da4e",
   "metadata": {},
   "outputs": [
    {
     "data": {
      "text/plain": [
       "['E:/Thesis/Work\\\\imagesTr\\\\images_spleen_10_1.nii.gz',\n",
       " 'E:/Thesis/Work\\\\imagesTr\\\\images_spleen_12_1.nii.gz',\n",
       " 'E:/Thesis/Work\\\\imagesTr\\\\images_spleen_12_2.nii.gz',\n",
       " 'E:/Thesis/Work\\\\imagesTr\\\\images_spleen_12_3.nii.gz',\n",
       " 'E:/Thesis/Work\\\\imagesTr\\\\images_spleen_12_4.nii.gz',\n",
       " 'E:/Thesis/Work\\\\imagesTr\\\\images_spleen_12_5.nii.gz',\n",
       " 'E:/Thesis/Work\\\\imagesTr\\\\images_spleen_2_1.nii.gz',\n",
       " 'E:/Thesis/Work\\\\imagesTr\\\\images_spleen_2_2.nii.gz',\n",
       " 'E:/Thesis/Work\\\\imagesTr\\\\images_spleen_3_1.nii.gz',\n",
       " 'E:/Thesis/Work\\\\imagesTr\\\\images_spleen_6_1.nii.gz',\n",
       " 'E:/Thesis/Work\\\\imagesTr\\\\images_spleen_6_2.nii.gz',\n",
       " 'E:/Thesis/Work\\\\imagesTr\\\\images_spleen_6_3.nii.gz',\n",
       " 'E:/Thesis/Work\\\\imagesTr\\\\images_spleen_6_4.nii.gz',\n",
       " 'E:/Thesis/Work\\\\imagesTr\\\\images_spleen_8_1.nii.gz',\n",
       " 'E:/Thesis/Work\\\\imagesTr\\\\images_spleen_9_1.nii.gz']"
      ]
     },
     "execution_count": 4,
     "metadata": {},
     "output_type": "execute_result"
    }
   ],
   "source": [
    "train_images"
   ]
  },
  {
   "cell_type": "code",
   "execution_count": 5,
   "id": "1a175576-a0c0-44b0-a287-b44275cba076",
   "metadata": {},
   "outputs": [
    {
     "data": {
      "text/plain": [
       "['E:/Thesis/Work\\\\imagesTs\\\\images_spleen_13_1.nii.gz',\n",
       " 'E:/Thesis/Work\\\\imagesTs\\\\images_spleen_13_2.nii.gz',\n",
       " 'E:/Thesis/Work\\\\imagesTs\\\\images_spleen_14_1.nii.gz']"
      ]
     },
     "execution_count": 5,
     "metadata": {},
     "output_type": "execute_result"
    }
   ],
   "source": [
    "test_images"
   ]
  },
  {
   "cell_type": "code",
   "execution_count": 6,
   "id": "24011285-4d79-448a-b0fe-db8d11adec1e",
   "metadata": {},
   "outputs": [
    {
     "data": {
      "text/plain": [
       "['E:/Thesis/Work\\\\labelsTr\\\\labels_spleen_10_1.nii.gz',\n",
       " 'E:/Thesis/Work\\\\labelsTr\\\\labels_spleen_12_1.nii.gz',\n",
       " 'E:/Thesis/Work\\\\labelsTr\\\\labels_spleen_12_2.nii.gz',\n",
       " 'E:/Thesis/Work\\\\labelsTr\\\\labels_spleen_12_3.nii.gz',\n",
       " 'E:/Thesis/Work\\\\labelsTr\\\\labels_spleen_12_4.nii.gz',\n",
       " 'E:/Thesis/Work\\\\labelsTr\\\\labels_spleen_12_5.nii.gz',\n",
       " 'E:/Thesis/Work\\\\labelsTr\\\\labels_spleen_2_1.nii.gz',\n",
       " 'E:/Thesis/Work\\\\labelsTr\\\\labels_spleen_2_2.nii.gz',\n",
       " 'E:/Thesis/Work\\\\labelsTr\\\\labels_spleen_3_1.nii.gz',\n",
       " 'E:/Thesis/Work\\\\labelsTr\\\\labels_spleen_6_1.nii.gz',\n",
       " 'E:/Thesis/Work\\\\labelsTr\\\\labels_spleen_6_2.nii.gz',\n",
       " 'E:/Thesis/Work\\\\labelsTr\\\\labels_spleen_6_3.nii.gz',\n",
       " 'E:/Thesis/Work\\\\labelsTr\\\\labels_spleen_6_4.nii.gz',\n",
       " 'E:/Thesis/Work\\\\labelsTr\\\\labels_spleen_8_1.nii.gz',\n",
       " 'E:/Thesis/Work\\\\labelsTr\\\\labels_spleen_9_1.nii.gz']"
      ]
     },
     "execution_count": 6,
     "metadata": {},
     "output_type": "execute_result"
    }
   ],
   "source": [
    "train_labels"
   ]
  },
  {
   "cell_type": "markdown",
   "id": "ea99d2ef-a938-4372-84a7-c6f6d71e5b8c",
   "metadata": {},
   "source": [
    "## Making a list of dictionary where each dictionary will have single set of image and label"
   ]
  },
  {
   "cell_type": "code",
   "execution_count": 7,
   "id": "7c1795af-6ff3-41d0-a78d-707c816dbb01",
   "metadata": {},
   "outputs": [],
   "source": [
    "def train_test_list(images,labels):\n",
    "    f=[]\n",
    "    if len(images)!=len(labels):\n",
    "        return \"Invalid Length\"\n",
    "    \n",
    "    for i in tqdm(range(len(images))):\n",
    "                   d = {'image': images[i],\"label\":labels[i]}\n",
    "                   f.append(d)\n",
    "    return f"
   ]
  },
  {
   "cell_type": "code",
   "execution_count": 8,
   "id": "4e44e065-6077-4626-8dce-90e5f2f9f1a0",
   "metadata": {},
   "outputs": [
    {
     "data": {
      "application/vnd.jupyter.widget-view+json": {
       "model_id": "7458abf68d9b433781df3dfcda6e3895",
       "version_major": 2,
       "version_minor": 0
      },
      "text/plain": [
       "  0%|          | 0/15 [00:00<?, ?it/s]"
      ]
     },
     "metadata": {},
     "output_type": "display_data"
    },
    {
     "data": {
      "application/vnd.jupyter.widget-view+json": {
       "model_id": "ae4847df6b384aa885e52a3c13495ab4",
       "version_major": 2,
       "version_minor": 0
      },
      "text/plain": [
       "  0%|          | 0/3 [00:00<?, ?it/s]"
      ]
     },
     "metadata": {},
     "output_type": "display_data"
    }
   ],
   "source": [
    "train_files = train_test_list(train_images,train_labels)\n",
    "test_files = train_test_list(test_images,test_labels)         "
   ]
  },
  {
   "cell_type": "code",
   "execution_count": 9,
   "id": "9cd272cb-3feb-400e-bd7f-5e499c66b0d1",
   "metadata": {},
   "outputs": [],
   "source": [
    "def check_train_test_list(files):\n",
    "    for i in tqdm(files):\n",
    "        img = os.path.basename(os.path.normpath(i['image']))\n",
    "        lab = os.path.basename(os.path.normpath(i['label'])) \n",
    "        img_ = img.split(\"_\", 1)\n",
    "        lab_ = lab.split(\"_\", 1)\n",
    "        img_suffix = img_[1]\n",
    "        lab_suffix = lab_[1]\n",
    "        \n",
    "        if img_suffix == lab_suffix:\n",
    "            print('OK')\n",
    "        else:\n",
    "            print(\"Not OK\", i)\n",
    "            break"
   ]
  },
  {
   "cell_type": "code",
   "execution_count": 10,
   "id": "0577bde0-8efd-4cc1-8b88-f8c9ffdf6b2c",
   "metadata": {},
   "outputs": [
    {
     "data": {
      "application/vnd.jupyter.widget-view+json": {
       "model_id": "7167456c76c042478251900d978b90ab",
       "version_major": 2,
       "version_minor": 0
      },
      "text/plain": [
       "  0%|          | 0/15 [00:00<?, ?it/s]"
      ]
     },
     "metadata": {},
     "output_type": "display_data"
    },
    {
     "name": "stdout",
     "output_type": "stream",
     "text": [
      "OK\n",
      "OK\n",
      "OK\n",
      "OK\n",
      "OK\n",
      "OK\n",
      "OK\n",
      "OK\n",
      "OK\n",
      "OK\n",
      "OK\n",
      "OK\n",
      "OK\n",
      "OK\n",
      "OK\n"
     ]
    },
    {
     "data": {
      "application/vnd.jupyter.widget-view+json": {
       "model_id": "18439bb97b5c4324aa18d9980bcd4eb1",
       "version_major": 2,
       "version_minor": 0
      },
      "text/plain": [
       "  0%|          | 0/3 [00:00<?, ?it/s]"
      ]
     },
     "metadata": {},
     "output_type": "display_data"
    },
    {
     "name": "stdout",
     "output_type": "stream",
     "text": [
      "OK\n",
      "OK\n",
      "OK\n"
     ]
    }
   ],
   "source": [
    "check_train_test_list(train_files)\n",
    "check_train_test_list(test_files)"
   ]
  },
  {
   "cell_type": "code",
   "execution_count": 11,
   "id": "f17ff86c-a9e2-4bc4-accd-e61ad119ce6f",
   "metadata": {},
   "outputs": [
    {
     "name": "stdout",
     "output_type": "stream",
     "text": [
      "[{'image': 'E:/Thesis/Work\\\\imagesTr\\\\images_spleen_10_1.nii.gz', 'label': 'E:/Thesis/Work\\\\labelsTr\\\\labels_spleen_10_1.nii.gz'}, {'image': 'E:/Thesis/Work\\\\imagesTr\\\\images_spleen_12_1.nii.gz', 'label': 'E:/Thesis/Work\\\\labelsTr\\\\labels_spleen_12_1.nii.gz'}, {'image': 'E:/Thesis/Work\\\\imagesTr\\\\images_spleen_12_2.nii.gz', 'label': 'E:/Thesis/Work\\\\labelsTr\\\\labels_spleen_12_2.nii.gz'}, {'image': 'E:/Thesis/Work\\\\imagesTr\\\\images_spleen_12_3.nii.gz', 'label': 'E:/Thesis/Work\\\\labelsTr\\\\labels_spleen_12_3.nii.gz'}, {'image': 'E:/Thesis/Work\\\\imagesTr\\\\images_spleen_12_4.nii.gz', 'label': 'E:/Thesis/Work\\\\labelsTr\\\\labels_spleen_12_4.nii.gz'}, {'image': 'E:/Thesis/Work\\\\imagesTr\\\\images_spleen_12_5.nii.gz', 'label': 'E:/Thesis/Work\\\\labelsTr\\\\labels_spleen_12_5.nii.gz'}, {'image': 'E:/Thesis/Work\\\\imagesTr\\\\images_spleen_2_1.nii.gz', 'label': 'E:/Thesis/Work\\\\labelsTr\\\\labels_spleen_2_1.nii.gz'}, {'image': 'E:/Thesis/Work\\\\imagesTr\\\\images_spleen_2_2.nii.gz', 'label': 'E:/Thesis/Work\\\\labelsTr\\\\labels_spleen_2_2.nii.gz'}, {'image': 'E:/Thesis/Work\\\\imagesTr\\\\images_spleen_3_1.nii.gz', 'label': 'E:/Thesis/Work\\\\labelsTr\\\\labels_spleen_3_1.nii.gz'}, {'image': 'E:/Thesis/Work\\\\imagesTr\\\\images_spleen_6_1.nii.gz', 'label': 'E:/Thesis/Work\\\\labelsTr\\\\labels_spleen_6_1.nii.gz'}, {'image': 'E:/Thesis/Work\\\\imagesTr\\\\images_spleen_6_2.nii.gz', 'label': 'E:/Thesis/Work\\\\labelsTr\\\\labels_spleen_6_2.nii.gz'}, {'image': 'E:/Thesis/Work\\\\imagesTr\\\\images_spleen_6_3.nii.gz', 'label': 'E:/Thesis/Work\\\\labelsTr\\\\labels_spleen_6_3.nii.gz'}, {'image': 'E:/Thesis/Work\\\\imagesTr\\\\images_spleen_6_4.nii.gz', 'label': 'E:/Thesis/Work\\\\labelsTr\\\\labels_spleen_6_4.nii.gz'}, {'image': 'E:/Thesis/Work\\\\imagesTr\\\\images_spleen_8_1.nii.gz', 'label': 'E:/Thesis/Work\\\\labelsTr\\\\labels_spleen_8_1.nii.gz'}, {'image': 'E:/Thesis/Work\\\\imagesTr\\\\images_spleen_9_1.nii.gz', 'label': 'E:/Thesis/Work\\\\labelsTr\\\\labels_spleen_9_1.nii.gz'}]\n"
     ]
    }
   ],
   "source": [
    "print(train_files)"
   ]
  },
  {
   "cell_type": "code",
   "execution_count": 12,
   "id": "2b55c60e-fef0-427c-8b89-c0983e59975b",
   "metadata": {},
   "outputs": [
    {
     "name": "stdout",
     "output_type": "stream",
     "text": [
      "[{'image': 'E:/Thesis/Work\\\\imagesTs\\\\images_spleen_13_1.nii.gz', 'label': 'E:/Thesis/Work\\\\labelsTs\\\\labels_spleen_13_1.nii.gz'}, {'image': 'E:/Thesis/Work\\\\imagesTs\\\\images_spleen_13_2.nii.gz', 'label': 'E:/Thesis/Work\\\\labelsTs\\\\labels_spleen_13_2.nii.gz'}, {'image': 'E:/Thesis/Work\\\\imagesTs\\\\images_spleen_14_1.nii.gz', 'label': 'E:/Thesis/Work\\\\labelsTs\\\\labels_spleen_14_1.nii.gz'}]\n"
     ]
    }
   ],
   "source": [
    "print(test_files)"
   ]
  },
  {
   "cell_type": "markdown",
   "id": "7247ee1c-9a43-4931-a0cd-9237f70dd99e",
   "metadata": {},
   "source": [
    "# Compose"
   ]
  },
  {
   "cell_type": "code",
   "execution_count": 13,
   "id": "6668f413-b013-4470-91ca-dde0628eb310",
   "metadata": {},
   "outputs": [
    {
     "name": "stdout",
     "output_type": "stream",
     "text": [
      "Requirement already satisfied: torch in c:\\users\\hmsha\\anaconda3\\envs\\monai_works\\lib\\site-packages (2.0.1)\n",
      "Requirement already satisfied: jinja2 in c:\\users\\hmsha\\anaconda3\\envs\\monai_works\\lib\\site-packages (from torch) (3.1.2)\n",
      "Requirement already satisfied: sympy in c:\\users\\hmsha\\anaconda3\\envs\\monai_works\\lib\\site-packages (from torch) (1.12)\n",
      "Requirement already satisfied: typing-extensions in c:\\users\\hmsha\\anaconda3\\envs\\monai_works\\lib\\site-packages (from torch) (4.4.0)\n",
      "Requirement already satisfied: networkx in c:\\users\\hmsha\\anaconda3\\envs\\monai_works\\lib\\site-packages (from torch) (3.1)\n",
      "Requirement already satisfied: filelock in c:\\users\\hmsha\\anaconda3\\envs\\monai_works\\lib\\site-packages (from torch) (3.12.2)\n",
      "Requirement already satisfied: MarkupSafe>=2.0 in c:\\users\\hmsha\\anaconda3\\envs\\monai_works\\lib\\site-packages (from jinja2->torch) (2.1.1)\n",
      "Requirement already satisfied: mpmath>=0.19 in c:\\users\\hmsha\\anaconda3\\envs\\monai_works\\lib\\site-packages (from sympy->torch) (1.3.0)\n",
      "Requirement already satisfied: monai==1.1.0 in c:\\users\\hmsha\\anaconda3\\envs\\monai_works\\lib\\site-packages (1.1.0)\n",
      "Requirement already satisfied: numpy>=1.17 in c:\\users\\hmsha\\anaconda3\\envs\\monai_works\\lib\\site-packages (from monai==1.1.0) (1.24.2)\n",
      "Requirement already satisfied: torch>=1.8 in c:\\users\\hmsha\\anaconda3\\envs\\monai_works\\lib\\site-packages (from monai==1.1.0) (2.0.1)\n",
      "Requirement already satisfied: sympy in c:\\users\\hmsha\\anaconda3\\envs\\monai_works\\lib\\site-packages (from torch>=1.8->monai==1.1.0) (1.12)\n",
      "Requirement already satisfied: typing-extensions in c:\\users\\hmsha\\anaconda3\\envs\\monai_works\\lib\\site-packages (from torch>=1.8->monai==1.1.0) (4.4.0)\n",
      "Requirement already satisfied: jinja2 in c:\\users\\hmsha\\anaconda3\\envs\\monai_works\\lib\\site-packages (from torch>=1.8->monai==1.1.0) (3.1.2)\n",
      "Requirement already satisfied: networkx in c:\\users\\hmsha\\anaconda3\\envs\\monai_works\\lib\\site-packages (from torch>=1.8->monai==1.1.0) (3.1)\n",
      "Requirement already satisfied: filelock in c:\\users\\hmsha\\anaconda3\\envs\\monai_works\\lib\\site-packages (from torch>=1.8->monai==1.1.0) (3.12.2)\n",
      "Requirement already satisfied: MarkupSafe>=2.0 in c:\\users\\hmsha\\anaconda3\\envs\\monai_works\\lib\\site-packages (from jinja2->torch>=1.8->monai==1.1.0) (2.1.1)\n",
      "Requirement already satisfied: mpmath>=0.19 in c:\\users\\hmsha\\anaconda3\\envs\\monai_works\\lib\\site-packages (from sympy->torch>=1.8->monai==1.1.0) (1.3.0)\n",
      "Requirement already satisfied: matplotlib in c:\\users\\hmsha\\anaconda3\\envs\\monai_works\\lib\\site-packages (3.7.2)\n",
      "Requirement already satisfied: pyparsing<3.1,>=2.3.1 in c:\\users\\hmsha\\anaconda3\\envs\\monai_works\\lib\\site-packages (from matplotlib) (3.0.9)\n",
      "Requirement already satisfied: python-dateutil>=2.7 in c:\\users\\hmsha\\anaconda3\\envs\\monai_works\\lib\\site-packages (from matplotlib) (2.8.2)\n",
      "Requirement already satisfied: pillow>=6.2.0 in c:\\users\\hmsha\\anaconda3\\envs\\monai_works\\lib\\site-packages (from matplotlib) (9.4.0)\n",
      "Requirement already satisfied: numpy>=1.20 in c:\\users\\hmsha\\anaconda3\\envs\\monai_works\\lib\\site-packages (from matplotlib) (1.24.2)\n",
      "Requirement already satisfied: contourpy>=1.0.1 in c:\\users\\hmsha\\anaconda3\\envs\\monai_works\\lib\\site-packages (from matplotlib) (1.1.0)\n",
      "Requirement already satisfied: importlib-resources>=3.2.0 in c:\\users\\hmsha\\anaconda3\\envs\\monai_works\\lib\\site-packages (from matplotlib) (5.2.0)\n",
      "Requirement already satisfied: kiwisolver>=1.0.1 in c:\\users\\hmsha\\anaconda3\\envs\\monai_works\\lib\\site-packages (from matplotlib) (1.4.4)\n",
      "Requirement already satisfied: fonttools>=4.22.0 in c:\\users\\hmsha\\anaconda3\\envs\\monai_works\\lib\\site-packages (from matplotlib) (4.42.0)\n",
      "Requirement already satisfied: packaging>=20.0 in c:\\users\\hmsha\\anaconda3\\envs\\monai_works\\lib\\site-packages (from matplotlib) (23.0)\n",
      "Requirement already satisfied: cycler>=0.10 in c:\\users\\hmsha\\anaconda3\\envs\\monai_works\\lib\\site-packages (from matplotlib) (0.11.0)\n",
      "Requirement already satisfied: zipp>=3.1.0 in c:\\users\\hmsha\\anaconda3\\envs\\monai_works\\lib\\site-packages (from importlib-resources>=3.2.0->matplotlib) (3.11.0)\n",
      "Requirement already satisfied: six>=1.5 in c:\\users\\hmsha\\anaconda3\\envs\\monai_works\\lib\\site-packages (from python-dateutil>=2.7->matplotlib) (1.16.0)\n"
     ]
    }
   ],
   "source": [
    "!pip install torch\n",
    "!pip install monai==1.1.0\n",
    "!pip install matplotlib\n"
   ]
  },
  {
   "cell_type": "code",
   "execution_count": 14,
   "id": "8090489f-aa93-4243-adcb-22131895435d",
   "metadata": {},
   "outputs": [],
   "source": [
    "import torch\n",
    "from monai.transforms import (\n",
    "    \n",
    "    Compose,\n",
    "    LoadImaged,\n",
    "    ToTensord,\n",
    "    AddChanneld,\n",
    "    Spacingd,\n",
    "    ScaleIntensityRanged,         #changing the contrast (only for images, not for label)\n",
    "    Resized,\n",
    "    CropForegroundd,\n",
    "\n",
    ")# if dictionary is being used, then an additional 'd' must be add after the funciton name\n",
    "\n",
    "\n",
    "from monai.data import Dataset, DataLoader       #dataset loader or preview images from dataset\n",
    "from monai.utils import first\n",
    "import matplotlib.pyplot as plt"
   ]
  },
  {
   "cell_type": "code",
   "execution_count": 15,
   "id": "39f7fb0e-bf8c-40a0-a549-c784e0ef2569",
   "metadata": {},
   "outputs": [
    {
     "name": "stderr",
     "output_type": "stream",
     "text": [
      "C:\\Users\\hmsha\\anaconda3\\envs\\Monai_works\\lib\\site-packages\\monai\\utils\\deprecate_utils.py:107: FutureWarning: <class 'monai.transforms.utility.array.AddChannel'>: Class `AddChannel` has been deprecated since version 0.8. please use MetaTensor data type and monai.transforms.EnsureChannelFirst instead.\n",
      "  warn_deprecated(obj, msg, warning_category)\n"
     ]
    }
   ],
   "source": [
    "#load the images\n",
    "#any transforms\n",
    "#need to convert them into torch tensor\n",
    "\n",
    "\n",
    "\n",
    "\n",
    "post_train_transforms = Compose(\n",
    "    [\n",
    "        LoadImaged(keys=['image', 'label']),\n",
    "        AddChanneld(keys=['image', 'label']),\n",
    "        Spacingd(keys = ['image', 'label'], pixdim = (1.5, 1.5, 2)), #(height,width,depth) for resize the\n",
    "        ScaleIntensityRanged(keys = 'image', a_min = -200, a_max = 200, b_min = 0.0, b_max=1.0, clip = True),   # handeling conterest -> itk inter worlspace -> color map\n",
    "        CropForegroundd(keys = ['image','label'], source_key=\"image\"),         # remove un used potion or background\n",
    "        Resized(keys = ['image','label'], spatial_size =[128,128,200]),\n",
    "        ToTensord(keys=['image','label']),\n",
    "        \n",
    "    ]\n",
    "\n",
    "\n",
    ")\n",
    "\n",
    "post_test_transforms = Compose(\n",
    "    [\n",
    "        LoadImaged(keys=['image', 'label']),\n",
    "        AddChanneld(keys=['image', 'label']),\n",
    "        Spacingd(keys = ['image', 'label'], pixdim = (1.5, 1.5, 2)), #(height,width,depth) for resize the\n",
    "        ScaleIntensityRanged(keys = 'image', a_min = -200, a_max = 200, b_min = 0.0, b_max=1.0, clip = True),\n",
    "        CropForegroundd(keys = ['image','label'], source_key=\"image\"),         # remove un used potion or background\n",
    "        Resized(keys = ['image','label'], spatial_size = [128,128,200]),       #resize after cropping\n",
    "        ToTensord(keys=['image','label']),  \n",
    "    ]\n",
    "\n",
    "\n",
    ")"
   ]
  },
  {
   "cell_type": "code",
   "execution_count": 16,
   "id": "4c15cccc-e06c-419d-93cd-d36ea735a952",
   "metadata": {},
   "outputs": [],
   "source": [
    "train_ds = Dataset(data=train_files, transform=post_train_transforms)\n",
    "train_loader = DataLoader(train_ds, batch_size=1)\n",
    "\n",
    "test_ds = Dataset(data=test_files, transform=post_test_transforms)\n",
    "test_loader = DataLoader(test_ds, batch_size=1)"
   ]
  },
  {
   "cell_type": "code",
   "execution_count": 17,
   "id": "aa52614d-9c63-44be-8115-e26e0279161e",
   "metadata": {},
   "outputs": [],
   "source": [
    "t_patient = first(train_loader) #selecting the frist patient"
   ]
  },
  {
   "cell_type": "code",
   "execution_count": 18,
   "id": "9b4bd727-eea9-4ef0-9d18-cf7a3b595b64",
   "metadata": {},
   "outputs": [
    {
     "name": "stdout",
     "output_type": "stream",
     "text": [
      "tensor(0.)\n",
      "tensor(1.)\n"
     ]
    }
   ],
   "source": [
    "print(torch.min(t_patient['image']))\n",
    "print(torch.max(t_patient['image']))"
   ]
  },
  {
   "cell_type": "code",
   "execution_count": 19,
   "id": "eeb34af7-bfbf-4729-b5ce-cafc46dde7a3",
   "metadata": {},
   "outputs": [
    {
     "data": {
      "image/png": "[encoded data removed]",
      "text/plain": [
       "<Figure size 1200x600 with 2 Axes>"
      ]
     },
     "metadata": {},
     "output_type": "display_data"
    }
   ],
   "source": [
    "plt.figure('test',(12,6))\n",
    "plt.subplot(1,2,1)\n",
    "plt.title(\"Slice of a patient\")\n",
    "plt.imshow(t_patient['image'][0,0,:,:,39], cmap = 'gray') #[][batch size(the item),channel(0-> signle channle (forground/background), \n",
    "                                                                                            #1-> multiple channel(forground+background)),\n",
    "                                                                                            #width,height,slice ]\n",
    "\n",
    "\n",
    "plt.subplot(1,2,2)\n",
    "plt.title(\"Label of a patient\")\n",
    "plt.imshow(t_patient['label'][0,0,:,:,39],cmap = 'gray') \n",
    "plt.show()"
   ]
  },
  {
   "cell_type": "code",
   "execution_count": null,
   "id": "5161909d-4fac-4b89-b10b-72b1b086a4b5",
   "metadata": {},
   "outputs": [],
   "source": []
  }
 ],
 "metadata": {
  "kernelspec": {
   "display_name": "Python 3 (ipykernel)",
   "language": "python",
   "name": "python3"
  },
  "language_info": {
   "codemirror_mode": {
    "name": "ipython",
    "version": 3
   },
   "file_extension": ".py",
   "mimetype": "text/x-python",
   "name": "python",
   "nbconvert_exporter": "python",
   "pygments_lexer": "ipython3",
   "version": "3.8.16"
  }
 },
 "nbformat": 4,
 "nbformat_minor": 5
}
