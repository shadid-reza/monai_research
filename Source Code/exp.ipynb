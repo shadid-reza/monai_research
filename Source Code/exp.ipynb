{
 "cells": [
  {
   "cell_type": "code",
   "execution_count": 1,
   "id": "9cd77221-14e3-4007-ba14-386550341e26",
   "metadata": {},
   "outputs": [
    {
     "name": "stdout",
     "output_type": "stream",
     "text": [
      "Requirement already satisfied: SimpleITK in c:\\users\\hmsha\\anaconda3\\envs\\monai_works\\lib\\site-packages (2.2.1)\n"
     ]
    }
   ],
   "source": [
    "!pip install SimpleITK"
   ]
  },
  {
   "cell_type": "code",
   "execution_count": 2,
   "id": "d0b05f99-cb60-49a6-9932-a2590e99d4b5",
   "metadata": {},
   "outputs": [],
   "source": [
    "import SimpleITK as sitk\n",
    "import os\n",
    "import time\n",
    "from glob import glob"
   ]
  },
  {
   "cell_type": "code",
   "execution_count": 3,
   "id": "74f22c36-e873-446a-934a-aab71a9b1a7f",
   "metadata": {},
   "outputs": [],
   "source": [
    "def writeSlices(series_tag_values, new_img, i, out_dir):\n",
    "    image_slice = new_img[:,:,i]\n",
    "    writer = sitk.ImageFileWriter()\n",
    "    writer.KeepOriginalImageUIDOn()\n",
    "\n",
    "    # Tags shared by the series.\n",
    "    list(map(lambda tag_value: image_slice.SetMetaData(tag_value[0], tag_value[1]), series_tag_values))\n",
    "\n",
    "    # Slice specific tags.\n",
    "    image_slice.SetMetaData(\"0008|0012\", time.strftime(\"%Y%m%d\")) # Instance Creation Date\n",
    "    image_slice.SetMetaData(\"0008|0013\", time.strftime(\"%H%M%S\")) # Instance Creation Time\n",
    "\n",
    "    # Setting the type to CT preserves the slice location.\n",
    "    image_slice.SetMetaData(\"0008|0060\", \"CT\")  # set the type to CT so the thickness is carried over\n",
    "\n",
    "    # (0020, 0032) image position patient determines the 3D spacing between slices.\n",
    "    image_slice.SetMetaData(\"0020|0032\", '\\\\'.join(map(str,new_img.TransformIndexToPhysicalPoint((0,0,i))))) # Image Position (Patient)\n",
    "    image_slice.SetMetaData(\"0020,0013\", str(i)) # Instance Number\n",
    "\n",
    "    # Write to the output directory and add the extension dcm, to force writing in DICOM format.\n",
    "    writer.SetFileName(os.path.join(out_dir,'slice' + str(i).zfill(4) + '.dcm'))\n",
    "    writer.Execute(image_slice)"
   ]
  },
  {
   "cell_type": "code",
   "execution_count": 4,
   "id": "3a4dd075-6a9c-4e69-878e-573395acad5a",
   "metadata": {},
   "outputs": [],
   "source": [
    "def nifti2dicom_1file(in_dir, out_dir):\n",
    "    \"\"\"\n",
    "    This function is to convert only one nifti file into dicom series\n",
    "    `nifti_dir`: the path to the one nifti file\n",
    "    `out_dir`: the path to output\n",
    "    \"\"\"\n",
    "\n",
    "    os.makedirs(out_dir, exist_ok=True)\n",
    "\n",
    "    new_img = sitk.ReadImage(in_dir) \n",
    "    modification_time = time.strftime(\"%H%M%S\")\n",
    "    modification_date = time.strftime(\"%Y%m%d\")\n",
    "\n",
    "    direction = new_img.GetDirection()\n",
    "    series_tag_values = [(\"0008|0031\",modification_time), # Series Time\n",
    "                    (\"0008|0021\",modification_date), # Series Date\n",
    "                    (\"0008|0008\",\"DERIVED\\\\SECONDARY\"), # Image Type\n",
    "                    (\"0020|000e\", \"1.2.826.0.1.3680043.2.1125.\"+modification_date+\".1\"+modification_time), # Series Instance UID\n",
    "                    (\"0020|0037\", '\\\\'.join(map(str, (direction[0], direction[3], direction[6],# Image Orientation (Patient)\n",
    "                                                        direction[1],direction[4],direction[7])))),\n",
    "                    (\"0008|103e\", \"Created-Pycad\")] # Series Description\n",
    "\n",
    "    # Write slices to output directory\n",
    "    list(map(lambda i: writeSlices(series_tag_values, new_img, i, out_dir), range(new_img.GetDepth())))"
   ]
  },
  {
   "cell_type": "code",
   "execution_count": 6,
   "id": "2903bb08-272e-411b-a7d6-b15a86907f55",
   "metadata": {},
   "outputs": [],
   "source": [
    "out_dir = \"E:/Thesis/Experiment/final\"\n",
    "\n",
    "\n",
    "in_dir = \"E:/Thesis\\Experiment/nifty_ini/images_spleen_2.nii\"\n"
   ]
  },
  {
   "cell_type": "code",
   "execution_count": 7,
   "id": "1703ed67-454a-4e8a-a4ad-f09622479fef",
   "metadata": {},
   "outputs": [
    {
     "ename": "RuntimeError",
     "evalue": "Exception thrown in SimpleITK ImageFileWriter_Execute: D:\\a\\1\\sitk-build\\ITK\\Modules\\IO\\GDCM\\src\\itkGDCMImageIO.cxx:1219:\nITK ERROR: GDCMImageIO(00000218DDF3D2D0): A Floating point buffer was passed but the stored pixel type was not specified.This is currently not supported",
     "output_type": "error",
     "traceback": [
      "\u001b[1;31m---------------------------------------------------------------------------\u001b[0m",
      "\u001b[1;31mRuntimeError\u001b[0m                              Traceback (most recent call last)",
      "Cell \u001b[1;32mIn[7], line 1\u001b[0m\n\u001b[1;32m----> 1\u001b[0m \u001b[43mnifti2dicom_1file\u001b[49m\u001b[43m(\u001b[49m\u001b[43min_dir\u001b[49m\u001b[43m \u001b[49m\u001b[43m,\u001b[49m\u001b[43m \u001b[49m\u001b[43mout_dir\u001b[49m\u001b[43m)\u001b[49m\n",
      "Cell \u001b[1;32mIn[4], line 24\u001b[0m, in \u001b[0;36mnifti2dicom_1file\u001b[1;34m(in_dir, out_dir)\u001b[0m\n\u001b[0;32m     15\u001b[0m series_tag_values \u001b[38;5;241m=\u001b[39m [(\u001b[38;5;124m\"\u001b[39m\u001b[38;5;124m0008|0031\u001b[39m\u001b[38;5;124m\"\u001b[39m,modification_time), \u001b[38;5;66;03m# Series Time\u001b[39;00m\n\u001b[0;32m     16\u001b[0m                 (\u001b[38;5;124m\"\u001b[39m\u001b[38;5;124m0008|0021\u001b[39m\u001b[38;5;124m\"\u001b[39m,modification_date), \u001b[38;5;66;03m# Series Date\u001b[39;00m\n\u001b[0;32m     17\u001b[0m                 (\u001b[38;5;124m\"\u001b[39m\u001b[38;5;124m0008|0008\u001b[39m\u001b[38;5;124m\"\u001b[39m,\u001b[38;5;124m\"\u001b[39m\u001b[38;5;124mDERIVED\u001b[39m\u001b[38;5;130;01m\\\\\u001b[39;00m\u001b[38;5;124mSECONDARY\u001b[39m\u001b[38;5;124m\"\u001b[39m), \u001b[38;5;66;03m# Image Type\u001b[39;00m\n\u001b[1;32m   (...)\u001b[0m\n\u001b[0;32m     20\u001b[0m                                                     direction[\u001b[38;5;241m1\u001b[39m],direction[\u001b[38;5;241m4\u001b[39m],direction[\u001b[38;5;241m7\u001b[39m])))),\n\u001b[0;32m     21\u001b[0m                 (\u001b[38;5;124m\"\u001b[39m\u001b[38;5;124m0008|103e\u001b[39m\u001b[38;5;124m\"\u001b[39m, \u001b[38;5;124m\"\u001b[39m\u001b[38;5;124mCreated-Pycad\u001b[39m\u001b[38;5;124m\"\u001b[39m)] \u001b[38;5;66;03m# Series Description\u001b[39;00m\n\u001b[0;32m     23\u001b[0m \u001b[38;5;66;03m# Write slices to output directory\u001b[39;00m\n\u001b[1;32m---> 24\u001b[0m \u001b[38;5;28;43mlist\u001b[39;49m\u001b[43m(\u001b[49m\u001b[38;5;28;43mmap\u001b[39;49m\u001b[43m(\u001b[49m\u001b[38;5;28;43;01mlambda\u001b[39;49;00m\u001b[43m \u001b[49m\u001b[43mi\u001b[49m\u001b[43m:\u001b[49m\u001b[43m \u001b[49m\u001b[43mwriteSlices\u001b[49m\u001b[43m(\u001b[49m\u001b[43mseries_tag_values\u001b[49m\u001b[43m,\u001b[49m\u001b[43m \u001b[49m\u001b[43mnew_img\u001b[49m\u001b[43m,\u001b[49m\u001b[43m \u001b[49m\u001b[43mi\u001b[49m\u001b[43m,\u001b[49m\u001b[43m \u001b[49m\u001b[43mout_dir\u001b[49m\u001b[43m)\u001b[49m\u001b[43m,\u001b[49m\u001b[43m \u001b[49m\u001b[38;5;28;43mrange\u001b[39;49m\u001b[43m(\u001b[49m\u001b[43mnew_img\u001b[49m\u001b[38;5;241;43m.\u001b[39;49m\u001b[43mGetDepth\u001b[49m\u001b[43m(\u001b[49m\u001b[43m)\u001b[49m\u001b[43m)\u001b[49m\u001b[43m)\u001b[49m\u001b[43m)\u001b[49m\n",
      "Cell \u001b[1;32mIn[4], line 24\u001b[0m, in \u001b[0;36mnifti2dicom_1file.<locals>.<lambda>\u001b[1;34m(i)\u001b[0m\n\u001b[0;32m     15\u001b[0m series_tag_values \u001b[38;5;241m=\u001b[39m [(\u001b[38;5;124m\"\u001b[39m\u001b[38;5;124m0008|0031\u001b[39m\u001b[38;5;124m\"\u001b[39m,modification_time), \u001b[38;5;66;03m# Series Time\u001b[39;00m\n\u001b[0;32m     16\u001b[0m                 (\u001b[38;5;124m\"\u001b[39m\u001b[38;5;124m0008|0021\u001b[39m\u001b[38;5;124m\"\u001b[39m,modification_date), \u001b[38;5;66;03m# Series Date\u001b[39;00m\n\u001b[0;32m     17\u001b[0m                 (\u001b[38;5;124m\"\u001b[39m\u001b[38;5;124m0008|0008\u001b[39m\u001b[38;5;124m\"\u001b[39m,\u001b[38;5;124m\"\u001b[39m\u001b[38;5;124mDERIVED\u001b[39m\u001b[38;5;130;01m\\\\\u001b[39;00m\u001b[38;5;124mSECONDARY\u001b[39m\u001b[38;5;124m\"\u001b[39m), \u001b[38;5;66;03m# Image Type\u001b[39;00m\n\u001b[1;32m   (...)\u001b[0m\n\u001b[0;32m     20\u001b[0m                                                     direction[\u001b[38;5;241m1\u001b[39m],direction[\u001b[38;5;241m4\u001b[39m],direction[\u001b[38;5;241m7\u001b[39m])))),\n\u001b[0;32m     21\u001b[0m                 (\u001b[38;5;124m\"\u001b[39m\u001b[38;5;124m0008|103e\u001b[39m\u001b[38;5;124m\"\u001b[39m, \u001b[38;5;124m\"\u001b[39m\u001b[38;5;124mCreated-Pycad\u001b[39m\u001b[38;5;124m\"\u001b[39m)] \u001b[38;5;66;03m# Series Description\u001b[39;00m\n\u001b[0;32m     23\u001b[0m \u001b[38;5;66;03m# Write slices to output directory\u001b[39;00m\n\u001b[1;32m---> 24\u001b[0m \u001b[38;5;28mlist\u001b[39m(\u001b[38;5;28mmap\u001b[39m(\u001b[38;5;28;01mlambda\u001b[39;00m i: \u001b[43mwriteSlices\u001b[49m\u001b[43m(\u001b[49m\u001b[43mseries_tag_values\u001b[49m\u001b[43m,\u001b[49m\u001b[43m \u001b[49m\u001b[43mnew_img\u001b[49m\u001b[43m,\u001b[49m\u001b[43m \u001b[49m\u001b[43mi\u001b[49m\u001b[43m,\u001b[49m\u001b[43m \u001b[49m\u001b[43mout_dir\u001b[49m\u001b[43m)\u001b[49m, \u001b[38;5;28mrange\u001b[39m(new_img\u001b[38;5;241m.\u001b[39mGetDepth())))\n",
      "Cell \u001b[1;32mIn[3], line 22\u001b[0m, in \u001b[0;36mwriteSlices\u001b[1;34m(series_tag_values, new_img, i, out_dir)\u001b[0m\n\u001b[0;32m     20\u001b[0m \u001b[38;5;66;03m# Write to the output directory and add the extension dcm, to force writing in DICOM format.\u001b[39;00m\n\u001b[0;32m     21\u001b[0m writer\u001b[38;5;241m.\u001b[39mSetFileName(os\u001b[38;5;241m.\u001b[39mpath\u001b[38;5;241m.\u001b[39mjoin(out_dir,\u001b[38;5;124m'\u001b[39m\u001b[38;5;124mslice\u001b[39m\u001b[38;5;124m'\u001b[39m \u001b[38;5;241m+\u001b[39m \u001b[38;5;28mstr\u001b[39m(i)\u001b[38;5;241m.\u001b[39mzfill(\u001b[38;5;241m4\u001b[39m) \u001b[38;5;241m+\u001b[39m \u001b[38;5;124m'\u001b[39m\u001b[38;5;124m.dcm\u001b[39m\u001b[38;5;124m'\u001b[39m))\n\u001b[1;32m---> 22\u001b[0m \u001b[43mwriter\u001b[49m\u001b[38;5;241;43m.\u001b[39;49m\u001b[43mExecute\u001b[49m\u001b[43m(\u001b[49m\u001b[43mimage_slice\u001b[49m\u001b[43m)\u001b[49m\n",
      "File \u001b[1;32m~\\anaconda3\\envs\\Monai_works\\lib\\site-packages\\SimpleITK\\SimpleITK.py:7913\u001b[0m, in \u001b[0;36mImageFileWriter.Execute\u001b[1;34m(self, *args)\u001b[0m\n\u001b[0;32m   7906\u001b[0m \u001b[38;5;28;01mdef\u001b[39;00m \u001b[38;5;21mExecute\u001b[39m(\u001b[38;5;28mself\u001b[39m, \u001b[38;5;241m*\u001b[39margs):\n\u001b[0;32m   7907\u001b[0m     \u001b[38;5;124mr\u001b[39m\u001b[38;5;124;03m\"\"\"\u001b[39;00m\n\u001b[0;32m   7908\u001b[0m \u001b[38;5;124;03m    Execute(ImageFileWriter self, Image arg2)\u001b[39;00m\n\u001b[0;32m   7909\u001b[0m \u001b[38;5;124;03m    Execute(ImageFileWriter self, Image arg2, std::string const & inFileName, bool useCompression, int compressionLevel)\u001b[39;00m\n\u001b[0;32m   7910\u001b[0m \n\u001b[0;32m   7911\u001b[0m \n\u001b[0;32m   7912\u001b[0m \u001b[38;5;124;03m    \"\"\"\u001b[39;00m\n\u001b[1;32m-> 7913\u001b[0m     \u001b[38;5;28;01mreturn\u001b[39;00m \u001b[43m_SimpleITK\u001b[49m\u001b[38;5;241;43m.\u001b[39;49m\u001b[43mImageFileWriter_Execute\u001b[49m\u001b[43m(\u001b[49m\u001b[38;5;28;43mself\u001b[39;49m\u001b[43m,\u001b[49m\u001b[43m \u001b[49m\u001b[38;5;241;43m*\u001b[39;49m\u001b[43margs\u001b[49m\u001b[43m)\u001b[49m\n",
      "\u001b[1;31mRuntimeError\u001b[0m: Exception thrown in SimpleITK ImageFileWriter_Execute: D:\\a\\1\\sitk-build\\ITK\\Modules\\IO\\GDCM\\src\\itkGDCMImageIO.cxx:1219:\nITK ERROR: GDCMImageIO(00000218DDF3D2D0): A Floating point buffer was passed but the stored pixel type was not specified.This is currently not supported"
     ]
    }
   ],
   "source": [
    "\n",
    "nifti2dicom_1file(in_dir , out_dir)"
   ]
  },
  {
   "cell_type": "code",
   "execution_count": null,
   "id": "f976bd6a-ca0a-4898-ac7c-3d4f7a566958",
   "metadata": {},
   "outputs": [],
   "source": [
    "def nifti2dicom_mfiles(nifti_dir, out_dir=''):\n",
    "    \"\"\"\n",
    "    This function is to convert multiple nifti files into dicom files\n",
    "    `nifti_dir`: You enter the global path to all of the nifti files here.\n",
    "    `out_dir`: Put the path to where you want to save all the dicoms here.\n",
    "    PS: Each nifti file's folders will be created automatically, so you do not need to create an empty folder for each patient.\n",
    "    \"\"\"\n",
    "\n",
    "    images = glob(nifti_dir + '/*.nii.gz')\n",
    "\n",
    "    for image in images:\n",
    "        o_path = out_dir + '/' + os.path.basename(image)[:-7]\n",
    "        os.makedirs(o_path, exist_ok=True)\n",
    "\n",
    "        nifti2dicom_1file(image, o_path)"
   ]
  },
  {
   "cell_type": "code",
   "execution_count": null,
   "id": "f1714a24-8a2e-4955-a7ef-2c45e960cffd",
   "metadata": {},
   "outputs": [],
   "source": [
    "out_dir = \"E:/Thesis/Experiment/final\"\n",
    "in_dir = \"E:/Thesis\\Experiment/nifty_ini\"\n",
    "\n",
    "nifti2dicom_mfiles(in_dir, out_dir)"
   ]
  },
  {
   "cell_type": "code",
   "execution_count": null,
   "id": "0f7fe8f7-2126-479e-b46d-fee8de036eb2",
   "metadata": {},
   "outputs": [],
   "source": []
  }
 ],
 "metadata": {
  "kernelspec": {
   "display_name": "Python 3 (ipykernel)",
   "language": "python",
   "name": "python3"
  },
  "language_info": {
   "codemirror_mode": {
    "name": "ipython",
    "version": 3
   },
   "file_extension": ".py",
   "mimetype": "text/x-python",
   "name": "python",
   "nbconvert_exporter": "python",
   "pygments_lexer": "ipython3",
   "version": "3.8.16"
  }
 },
 "nbformat": 4,
 "nbformat_minor": 5
}
