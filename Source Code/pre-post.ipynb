{
 "cells": [
  {
   "cell_type": "markdown",
   "id": "b70a73f1-d124-4327-a721-16d0a877e666",
   "metadata": {},
   "source": [
    "# Prerequisites\n"
   ]
  },
  {
   "cell_type": "code",
   "execution_count": 58,
   "id": "6e7bc51e-7c3a-4e4d-9b6e-d71ae1f80e72",
   "metadata": {},
   "outputs": [
    {
     "name": "stdout",
     "output_type": "stream",
     "text": [
      "Requirement already satisfied: glob2 in c:\\users\\hmsha\\anaconda3\\envs\\monai_works\\lib\\site-packages (0.7)\n"
     ]
    }
   ],
   "source": [
    "!pip install glob2"
   ]
  },
  {
   "cell_type": "code",
   "execution_count": 59,
   "id": "13a1c93f-eac7-4fd1-8f02-17bdda476807",
   "metadata": {},
   "outputs": [
    {
     "name": "stdout",
     "output_type": "stream",
     "text": [
      "Requirement already satisfied: pytest-shutil in c:\\users\\hmsha\\anaconda3\\envs\\monai_works\\lib\\site-packages (1.7.0)\n",
      "Requirement already satisfied: path.py in c:\\users\\hmsha\\anaconda3\\envs\\monai_works\\lib\\site-packages (from pytest-shutil) (12.5.0)\n",
      "Requirement already satisfied: execnet in c:\\users\\hmsha\\anaconda3\\envs\\monai_works\\lib\\site-packages (from pytest-shutil) (1.9.0)\n",
      "Requirement already satisfied: pytest in c:\\users\\hmsha\\anaconda3\\envs\\monai_works\\lib\\site-packages (from pytest-shutil) (7.3.0)\n",
      "Requirement already satisfied: termcolor in c:\\users\\hmsha\\anaconda3\\envs\\monai_works\\lib\\site-packages (from pytest-shutil) (2.2.0)\n",
      "Requirement already satisfied: mock in c:\\users\\hmsha\\anaconda3\\envs\\monai_works\\lib\\site-packages (from pytest-shutil) (5.0.1)\n",
      "Requirement already satisfied: six in c:\\users\\hmsha\\anaconda3\\envs\\monai_works\\lib\\site-packages (from pytest-shutil) (1.16.0)\n",
      "Requirement already satisfied: contextlib2 in c:\\users\\hmsha\\anaconda3\\envs\\monai_works\\lib\\site-packages (from pytest-shutil) (21.6.0)\n",
      "Requirement already satisfied: path in c:\\users\\hmsha\\anaconda3\\envs\\monai_works\\lib\\site-packages (from path.py->pytest-shutil) (16.6.0)\n",
      "Requirement already satisfied: exceptiongroup>=1.0.0rc8 in c:\\users\\hmsha\\anaconda3\\envs\\monai_works\\lib\\site-packages (from pytest->pytest-shutil) (1.1.1)\n",
      "Requirement already satisfied: iniconfig in c:\\users\\hmsha\\anaconda3\\envs\\monai_works\\lib\\site-packages (from pytest->pytest-shutil) (2.0.0)\n",
      "Requirement already satisfied: colorama in c:\\users\\hmsha\\anaconda3\\envs\\monai_works\\lib\\site-packages (from pytest->pytest-shutil) (0.4.6)\n",
      "Requirement already satisfied: tomli>=1.0.0 in c:\\users\\hmsha\\anaconda3\\envs\\monai_works\\lib\\site-packages (from pytest->pytest-shutil) (2.0.1)\n",
      "Requirement already satisfied: pluggy<2.0,>=0.12 in c:\\users\\hmsha\\anaconda3\\envs\\monai_works\\lib\\site-packages (from pytest->pytest-shutil) (1.0.0)\n",
      "Requirement already satisfied: packaging in c:\\users\\hmsha\\anaconda3\\envs\\monai_works\\lib\\site-packages (from pytest->pytest-shutil) (23.0)\n"
     ]
    }
   ],
   "source": [
    "!pip install pytest-shutil"
   ]
  },
  {
   "cell_type": "code",
   "execution_count": 60,
   "id": "a63691d8-2bc2-44b0-9b1c-846c133895b6",
   "metadata": {},
   "outputs": [
    {
     "name": "stdout",
     "output_type": "stream",
     "text": [
      "Requirement already satisfied: SimpleITK in c:\\users\\hmsha\\anaconda3\\envs\\monai_works\\lib\\site-packages (2.2.1)\n"
     ]
    }
   ],
   "source": [
    "!pip install SimpleITK"
   ]
  },
  {
   "cell_type": "code",
   "execution_count": 61,
   "id": "2cb9b745-1797-4c0d-a22d-19f1515acbe9",
   "metadata": {
    "tags": []
   },
   "outputs": [],
   "source": [
    "from glob import glob\n",
    "import shutil\n",
    "import os\n",
    "\n",
    "import SimpleITK as sitk\n",
    "import time\n",
    "import re\n"
   ]
  },
  {
   "cell_type": "markdown",
   "id": "57dd7afc-502f-4d9f-a7b6-f24c5da3ec3a",
   "metadata": {
    "tags": []
   },
   "source": [
    "# Convertion of .nii files to .dcm files without the help of slicer"
   ]
  },
  {
   "cell_type": "code",
   "execution_count": null,
   "id": "c1a53b5c-64c7-42fa-95f0-f57fb4a314c6",
   "metadata": {},
   "outputs": [],
   "source": []
  },
  {
   "cell_type": "code",
   "execution_count": 62,
   "id": "e789bc56-2a1d-4ba0-9441-9397ac709df7",
   "metadata": {},
   "outputs": [],
   "source": [
    "def writeSlices(series_tag_values, new_img, i, out_dir):\n",
    "    image_slice = new_img[:,:,i]\n",
    "    \n",
    "    # Set the pixel type explicitly to int16.\n",
    "    image_slice = sitk.Cast(image_slice, sitk.sitkInt16)\n",
    "    \n",
    "    \n",
    "    writer = sitk.ImageFileWriter()\n",
    "    writer.KeepOriginalImageUIDOn()\n",
    "\n",
    "    # Tags shared by the series.\n",
    "    list(map(lambda tag_value: image_slice.SetMetaData(tag_value[0], tag_value[1]), series_tag_values))\n",
    "\n",
    "    # Slice specific tags.\n",
    "    image_slice.SetMetaData(\"0008|0012\", time.strftime(\"%Y%m%d\")) # Instance Creation Date\n",
    "    image_slice.SetMetaData(\"0008|0013\", time.strftime(\"%H%M%S\")) # Instance Creation Time\n",
    "\n",
    "    # Setting the type to CT preserves the slice location.\n",
    "    image_slice.SetMetaData(\"0008|0060\", \"CT\")  # set the type to CT so the thickness is carried over\n",
    "\n",
    "    # (0020, 0032) image position patient determines the 3D spacing between slices.\n",
    "    image_slice.SetMetaData(\"0020|0032\", '\\\\'.join(map(str,new_img.TransformIndexToPhysicalPoint((0,0,i))))) # Image Position (Patient)\n",
    "    image_slice.SetMetaData(\"0020,0013\", str(i)) # Instance Number\n",
    "\n",
    "    # Write to the output directory and add the extension dcm, to force writing in DICOM format.\n",
    "    writer.SetFileName(os.path.join(out_dir,'slice' + str(i).zfill(4) + '.dcm'))\n",
    "    writer.Execute(image_slice)"
   ]
  },
  {
   "cell_type": "code",
   "execution_count": 63,
   "id": "533b5002-9161-488d-8f62-480e5e6ee5b7",
   "metadata": {},
   "outputs": [],
   "source": [
    "def nifti2dicom_1file(in_dir, out_dir):\n",
    "    \"\"\"\n",
    "    This function is to convert only one nifti file into dicom series\n",
    "    `nifti_dir`: the path to the one nifti file\n",
    "    `out_dir`: the path to output\n",
    "    \"\"\"\n",
    "\n",
    "    os.makedirs(out_dir, exist_ok=True)\n",
    "\n",
    "    new_img = sitk.ReadImage(in_dir) \n",
    "    modification_time = time.strftime(\"%H%M%S\")\n",
    "    modification_date = time.strftime(\"%Y%m%d\")\n",
    "\n",
    "    direction = new_img.GetDirection()\n",
    "    series_tag_values = [(\"0008|0031\",modification_time), # Series Time\n",
    "                    (\"0008|0021\",modification_date), # Series Date\n",
    "                    (\"0008|0008\",\"DERIVED\\\\SECONDARY\"), # Image Type\n",
    "                    (\"0020|000e\", \"1.2.826.0.1.3680043.2.1125.\"+modification_date+\".1\"+modification_time), # Series Instance UID\n",
    "                    (\"0020|0037\", '\\\\'.join(map(str, (direction[0], direction[3], direction[6],# Image Orientation (Patient)\n",
    "                                                        direction[1],direction[4],direction[7])))),\n",
    "                    (\"0008|103e\", \"Created-Pycad\")] # Series Description\n",
    "\n",
    "    # Write slices to output directory\n",
    "    list(map(lambda i: writeSlices(series_tag_values, new_img, i, out_dir), range(new_img.GetDepth())))"
   ]
  },
  {
   "cell_type": "code",
   "execution_count": 64,
   "id": "74e673fa-4c31-4e8c-8f10-2a0521b8a1b9",
   "metadata": {},
   "outputs": [],
   "source": [
    "def nifti2dicom_mfiles(nifti_dir, out_dir=''):\n",
    "    \"\"\"\n",
    "    This function is to convert multiple nifti files into dicom files\n",
    "    `nifti_dir`: You enter the global path to all of the nifti files here.\n",
    "    `out_dir`: Put the path to where you want to save all the dicoms here.\n",
    "    PS: Each nifti file's folders will be created automatically, so you do not need to create an empty folder for each patient.\n",
    "    \"\"\"\n",
    "\n",
    "    images = glob(nifti_dir + '/*.nii.gz')\n",
    "\n",
    "    for image in images:\n",
    "        o_path = out_dir + '/' + os.path.basename(image)[:-7]\n",
    "        os.makedirs(o_path, exist_ok=True)\n",
    "\n",
    "        nifti2dicom_1file(image, o_path)"
   ]
  },
  {
   "cell_type": "markdown",
   "id": "e71b0462-f743-45dc-a816-855f08e6d964",
   "metadata": {},
   "source": [
    "# Making relevant folder"
   ]
  },
  {
   "cell_type": "markdown",
   "id": "45728407-9285-4803-9fd4-24ba235b1b8a",
   "metadata": {
    "tags": []
   },
   "source": [
    "## give the input directory path"
   ]
  },
  {
   "cell_type": "code",
   "execution_count": 65,
   "id": "9c83a5c9-118c-4209-8dfa-6d74f55ad2eb",
   "metadata": {},
   "outputs": [],
   "source": [
    "in_dir = \"E:/Thesis/dataset-work\"\n"
   ]
  },
  {
   "cell_type": "code",
   "execution_count": 66,
   "id": "9c3670be-323b-470f-99e7-9296c818e7ff",
   "metadata": {},
   "outputs": [
    {
     "name": "stdout",
     "output_type": "stream",
     "text": [
      "E:/Thesis/dataset-work\n",
      "Folder E:/Thesis/dataset-work\\post-ses & E:/Thesis/dataset-work\\pre-ses already exists\n",
      "Folder E:/Thesis/dataset-work\\post-ses\\anat & E:/Thesis/dataset-work\\post-ses\\func already exists\n",
      "Folder E:/Thesis/dataset-work\\pre-ses\\anat & E:/Thesis/dataset-work\\pre-ses\\func already exists\n"
     ]
    }
   ],
   "source": [
    "root = in_dir\n",
    "print(root)\n",
    "new_folder_1 = \"post-ses\"\n",
    "new_folder_2 = \"pre-ses\"\n",
    "new_folder_path_1 = os.path.join(root, new_folder_1)\n",
    "new_folder_path_2 = os.path.join(root, new_folder_2)\n",
    "\n",
    "try:\n",
    "    os.mkdir(new_folder_path_1)\n",
    "    os.mkdir(new_folder_path_2)\n",
    "except FileExistsError:\n",
    "    print(f\"Folder {new_folder_path_1} & {new_folder_path_2} already exists\")\n",
    "else:\n",
    "    print(f\"Folder {new_folder_path_1} & {new_folder_path_2} created successfully\")\n",
    "\n",
    "\n",
    "anat_folder = \"anat\"\n",
    "func_folder = \"func\"\n",
    "anat_folder_path_1 = os.path.join(new_folder_path_1, anat_folder)\n",
    "anat_folder_path_2 = os.path.join(new_folder_path_2, anat_folder)\n",
    "\n",
    "func_folder_path_1 = os.path.join(new_folder_path_1, func_folder)\n",
    "func_folder_path_2 = os.path.join(new_folder_path_2, func_folder)\n",
    "\n",
    "## making anat and func folder in both post-ses and pre-ses\n",
    "try:\n",
    "    os.mkdir(anat_folder_path_1)\n",
    "    os.mkdir(func_folder_path_1)\n",
    "except FileExistsError:\n",
    "    print(f\"Folder {anat_folder_path_1} & {func_folder_path_1} already exists\")\n",
    "else:\n",
    "    print(f\"Folder {anat_folder_path_1} created successfully\")\n",
    "    print(f\"Folder {func_folder_path_1} created successfully\")\n",
    "\n",
    "\n",
    "try:\n",
    "    os.mkdir(anat_folder_path_2)\n",
    "    os.mkdir(func_folder_path_2)\n",
    "except FileExistsError:\n",
    "    print(f\"Folder {anat_folder_path_2} & {func_folder_path_2} already exists\")\n",
    "else:\n",
    "    print(f\"Folder {anat_folder_path_2} created successfully\")\n",
    "    print(f\"Folder {func_folder_path_2} created successfully\")\n",
    "\n",
    "    "
   ]
  },
  {
   "cell_type": "code",
   "execution_count": 67,
   "id": "c11ca0ed-98c4-4478-8204-f12428871445",
   "metadata": {},
   "outputs": [
    {
     "name": "stdout",
     "output_type": "stream",
     "text": [
      "['sub-00', 'sub-01', 'sub-02', 'sub-03', 'sub-05', 'sub-07', 'sub-10']\n"
     ]
    }
   ],
   "source": [
    "# Base directory where the 10 folders are located\n",
    "base_directory = in_dir\n",
    "\n",
    "# List all the directories in the base directory\n",
    "all_folders = os.listdir(base_directory)\n",
    "\n",
    "# Filter and create a list of folders with the \"sub-\" prefix\n",
    "sub_folders = [folder for folder in all_folders if folder.startswith(\"sub-\")]\n",
    "\n",
    "print(sub_folders)"
   ]
  },
  {
   "cell_type": "code",
   "execution_count": 68,
   "id": "4411173a-b64d-49d2-8fbc-08e0114c196f",
   "metadata": {},
   "outputs": [
    {
     "name": "stdout",
     "output_type": "stream",
     "text": [
      "sub-00\n",
      "File 'sub-00_ses-pre_T1w.json' copied to 'E:/Thesis/dataset-work\\pre-ses\\anat'\n",
      "File 'sub-00_ses-pre_T1w.nii.gz' copied to 'E:/Thesis/dataset-work\\pre-ses\\anat'\n",
      "sub-01\n",
      "File 'sub-01_ses-pre_T1w.json' copied to 'E:/Thesis/dataset-work\\pre-ses\\anat'\n",
      "File 'sub-01_ses-pre_T1w.nii.gz' copied to 'E:/Thesis/dataset-work\\pre-ses\\anat'\n",
      "File 'sub-01_ses-pre_T1w_label-lesion_roi.nii.gz' copied to 'E:/Thesis/dataset-work\\pre-ses\\anat'\n",
      "sub-02\n",
      "File 'sub-02_ses-pre_T1w.json' copied to 'E:/Thesis/dataset-work\\pre-ses\\anat'\n",
      "File 'sub-02_ses-pre_T1w.nii.gz' copied to 'E:/Thesis/dataset-work\\pre-ses\\anat'\n",
      "sub-03\n",
      "File 'sub-03_ses-pre_T1w.json' copied to 'E:/Thesis/dataset-work\\pre-ses\\anat'\n",
      "File 'sub-03_ses-pre_T1w.nii.gz' copied to 'E:/Thesis/dataset-work\\pre-ses\\anat'\n",
      "sub-05\n",
      "File 'sub-05_ses-pre_T1w.json' copied to 'E:/Thesis/dataset-work\\pre-ses\\anat'\n",
      "File 'sub-05_ses-pre_T1w.nii.gz' copied to 'E:/Thesis/dataset-work\\pre-ses\\anat'\n",
      "File 'sub-05_ses-pre_T1w_label-lesion_roi.nii.gz' copied to 'E:/Thesis/dataset-work\\pre-ses\\anat'\n",
      "sub-07\n",
      "File 'sub-07_ses-pre_T1w.json' copied to 'E:/Thesis/dataset-work\\pre-ses\\anat'\n",
      "File 'sub-07_ses-pre_T1w.nii.gz' copied to 'E:/Thesis/dataset-work\\pre-ses\\anat'\n",
      "sub-10\n",
      "File 'sub-10_ses-pre_T1w.json' copied to 'E:/Thesis/dataset-work\\pre-ses\\anat'\n",
      "File 'sub-10_ses-pre_T1w.nii.gz' copied to 'E:/Thesis/dataset-work\\pre-ses\\anat'\n"
     ]
    }
   ],
   "source": [
    "from pathlib import Path\n",
    "\n",
    "# List of folder names\n",
    "folder_names = sub_folders\n",
    "\n",
    "# Loop through each folder\n",
    "for folder_name in folder_names:\n",
    "    pre_ses_anat = os.path.join(base_directory, folder_name, 'ses-pre', 'anat')\n",
    "    pre_ses_func = os.path.join(base_directory, folder_name, 'ses-pre', 'func')\n",
    "    \n",
    "    post_ses_anat = os.path.join(base_directory, folder_name, 'ses-post', 'anat')\n",
    "    post_ses_func = os.path.join(base_directory, folder_name, 'ses-post', 'func')\n",
    "    \n",
    "    base_pre_ses_anat = os.path.join(base_directory, 'pre-ses', 'anat')\n",
    "    base_pre_ses_func = os.path.join(base_directory, 'pre-ses', 'func')\n",
    "    \n",
    "    base_post_ses_anat = os.path.join(base_directory, 'post-ses', 'anat')\n",
    "    base_post_ses_func = os.path.join(base_directory, 'post-ses', 'func')\n",
    "    \n",
    "    print(folder_name)\n",
    "    \n",
    "    \n",
    "    # for filename in os.listdir(pre_ses_anat):\n",
    "    #     f = os.path.join(pre_ses_anat, filename)\n",
    "    #     # checking if it is a file\n",
    "    #     if os.path.isfile(f):\n",
    "    #         print(f)\n",
    "    \n",
    "    for file in os.listdir(pre_ses_anat):\n",
    "        source_file_path = os.path.join(pre_ses_anat, file)\n",
    "        destination_file_path = os.path.join(base_pre_ses_anat, file)\n",
    "\n",
    "        # Check if the current item is a file (not a directory)\n",
    "        if os.path.isfile(source_file_path):\n",
    "            shutil.copy2(source_file_path, destination_file_path)\n",
    "            print(f\"File '{file}' copied to '{base_pre_ses_anat}'\")   \n",
    "        else:\n",
    "            print(\"error not copied\")\n",
    "            \n",
    "    for file in os.listdir(pre_ses_func):\n",
    "        source_file_path = os.path.join(pre_ses_func, file)\n",
    "        destination_file_path = os.path.join(base_pre_ses_func, file)\n",
    "\n",
    "        # Check if the current item is a file (not a directory)\n",
    "        if os.path.isfile(source_file_path):\n",
    "            shutil.copy2(source_file_path, destination_file_path)\n",
    "       \n",
    "            \n",
    "            \n",
    "    for file in os.listdir(post_ses_anat):\n",
    "        source_file_path = os.path.join(post_ses_anat, file)\n",
    "        destination_file_path = os.path.join(base_post_ses_anat, file)\n",
    "\n",
    "        # Check if the current item is a file (not a directory)\n",
    "        if os.path.isfile(source_file_path):\n",
    "            shutil.copy2(source_file_path, destination_file_path)\n",
    "         \n",
    "            \n",
    "    for file in os.listdir(post_ses_func):\n",
    "        source_file_path = os.path.join(post_ses_func, file)\n",
    "        destination_file_path = os.path.join(base_post_ses_func, file)\n",
    "\n",
    "        # Check if the current item is a file (not a directory)\n",
    "        if os.path.isfile(source_file_path):\n",
    "            shutil.copy2(source_file_path, destination_file_path)\n",
    "        "
   ]
  },
  {
   "cell_type": "code",
   "execution_count": 69,
   "id": "285545cc-146f-4bfd-925c-73c9e490ccb8",
   "metadata": {},
   "outputs": [],
   "source": [
    "def dicom_files(path):\n",
    "    root = os.path.abspath(path)\n",
    "    print(root)\n",
    "    new_folder_1 = \"dicom_initial\"\n",
    "    new_folder_2 = \"dicom_final\"\n",
    "    new_folder_path_1 = os.path.join(root, new_folder_1)\n",
    "    new_folder_path_2 = os.path.join(root, new_folder_2)\n",
    "\n",
    "    try:\n",
    "        os.mkdir(new_folder_path_1)\n",
    "        os.mkdir(new_folder_path_2)\n",
    "    except FileExistsError:\n",
    "        print(f\"Folder {new_folder_path_1} & {new_folder_path_2} already exists\")\n",
    "    else:\n",
    "        print(f\"Folder {new_folder_path_1} & {new_folder_path_2} created successfully\")\n",
    "\n",
    "\n",
    "    labels_folder = \"antonmy\"\n",
    "    images_folder = \"functional\"\n",
    "    labels_folder_path_1 = os.path.join(new_folder_path_1, labels_folder)\n",
    "    labels_folder_path_2 = os.path.join(new_folder_path_2, labels_folder)\n",
    "\n",
    "    images_folder_path_1 = os.path.join(new_folder_path_1, images_folder)\n",
    "    images_folder_path_2 = os.path.join(new_folder_path_2, images_folder)\n",
    "\n",
    "    ## making dicom_initial's labels and images\n",
    "    try:\n",
    "        os.mkdir(labels_folder_path_1)\n",
    "        os.mkdir(images_folder_path_1)\n",
    "    except FileExistsError:\n",
    "        print(f\"Folder {labels_folder_path_1} & {images_folder_path_1} already exists\")\n",
    "    else:\n",
    "        print(f\"Folder {labels_folder_path_1} created successfully\")\n",
    "        print(f\"Folder {images_folder_path_1} created successfully\")\n",
    "\n",
    "\n",
    "    ## making dicom_final's labels and images\n",
    "    try:\n",
    "        os.mkdir(labels_folder_path_2)\n",
    "        os.mkdir(images_folder_path_2)\n",
    "    except FileExistsError:\n",
    "        print(f\"Folder {labels_folder_path_2} & {images_folder_path_2} already exists\")\n",
    "    else:\n",
    "        print(f\"Folder {labels_folder_path_2} created successfully\")\n",
    "        print(f\"Folder {images_folder_path_2} created successfully\")"
   ]
  },
  {
   "cell_type": "code",
   "execution_count": 70,
   "id": "79b54514-0215-4869-a178-7d9ee7242b0b",
   "metadata": {},
   "outputs": [
    {
     "name": "stdout",
     "output_type": "stream",
     "text": [
      "E:\\Thesis\\dataset-work\\post-ses\n",
      "Folder E:\\Thesis\\dataset-work\\post-ses\\dicom_initial & E:\\Thesis\\dataset-work\\post-ses\\dicom_final already exists\n",
      "Folder E:\\Thesis\\dataset-work\\post-ses\\dicom_initial\\antonmy & E:\\Thesis\\dataset-work\\post-ses\\dicom_initial\\functional already exists\n",
      "Folder E:\\Thesis\\dataset-work\\post-ses\\dicom_final\\antonmy & E:\\Thesis\\dataset-work\\post-ses\\dicom_final\\functional already exists\n",
      "E:\\Thesis\\dataset-work\\pre-ses\n",
      "Folder E:\\Thesis\\dataset-work\\pre-ses\\dicom_initial & E:\\Thesis\\dataset-work\\pre-ses\\dicom_final already exists\n",
      "Folder E:\\Thesis\\dataset-work\\pre-ses\\dicom_initial\\antonmy & E:\\Thesis\\dataset-work\\pre-ses\\dicom_initial\\functional already exists\n",
      "Folder E:\\Thesis\\dataset-work\\pre-ses\\dicom_final\\antonmy & E:\\Thesis\\dataset-work\\pre-ses\\dicom_final\\functional already exists\n"
     ]
    }
   ],
   "source": [
    "post_file_dir = \"E:\\Thesis\\dataset-work\\post-ses\"\n",
    "pre_file_dir = \"E:\\Thesis\\dataset-work\\pre-ses\"\n",
    "\n",
    "\n",
    "dicom_files(post_file_dir)\n",
    "dicom_files(pre_file_dir)"
   ]
  },
  {
   "cell_type": "code",
   "execution_count": 71,
   "id": "df747f46-b7f2-45ca-9fc7-9f7bea8b2fd7",
   "metadata": {},
   "outputs": [
    {
     "name": "stdout",
     "output_type": "stream",
     "text": [
      "['sub-00_ses-post_T1w.json', 'sub-00_ses-post_T1w.nii.gz', 'sub-01_ses-post_T1w.json', 'sub-01_ses-post_T1w.nii.gz', 'sub-02_ses-post_T1w.json', 'sub-02_ses-post_T1w.nii.gz', 'sub-03_ses-post_T1w.json', 'sub-03_ses-post_T1w.nii.gz', 'sub-05_ses-post_T1w.json', 'sub-05_ses-post_T1w.nii.gz', 'sub-07_ses-post_T1w.json', 'sub-07_ses-post_T1w.nii.gz', 'sub-10_ses-post_T1w.json', 'sub-10_ses-post_T1w.nii.gz', 'temp']\n"
     ]
    }
   ],
   "source": [
    "path_1 = \"E:/Thesis/dataset-work/post-ses/anat\"\n",
    "path_2 = \"E:/Thesis/dataset-work/post-ses/func\"\n",
    "\n",
    "path_1_out = \"E:/Thesis/dataset-work/post-ses/dicom_initial/antonmy\"\n",
    "path_2_out = \"E:/Thesis/dataset-work/post-ses/dicom_initial/functional\"\n",
    "print(os.listdir(path_1))"
   ]
  },
  {
   "cell_type": "code",
   "execution_count": 72,
   "id": "b19621c0-6c28-46a0-964b-945f49d4d37e",
   "metadata": {},
   "outputs": [
    {
     "name": "stdout",
     "output_type": "stream",
     "text": [
      "Folder E:/Thesis/dataset-work/post-ses/anat\\temp\n"
     ]
    }
   ],
   "source": [
    "import pathlib\n",
    "# List all files in the source folder\n",
    "\n",
    "files_1 = os.listdir(path_1)\n",
    "\n",
    "temp = os.path.join(path_1 , \"temp\")\n",
    "\n",
    "try:\n",
    "    os.mkdir(temp)\n",
    "except FileExistsError:\n",
    "    print(f\"Folder {temp}\")\n",
    "else:\n",
    "    print(f\"Folder {temp} created successfully\")\n",
    "    "
   ]
  },
  {
   "cell_type": "code",
   "execution_count": 73,
   "id": "0e276b69-45ff-47bf-a306-4674c55f644d",
   "metadata": {},
   "outputs": [
    {
     "name": "stdout",
     "output_type": "stream",
     "text": [
      "E:\\Thesis\\dataset-work\\post-ses\\anat\\temp\n",
      ".json\n",
      ".gz\n",
      "File 'sub-00_ses-post_T1w.nii.gz' moved to 'E:\\Thesis\\dataset-work\\post-ses\\anat\\temp'\n",
      ".json\n",
      ".gz\n",
      "File 'sub-01_ses-post_T1w.nii.gz' moved to 'E:\\Thesis\\dataset-work\\post-ses\\anat\\temp'\n",
      ".json\n",
      ".gz\n",
      "File 'sub-02_ses-post_T1w.nii.gz' moved to 'E:\\Thesis\\dataset-work\\post-ses\\anat\\temp'\n",
      ".json\n",
      ".gz\n",
      "File 'sub-03_ses-post_T1w.nii.gz' moved to 'E:\\Thesis\\dataset-work\\post-ses\\anat\\temp'\n",
      ".json\n",
      ".gz\n",
      "File 'sub-05_ses-post_T1w.nii.gz' moved to 'E:\\Thesis\\dataset-work\\post-ses\\anat\\temp'\n",
      ".json\n",
      ".gz\n",
      "File 'sub-07_ses-post_T1w.nii.gz' moved to 'E:\\Thesis\\dataset-work\\post-ses\\anat\\temp'\n",
      ".json\n",
      ".gz\n",
      "File 'sub-10_ses-post_T1w.nii.gz' moved to 'E:\\Thesis\\dataset-work\\post-ses\\anat\\temp'\n",
      "\n"
     ]
    }
   ],
   "source": [
    "source_folder = \"E:/Thesis/dataset-work/post-ses/anat\"\n",
    "destination_folder = os.path.normpath(temp)\n",
    "print(destination_folder)\n",
    "# Iterate through each file and move if it has the desired extension\n",
    "for file in files_1:\n",
    "    k = pathlib.Path(file).suffix\n",
    "    print(k)\n",
    "    if k == \".gz\":\n",
    "        source_file_path = os.path.join(source_folder, file)\n",
    "        destination_file_path = os.path.join(destination_folder, file)\n",
    "        \n",
    "        # Move the file\n",
    "        shutil.move(source_file_path, destination_file_path)\n",
    "        print(f\"File '{file}' moved to '{destination_folder}'\")"
   ]
  },
  {
   "cell_type": "markdown",
   "id": "ab4c93b0-09f2-4601-91e2-ce5181af2276",
   "metadata": {
    "tags": []
   },
   "source": [
    "### nifti to dicom (stored in dicom_initial)"
   ]
  },
  {
   "cell_type": "code",
   "execution_count": 75,
   "id": "3bc12b38-c91c-4b43-80be-22fa6ccf3067",
   "metadata": {},
   "outputs": [],
   "source": [
    "nifti2dicom_mfiles(temp, path_1_out)"
   ]
  },
  {
   "cell_type": "markdown",
   "id": "3a765dc6-0042-4dd3-98bd-133d11e9faa0",
   "metadata": {
    "tags": []
   },
   "source": [
    "# Divide the .dcm files to multiples folders of same sample size "
   ]
  },
  {
   "cell_type": "code",
   "execution_count": 76,
   "id": "cdc036d8-8798-42e1-a017-b08b3bfb03e6",
   "metadata": {},
   "outputs": [
    {
     "name": "stdout",
     "output_type": "stream",
     "text": [
      "E:/Thesis/dataset-work/post-ses/dicom_initial/antonmy\n"
     ]
    }
   ],
   "source": [
    "print(path_1_out)\n"
   ]
  },
  {
   "cell_type": "code",
   "execution_count": 77,
   "id": "040aede7-dff7-4243-891b-7683fe100e2c",
   "metadata": {},
   "outputs": [
    {
     "name": "stdout",
     "output_type": "stream",
     "text": [
      "E:\\Thesis\\dataset-work\\post-ses\\dicom_initial\\antonmy\n",
      "E:\\Thesis\\dataset-work\\post-ses\\dicom_final\u0007ntonmy\n",
      "['E:/Thesis/dataset-work/post-ses/dicom_initial/antonmy\\\\sub-00_ses-post_T1w', 'E:/Thesis/dataset-work/post-ses/dicom_initial/antonmy\\\\sub-01_ses-post_T1w', 'E:/Thesis/dataset-work/post-ses/dicom_initial/antonmy\\\\sub-02_ses-post_T1w', 'E:/Thesis/dataset-work/post-ses/dicom_initial/antonmy\\\\sub-03_ses-post_T1w', 'E:/Thesis/dataset-work/post-ses/dicom_initial/antonmy\\\\sub-05_ses-post_T1w', 'E:/Thesis/dataset-work/post-ses/dicom_initial/antonmy\\\\sub-07_ses-post_T1w', 'E:/Thesis/dataset-work/post-ses/dicom_initial/antonmy\\\\sub-10_ses-post_T1w']\n",
      "E:/Thesis/dataset-work/post-ses/dicom_initial/antonmy\\sub-00_ses-post_T1w\n",
      "256\n"
     ]
    }
   ],
   "source": [
    "d_initial_labels = path_1_out\n",
    "d_final_labels = os.path.normpath(\"E:\\Thesis\\dataset-work\\post-ses\\dicom_final\\antonmy\")\n",
    "  \n",
    "print(os.path.normpath(d_initial_labels))\n",
    "print(d_final_labels)\n",
    "\n",
    "p = glob( d_initial_labels +\"/*\")\n",
    "print(p)\n",
    "p = p[0]\n",
    "print(p)\n",
    "l = len(glob(p + \"/*\"))\n",
    "print(l)"
   ]
  },
  {
   "cell_type": "code",
   "execution_count": 78,
   "id": "d6d9d0e9-e0d0-4431-b2ab-950d7c1ddd5f",
   "metadata": {},
   "outputs": [],
   "source": [
    "def dicom_divide(number_of_sice, initial_path , final_path):\n",
    "    for i in glob(initial_path+\"/*\"):\n",
    "        print(\"Entered-> \",i)\n",
    "\n",
    "        folder_name = os.path.basename(os.path.normpath(i))\n",
    "        number_of_folder = int(len(glob(i+\"/*\"))/number_of_slice)\n",
    "        print(f\"folder_name: {folder_name}\")\n",
    "        print(f\"numbers_of_folder: {number_of_folder}\")\n",
    "\n",
    "\n",
    "        for j in range(1,number_of_folder+1):\n",
    "            new_dir = os.path.join(final_path, folder_name+\"_\"+str(j))\n",
    "            print(new_dir)\n",
    "            \n",
    "            try:\n",
    "                os.mkdir(new_dir)\n",
    "            except OSError as e:\n",
    "                print(f\"Error: {new_dir} : {e.strerror}\")\n",
    "                continue\n",
    "            \n",
    "            # get files and copy to the new folder \n",
    "            k = 0\n",
    "            for l in glob(i+\"/*\"):\n",
    "                if k == number_of_slice:\n",
    "                    break\n",
    "\n",
    "                #shutil.copy(l,new_dir) ---- You have to move or the code has to be changed the code don't copy all the files only first 40 when used copy\n",
    "                shutil.move(l,new_dir)\n",
    "                k+=1"
   ]
  },
  {
   "cell_type": "code",
   "execution_count": 79,
   "id": "c736a323-8d1c-48ff-bec6-fafef8b3ff82",
   "metadata": {},
   "outputs": [],
   "source": [
    "#number_of_slice = 40\n",
    "\n",
    "def number_of_slices( folder_path ):\n",
    "    \n",
    "    min_samples = float('inf')\n",
    "    for i in glob(folder_path+\"/*\"):\n",
    "        print(\"Entered-> \",i)\n",
    "        \n",
    "        length = len(glob(i + \"/*\"))\n",
    "        \n",
    "        if(length < min_samples):\n",
    "            min_samples = length\n",
    "            print(min_samples)\n",
    "            \n",
    "    return min_samples   \n"
   ]
  },
  {
   "cell_type": "code",
   "execution_count": 80,
   "id": "df970f46-c329-4b4c-a6c5-bfa9625777c4",
   "metadata": {},
   "outputs": [
    {
     "name": "stdout",
     "output_type": "stream",
     "text": [
      "Entered->  E:/Thesis/dataset-work/post-ses/dicom_initial/antonmy\\sub-00_ses-post_T1w\n",
      "256\n",
      "Entered->  E:/Thesis/dataset-work/post-ses/dicom_initial/antonmy\\sub-01_ses-post_T1w\n",
      "Entered->  E:/Thesis/dataset-work/post-ses/dicom_initial/antonmy\\sub-02_ses-post_T1w\n",
      "Entered->  E:/Thesis/dataset-work/post-ses/dicom_initial/antonmy\\sub-03_ses-post_T1w\n",
      "Entered->  E:/Thesis/dataset-work/post-ses/dicom_initial/antonmy\\sub-05_ses-post_T1w\n",
      "Entered->  E:/Thesis/dataset-work/post-ses/dicom_initial/antonmy\\sub-07_ses-post_T1w\n",
      "Entered->  E:/Thesis/dataset-work/post-ses/dicom_initial/antonmy\\sub-10_ses-post_T1w\n",
      "256\n"
     ]
    }
   ],
   "source": [
    "number_of_slice = number_of_slices(d_initial_labels)\n",
    "print(number_of_slice)"
   ]
  },
  {
   "cell_type": "code",
   "execution_count": 81,
   "id": "5c108200-83ab-4571-bb49-36821dc8a3d6",
   "metadata": {},
   "outputs": [
    {
     "name": "stdout",
     "output_type": "stream",
     "text": [
      "Entered->  E:/Thesis/dataset-work/post-ses/dicom_initial/antonmy\\sub-00_ses-post_T1w\n",
      "folder_name: sub-00_ses-post_T1w\n",
      "numbers_of_folder: 1\n",
      "E:\\Thesis\\dataset-work\\post-ses\\dicom_final\u0007ntonmy\\sub-00_ses-post_T1w_1\n",
      "Error: E:\\Thesis\\dataset-work\\post-ses\\dicom_final\u0007ntonmy\\sub-00_ses-post_T1w_1 : The filename, directory name, or volume label syntax is incorrect\n",
      "Entered->  E:/Thesis/dataset-work/post-ses/dicom_initial/antonmy\\sub-01_ses-post_T1w\n",
      "folder_name: sub-01_ses-post_T1w\n",
      "numbers_of_folder: 1\n",
      "E:\\Thesis\\dataset-work\\post-ses\\dicom_final\u0007ntonmy\\sub-01_ses-post_T1w_1\n",
      "Error: E:\\Thesis\\dataset-work\\post-ses\\dicom_final\u0007ntonmy\\sub-01_ses-post_T1w_1 : The filename, directory name, or volume label syntax is incorrect\n",
      "Entered->  E:/Thesis/dataset-work/post-ses/dicom_initial/antonmy\\sub-02_ses-post_T1w\n",
      "folder_name: sub-02_ses-post_T1w\n",
      "numbers_of_folder: 1\n",
      "E:\\Thesis\\dataset-work\\post-ses\\dicom_final\u0007ntonmy\\sub-02_ses-post_T1w_1\n",
      "Error: E:\\Thesis\\dataset-work\\post-ses\\dicom_final\u0007ntonmy\\sub-02_ses-post_T1w_1 : The filename, directory name, or volume label syntax is incorrect\n",
      "Entered->  E:/Thesis/dataset-work/post-ses/dicom_initial/antonmy\\sub-03_ses-post_T1w\n",
      "folder_name: sub-03_ses-post_T1w\n",
      "numbers_of_folder: 1\n",
      "E:\\Thesis\\dataset-work\\post-ses\\dicom_final\u0007ntonmy\\sub-03_ses-post_T1w_1\n",
      "Error: E:\\Thesis\\dataset-work\\post-ses\\dicom_final\u0007ntonmy\\sub-03_ses-post_T1w_1 : The filename, directory name, or volume label syntax is incorrect\n",
      "Entered->  E:/Thesis/dataset-work/post-ses/dicom_initial/antonmy\\sub-05_ses-post_T1w\n",
      "folder_name: sub-05_ses-post_T1w\n",
      "numbers_of_folder: 1\n",
      "E:\\Thesis\\dataset-work\\post-ses\\dicom_final\u0007ntonmy\\sub-05_ses-post_T1w_1\n",
      "Error: E:\\Thesis\\dataset-work\\post-ses\\dicom_final\u0007ntonmy\\sub-05_ses-post_T1w_1 : The filename, directory name, or volume label syntax is incorrect\n",
      "Entered->  E:/Thesis/dataset-work/post-ses/dicom_initial/antonmy\\sub-07_ses-post_T1w\n",
      "folder_name: sub-07_ses-post_T1w\n",
      "numbers_of_folder: 1\n",
      "E:\\Thesis\\dataset-work\\post-ses\\dicom_final\u0007ntonmy\\sub-07_ses-post_T1w_1\n",
      "Error: E:\\Thesis\\dataset-work\\post-ses\\dicom_final\u0007ntonmy\\sub-07_ses-post_T1w_1 : The filename, directory name, or volume label syntax is incorrect\n",
      "Entered->  E:/Thesis/dataset-work/post-ses/dicom_initial/antonmy\\sub-10_ses-post_T1w\n",
      "folder_name: sub-10_ses-post_T1w\n",
      "numbers_of_folder: 1\n",
      "E:\\Thesis\\dataset-work\\post-ses\\dicom_final\u0007ntonmy\\sub-10_ses-post_T1w_1\n",
      "Error: E:\\Thesis\\dataset-work\\post-ses\\dicom_final\u0007ntonmy\\sub-10_ses-post_T1w_1 : The filename, directory name, or volume label syntax is incorrect\n"
     ]
    }
   ],
   "source": [
    "#for labels\n",
    "dicom_divide(number_of_slice,d_initial_labels , d_final_labels)"
   ]
  },
  {
   "cell_type": "code",
   "execution_count": 82,
   "id": "ea99c17d-50c2-4d94-aa98-8bebd5ca8fcf",
   "metadata": {},
   "outputs": [
    {
     "name": "stdout",
     "output_type": "stream",
     "text": [
      "0\n"
     ]
    }
   ],
   "source": [
    "print(len(glob(d_final_labels + \"/*\")))"
   ]
  },
  {
   "cell_type": "markdown",
   "id": "7f70ea99-9aea-439a-8e3a-ccbea76f9014",
   "metadata": {},
   "source": [
    "# Convert to nifti files"
   ]
  },
  {
   "cell_type": "code",
   "execution_count": 83,
   "id": "ff4d6c38-a382-41da-9556-33ed42181454",
   "metadata": {},
   "outputs": [
    {
     "name": "stdout",
     "output_type": "stream",
     "text": [
      "Requirement already satisfied: dicom2nifti in c:\\users\\hmsha\\anaconda3\\envs\\monai_works\\lib\\site-packages (2.4.8)\n",
      "Requirement already satisfied: nibabel in c:\\users\\hmsha\\anaconda3\\envs\\monai_works\\lib\\site-packages (from dicom2nifti) (5.1.0)\n",
      "Requirement already satisfied: pydicom>=2.2.0 in c:\\users\\hmsha\\anaconda3\\envs\\monai_works\\lib\\site-packages (from dicom2nifti) (2.3.1)\n",
      "Requirement already satisfied: scipy in c:\\users\\hmsha\\anaconda3\\envs\\monai_works\\lib\\site-packages (from dicom2nifti) (1.10.1)\n",
      "Requirement already satisfied: numpy in c:\\users\\hmsha\\anaconda3\\envs\\monai_works\\lib\\site-packages (from dicom2nifti) (1.24.2)\n",
      "Requirement already satisfied: python-gdcm in c:\\users\\hmsha\\anaconda3\\envs\\monai_works\\lib\\site-packages (from dicom2nifti) (3.0.21)\n",
      "Requirement already satisfied: packaging>=17 in c:\\users\\hmsha\\anaconda3\\envs\\monai_works\\lib\\site-packages (from nibabel->dicom2nifti) (23.0)\n",
      "Requirement already satisfied: importlib-resources>=1.3 in c:\\users\\hmsha\\anaconda3\\envs\\monai_works\\lib\\site-packages (from nibabel->dicom2nifti) (5.2.0)\n",
      "Requirement already satisfied: zipp>=3.1.0 in c:\\users\\hmsha\\anaconda3\\envs\\monai_works\\lib\\site-packages (from importlib-resources>=1.3->nibabel->dicom2nifti) (3.11.0)\n"
     ]
    }
   ],
   "source": [
    "!pip install dicom2nifti"
   ]
  },
  {
   "cell_type": "code",
   "execution_count": 84,
   "id": "4cdf74cd-5acd-437f-9892-8f00118325cd",
   "metadata": {},
   "outputs": [],
   "source": [
    "import dicom2nifti as dn"
   ]
  },
  {
   "cell_type": "markdown",
   "id": "45a8261f-b7e7-4cb3-89b9-26b812040f71",
   "metadata": {},
   "source": [
    "### create nifti directory"
   ]
  },
  {
   "cell_type": "code",
   "execution_count": 85,
   "id": "ed454648-459f-42e0-bed3-19d02fd43838",
   "metadata": {},
   "outputs": [
    {
     "name": "stdout",
     "output_type": "stream",
     "text": [
      "E:/Thesis\n",
      "Folder E:/Thesis\\nifti_initial created successfully\n",
      "Folder E:/Thesis\\nifti_initial\\labels created successfully\n",
      "Folder E:/Thesis\\nifti_initial\\images created successfully\n"
     ]
    }
   ],
   "source": [
    "root = os.path.dirname(in_dir)\n",
    "print(root)\n",
    "new_folder_3 = \"nifti_initial\"\n",
    "new_folder_path_3 = os.path.join(root, new_folder_3)\n",
    "\n",
    "\n",
    "try:\n",
    "    os.mkdir(new_folder_path_3)\n",
    "except FileExistsError:\n",
    "    print(f\"Folder {new_folder_path_3} already exists\")\n",
    "else:\n",
    "    print(f\"Folder {new_folder_path_3} created successfully\")\n",
    "\n",
    "    \n",
    "labels_folder = \"labels\"\n",
    "images_folder = \"images\"\n",
    "\n",
    "labels_folder_path_3 = os.path.join(new_folder_path_3, labels_folder)\n",
    "images_folder_path_3 = os.path.join(new_folder_path_3, images_folder)\n",
    "\n",
    "\n",
    "## making nifti_initial's labels and images\n",
    "try:\n",
    "    os.mkdir(labels_folder_path_3)\n",
    "    os.mkdir(images_folder_path_3)\n",
    "except FileExistsError:\n",
    "    print(f\"Folder {labels_folder_path_3} & {images_folder_path_3} already exists\")\n",
    "else:\n",
    "    print(f\"Folder {labels_folder_path_3} created successfully\")\n",
    "    print(f\"Folder {images_folder_path_3} created successfully\")"
   ]
  },
  {
   "cell_type": "code",
   "execution_count": 86,
   "id": "bfedc618-15fe-45fa-af13-6ca1822e70b3",
   "metadata": {},
   "outputs": [
    {
     "name": "stdout",
     "output_type": "stream",
     "text": [
      "E:\\Thesis\\dataset-work\\post-ses\\dicom_final\u0007ntonmy/*\n",
      "E:/Thesis\\nifti_initial\\labels\n"
     ]
    }
   ],
   "source": [
    "dicom_path_labels = d_final_labels+ \"/*\"\n",
    "nifti_path_labels = labels_folder_path_3\n",
    "\n",
    "print(dicom_path_labels)\n",
    "print(nifti_path_labels)\n"
   ]
  },
  {
   "cell_type": "code",
   "execution_count": 87,
   "id": "20939618-1890-4cb3-946b-56ead64938f9",
   "metadata": {},
   "outputs": [],
   "source": [
    "def dicom_2_nifti(dicom_path , nifti_path):\n",
    "    folder_list = glob(dicom_path)\n",
    "    print(folder_list)\n",
    "    print(nifti_path)\n",
    "    counter = 0\n",
    "    \n",
    "    for i in folder_list:\n",
    "        folder_name = os.path.basename(os.path.normpath(i))\n",
    "        dn.dicom_series_to_nifti(i,os.path.join(nifti_path,folder_name+\".nii.gz\"))\n",
    "        print(f\"completed_{counter}\")\n",
    "        counter = counter + 1\n"
   ]
  },
  {
   "cell_type": "code",
   "execution_count": 88,
   "id": "e151a45a-5a76-408b-b43d-4ae918fdb126",
   "metadata": {},
   "outputs": [
    {
     "name": "stdout",
     "output_type": "stream",
     "text": [
      "[]\n",
      "E:/Thesis\\nifti_initial\\labels\n"
     ]
    }
   ],
   "source": [
    "#for labels\n",
    "dicom_2_nifti(dicom_path_labels , nifti_path_labels)"
   ]
  },
  {
   "cell_type": "markdown",
   "id": "a13b87f6-a24a-42f5-97da-538d69091940",
   "metadata": {
    "tags": []
   },
   "source": [
    "# Find NULL"
   ]
  },
  {
   "cell_type": "code",
   "execution_count": 26,
   "id": "898f96c1-df37-499f-8d35-4268964f8c5b",
   "metadata": {},
   "outputs": [
    {
     "name": "stdout",
     "output_type": "stream",
     "text": [
      "Requirement already satisfied: nibabel in c:\\users\\hmsha\\anaconda3\\envs\\monai_works\\lib\\site-packages (5.1.0)\n",
      "Requirement already satisfied: numpy>=1.19 in c:\\users\\hmsha\\anaconda3\\envs\\monai_works\\lib\\site-packages (from nibabel) (1.24.2)\n",
      "Requirement already satisfied: packaging>=17 in c:\\users\\hmsha\\anaconda3\\envs\\monai_works\\lib\\site-packages (from nibabel) (23.0)\n",
      "Requirement already satisfied: importlib-resources>=1.3 in c:\\users\\hmsha\\anaconda3\\envs\\monai_works\\lib\\site-packages (from nibabel) (5.2.0)\n",
      "Requirement already satisfied: zipp>=3.1.0 in c:\\users\\hmsha\\anaconda3\\envs\\monai_works\\lib\\site-packages (from importlib-resources>=1.3->nibabel) (3.11.0)\n"
     ]
    }
   ],
   "source": [
    "!pip install nibabel"
   ]
  },
  {
   "cell_type": "code",
   "execution_count": 27,
   "id": "337ffd23-cef7-4049-a7a0-214c753c2117",
   "metadata": {},
   "outputs": [],
   "source": [
    "import nibabel as nb\n",
    "import numpy as np"
   ]
  },
  {
   "cell_type": "code",
   "execution_count": 28,
   "id": "8b28976b-cbc8-4b56-aff0-f23383ba0c7a",
   "metadata": {},
   "outputs": [],
   "source": [
    "path_of = nifti_path_labels + \"/*\""
   ]
  },
  {
   "cell_type": "code",
   "execution_count": 29,
   "id": "f53fdb44-2784-474d-82a6-62721330be2c",
   "metadata": {},
   "outputs": [
    {
     "name": "stdout",
     "output_type": "stream",
     "text": [
      "[0. 1.]\n",
      "[0.]\n",
      "[0.]\n",
      "[0. 1.]\n",
      "[0. 1.]\n",
      "[0. 1.]\n",
      "[0. 1.]\n",
      "[0. 1.]\n",
      "[0. 1.]\n",
      "[0.]\n",
      "[0.]\n",
      "[0. 1.]\n",
      "[0.]\n",
      "[0.]\n",
      "[0. 1.]\n",
      "[0. 1.]\n",
      "[0. 1.]\n",
      "[0. 1.]\n"
     ]
    }
   ],
   "source": [
    "list_of_null=[]\n",
    "\n",
    "for i in glob(path_of):\n",
    "    nifti = nb.load(i)\n",
    "    \n",
    "    frame_data = nifti.get_fdata()\n",
    "    #print(frame_data)\n",
    "    \n",
    "    uniq = np.unique(frame_data)\n",
    "    print(uniq)\n",
    "    if len(uniq) == 1:\n",
    "        list_of_null.append(i)"
   ]
  },
  {
   "cell_type": "code",
   "execution_count": 30,
   "id": "8c8888be-46ae-40a1-a562-5a3c6a76862a",
   "metadata": {},
   "outputs": [
    {
     "data": {
      "text/plain": [
       "['E:/Thesis/Most_one\\\\nifti_initial\\\\labels\\\\labels_spleen_12_1.nii.gz',\n",
       " 'E:/Thesis/Most_one\\\\nifti_initial\\\\labels\\\\labels_spleen_12_2.nii.gz',\n",
       " 'E:/Thesis/Most_one\\\\nifti_initial\\\\labels\\\\labels_spleen_2_1.nii.gz',\n",
       " 'E:/Thesis/Most_one\\\\nifti_initial\\\\labels\\\\labels_spleen_2_2.nii.gz',\n",
       " 'E:/Thesis/Most_one\\\\nifti_initial\\\\labels\\\\labels_spleen_6_1.nii.gz',\n",
       " 'E:/Thesis/Most_one\\\\nifti_initial\\\\labels\\\\labels_spleen_6_2.nii.gz']"
      ]
     },
     "execution_count": 30,
     "metadata": {},
     "output_type": "execute_result"
    }
   ],
   "source": [
    "list_of_null"
   ]
  },
  {
   "cell_type": "markdown",
   "id": "15e40823-9026-400a-93d7-f4de6b747690",
   "metadata": {
    "tags": []
   },
   "source": [
    "## Remove NULL files"
   ]
  },
  {
   "cell_type": "code",
   "execution_count": 31,
   "id": "3030716b-2e2d-4f07-a52b-3ee0edc80030",
   "metadata": {},
   "outputs": [],
   "source": [
    "def remove_null(list_of_null):\n",
    "    for i in list_of_null:\n",
    "        if os.path.exists(i):\n",
    "            os.remove(i)\n",
    "            print(\"File deleted successfully.\")\n",
    "        else:\n",
    "            print(\"File does not exist.\")"
   ]
  },
  {
   "cell_type": "code",
   "execution_count": 32,
   "id": "028b2f41-3422-4872-a75d-6021fc97338d",
   "metadata": {},
   "outputs": [],
   "source": [
    " #   remove_null(list_of_null)"
   ]
  },
  {
   "cell_type": "code",
   "execution_count": null,
   "id": "9e757e8d-f0f9-485f-9ee1-9fa40fce4e56",
   "metadata": {},
   "outputs": [],
   "source": []
  },
  {
   "cell_type": "code",
   "execution_count": null,
   "id": "0931e701-2997-4559-813c-bb0a6a6955ca",
   "metadata": {},
   "outputs": [],
   "source": []
  }
 ],
 "metadata": {
  "kernelspec": {
   "display_name": "Python 3 (ipykernel)",
   "language": "python",
   "name": "python3"
  },
  "language_info": {
   "codemirror_mode": {
    "name": "ipython",
    "version": 3
   },
   "file_extension": ".py",
   "mimetype": "text/x-python",
   "name": "python",
   "nbconvert_exporter": "python",
   "pygments_lexer": "ipython3",
   "version": "3.8.16"
  }
 },
 "nbformat": 4,
 "nbformat_minor": 5
}
