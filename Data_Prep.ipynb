{
 "cells": [
  {
   "cell_type": "markdown",
   "id": "f12f77f4-73f0-4524-97ad-325e7db63c64",
   "metadata": {
    "jp-MarkdownHeadingCollapsed": true,
    "tags": []
   },
   "source": [
    "Shutil - copy,paste,move\n",
    "\n",
    "Glob - works on data path"
   ]
  },
  {
   "cell_type": "code",
   "execution_count": 293,
   "id": "4579bf69-89fa-4aad-9643-8578133966d8",
   "metadata": {},
   "outputs": [
    {
     "name": "stdout",
     "output_type": "stream",
     "text": [
      "Requirement already satisfied: glob2 in c:\\users\\hmsha\\anaconda3\\envs\\monai_works\\lib\\site-packages (0.7)\n"
     ]
    }
   ],
   "source": [
    "!pip install glob2"
   ]
  },
  {
   "cell_type": "code",
   "execution_count": 294,
   "id": "3de6a6b1-636b-48ba-8976-5dafa642225e",
   "metadata": {},
   "outputs": [
    {
     "name": "stdout",
     "output_type": "stream",
     "text": [
      "Requirement already satisfied: pytest-shutil in c:\\users\\hmsha\\anaconda3\\envs\\monai_works\\lib\\site-packages (1.7.0)\n",
      "Requirement already satisfied: execnet in c:\\users\\hmsha\\anaconda3\\envs\\monai_works\\lib\\site-packages (from pytest-shutil) (1.9.0)\n",
      "Requirement already satisfied: path.py in c:\\users\\hmsha\\anaconda3\\envs\\monai_works\\lib\\site-packages (from pytest-shutil) (12.5.0)\n",
      "Requirement already satisfied: six in c:\\users\\hmsha\\anaconda3\\envs\\monai_works\\lib\\site-packages (from pytest-shutil) (1.16.0)\n",
      "Requirement already satisfied: termcolor in c:\\users\\hmsha\\anaconda3\\envs\\monai_works\\lib\\site-packages (from pytest-shutil) (2.2.0)\n",
      "Requirement already satisfied: pytest in c:\\users\\hmsha\\anaconda3\\envs\\monai_works\\lib\\site-packages (from pytest-shutil) (7.3.0)\n",
      "Requirement already satisfied: mock in c:\\users\\hmsha\\anaconda3\\envs\\monai_works\\lib\\site-packages (from pytest-shutil) (5.0.1)\n",
      "Requirement already satisfied: contextlib2 in c:\\users\\hmsha\\anaconda3\\envs\\monai_works\\lib\\site-packages (from pytest-shutil) (21.6.0)\n",
      "Requirement already satisfied: path in c:\\users\\hmsha\\anaconda3\\envs\\monai_works\\lib\\site-packages (from path.py->pytest-shutil) (16.6.0)\n",
      "Requirement already satisfied: pluggy<2.0,>=0.12 in c:\\users\\hmsha\\anaconda3\\envs\\monai_works\\lib\\site-packages (from pytest->pytest-shutil) (1.0.0)\n",
      "Requirement already satisfied: iniconfig in c:\\users\\hmsha\\anaconda3\\envs\\monai_works\\lib\\site-packages (from pytest->pytest-shutil) (2.0.0)\n",
      "Requirement already satisfied: colorama in c:\\users\\hmsha\\anaconda3\\envs\\monai_works\\lib\\site-packages (from pytest->pytest-shutil) (0.4.6)\n",
      "Requirement already satisfied: exceptiongroup>=1.0.0rc8 in c:\\users\\hmsha\\anaconda3\\envs\\monai_works\\lib\\site-packages (from pytest->pytest-shutil) (1.1.1)\n",
      "Requirement already satisfied: packaging in c:\\users\\hmsha\\anaconda3\\envs\\monai_works\\lib\\site-packages (from pytest->pytest-shutil) (23.0)\n",
      "Requirement already satisfied: tomli>=1.0.0 in c:\\users\\hmsha\\anaconda3\\envs\\monai_works\\lib\\site-packages (from pytest->pytest-shutil) (2.0.1)\n"
     ]
    }
   ],
   "source": [
    "!pip install pytest-shutil"
   ]
  },
  {
   "cell_type": "code",
   "execution_count": 2,
   "id": "efafd526-732e-441d-b34e-3594d0a83857",
   "metadata": {},
   "outputs": [],
   "source": [
    "from glob import glob\n",
    "import shutil\n",
    "import os"
   ]
  },
  {
   "cell_type": "code",
   "execution_count": 3,
   "id": "cb77b0ba-e86a-4d5d-8c02-a511145010e0",
   "metadata": {},
   "outputs": [],
   "source": [
    "#reverse the slash\n",
    "\n",
    "d_initial_labels = \"E:/Thesis/data_preparing/dicom_initial/labels\"\n",
    "d_final_labels =   \"E:/Thesis/data_preparing/dicom_final/labels\"\n",
    "\n",
    "d_initial_images = \"E:/Thesis/data_preparing/dicom_initial/images\"\n",
    "d_final_images = \"E:/Thesis/data_preparing/dicom_final/images\""
   ]
  },
  {
   "cell_type": "markdown",
   "id": "4c878530-0272-4ac0-adef-79784dc8aa46",
   "metadata": {},
   "source": [
    "the + path then /* gives all files names after the path\n",
    "\n"
   ]
  },
  {
   "cell_type": "code",
   "execution_count": 4,
   "id": "a39ae088-6a8a-4544-8aeb-374185d57053",
   "metadata": {},
   "outputs": [
    {
     "data": {
      "text/plain": [
       "['E:/Thesis/data_preparing/dicom_initial/labels\\\\labels_spleen_2',\n",
       " 'E:/Thesis/data_preparing/dicom_initial/labels\\\\labels_spleen_3']"
      ]
     },
     "execution_count": 4,
     "metadata": {},
     "output_type": "execute_result"
    }
   ],
   "source": [
    "glob(d_initial_labels+\"/*\")"
   ]
  },
  {
   "cell_type": "code",
   "execution_count": 1,
   "id": "6a14829b-d7e5-4e12-830e-ae57fae7e6b0",
   "metadata": {},
   "outputs": [
    {
     "ename": "NameError",
     "evalue": "name 'glob' is not defined",
     "output_type": "error",
     "traceback": [
      "\u001b[1;31m---------------------------------------------------------------------------\u001b[0m",
      "\u001b[1;31mNameError\u001b[0m                                 Traceback (most recent call last)",
      "Cell \u001b[1;32mIn[1], line 1\u001b[0m\n\u001b[1;32m----> 1\u001b[0m i \u001b[38;5;241m=\u001b[39m \u001b[43mglob\u001b[49m(d_initial_labels\u001b[38;5;241m+\u001b[39m\u001b[38;5;124m\"\u001b[39m\u001b[38;5;124m/*\u001b[39m\u001b[38;5;124m\"\u001b[39m)\n\u001b[0;32m      2\u001b[0m \u001b[38;5;28mprint\u001b[39m(i)\n\u001b[0;32m      3\u001b[0m \u001b[38;5;28mprint\u001b[39m(\u001b[38;5;28mlen\u001b[39m(glob(i\u001b[38;5;241m+\u001b[39m\u001b[38;5;124m\"\u001b[39m\u001b[38;5;124m/*\u001b[39m\u001b[38;5;124m\"\u001b[39m)))\n",
      "\u001b[1;31mNameError\u001b[0m: name 'glob' is not defined"
     ]
    }
   ],
   "source": [
    "i = glob(d_initial_labels+\"/*\")\n",
    "print(i)\n",
    "print(len(glob(i+\"/*\")))\n",
    "print(len(glob(i+\"/IMG0006*\")))\n",
    "print(glob(i+\"/IMG0006*\"))\n",
    "folder_name = os.path.basename(os.path.normpath(i))\n",
    "print(f\"folder_name: {folder_name} and blah\")"
   ]
  },
  {
   "cell_type": "code",
   "execution_count": 299,
   "id": "a65831f6-4d52-4112-96f7-068dab961cdd",
   "metadata": {},
   "outputs": [
    {
     "name": "stdout",
     "output_type": "stream",
     "text": [
      "E:/Thesis/data_preparing/dicom_initial/labels\\labels_spleen_3\n",
      "40\n"
     ]
    }
   ],
   "source": [
    "j = glob(d_initial_labels+\"/*\")[1]\n",
    "print(j)\n",
    "print(len(glob(j+\"/*\")))"
   ]
  },
  {
   "cell_type": "markdown",
   "id": "cdc429a1-bda3-4474-bb11-b5984fcd6b7a",
   "metadata": {
    "tags": []
   },
   "source": [
    "## divide the files into multiple folder consisting at most \"number of slice\"es images/labels . Then move the images/label files to the new directory\n"
   ]
  },
  {
   "cell_type": "code",
   "execution_count": 300,
   "id": "551689ec-7b52-4603-81dd-7510997f9568",
   "metadata": {},
   "outputs": [],
   "source": [
    "def dicom_divide(number_of_sice, initial_path , final_path):\n",
    "    for i in glob(initial_path+\"/*\"):\n",
    "        print(\"Entered-> \",i)\n",
    "\n",
    "        folder_name = os.path.basename(os.path.normpath(i))\n",
    "        number_of_folder = int(len(glob(i+\"/*\"))/number_of_slice)\n",
    "        print(f\"folder_name: {folder_name}\")\n",
    "        print(f\"numbers_of_folder: {number_of_folder}\")\n",
    "\n",
    "\n",
    "        for j in range(1,number_of_folder+1):\n",
    "            new_dir = os.path.join(final_path, folder_name+\"_\"+str(j))\n",
    "            print(new_dir)\n",
    "            \n",
    "            try:\n",
    "                os.mkdir(new_dir)\n",
    "            except OSError as e:\n",
    "                print(f\"Error: {new_dir} : {e.strerror}\")\n",
    "                continue\n",
    "            \n",
    "            # get files and copy to the new folder \n",
    "            k = 0\n",
    "            for l in glob(i+\"/*\"):\n",
    "                if k == number_of_slice:\n",
    "                    break\n",
    "\n",
    "                #shutil.copy(l,new_dir) ---- You have to move or the code has to be changed the code don't copy all the files only first 40 when used copy\n",
    "                shutil.move(l,new_dir)\n",
    "                k+=1\n",
    "    \n",
    "            "
   ]
  },
  {
   "cell_type": "code",
   "execution_count": 301,
   "id": "d96e9765-f250-410f-bc9c-9769cc77f22c",
   "metadata": {},
   "outputs": [
    {
     "name": "stdout",
     "output_type": "stream",
     "text": [
      "Entered->  E:/Thesis/data_preparing/dicom_initial/labels\\labels_spleen_2\n",
      "folder_name: labels_spleen_2\n",
      "numbers_of_folder: 2\n",
      "E:/Thesis/data_preparing/dicom_final/labels\\labels_spleen_2_1\n",
      "E:/Thesis/data_preparing/dicom_final/labels\\labels_spleen_2_2\n",
      "Entered->  E:/Thesis/data_preparing/dicom_initial/labels\\labels_spleen_3\n",
      "folder_name: labels_spleen_3\n",
      "numbers_of_folder: 1\n",
      "E:/Thesis/data_preparing/dicom_final/labels\\labels_spleen_3_1\n"
     ]
    }
   ],
   "source": [
    "number_of_slice = 40\n",
    "#for labels\n",
    "dicom_divide(number_of_slice,d_initial_labels , d_final_labels)"
   ]
  },
  {
   "cell_type": "code",
   "execution_count": 302,
   "id": "ba5615a6-6166-4707-9daf-e8282e996493",
   "metadata": {},
   "outputs": [
    {
     "name": "stdout",
     "output_type": "stream",
     "text": [
      "Entered->  E:/Thesis/data_preparing/dicom_initial/images\\images_spleen_2\n",
      "folder_name: images_spleen_2\n",
      "numbers_of_folder: 2\n",
      "E:/Thesis/data_preparing/dicom_final/images\\images_spleen_2_1\n",
      "E:/Thesis/data_preparing/dicom_final/images\\images_spleen_2_2\n",
      "Entered->  E:/Thesis/data_preparing/dicom_initial/images\\images_spleen_3\n",
      "folder_name: images_spleen_3\n",
      "numbers_of_folder: 1\n",
      "E:/Thesis/data_preparing/dicom_final/images\\images_spleen_3_1\n"
     ]
    }
   ],
   "source": [
    "#for images\n",
    "dicom_divide(number_of_slice,d_initial_images,d_final_images)"
   ]
  },
  {
   "cell_type": "markdown",
   "id": "352f6c64-45b2-46ff-98e7-1215158b9f0a",
   "metadata": {},
   "source": [
    "# Convert to nifti"
   ]
  },
  {
   "cell_type": "code",
   "execution_count": 303,
   "id": "2d46d523-1a22-4f3d-a8ca-c849d69bfa30",
   "metadata": {},
   "outputs": [
    {
     "name": "stdout",
     "output_type": "stream",
     "text": [
      "Requirement already satisfied: dicom2nifti in c:\\users\\hmsha\\anaconda3\\envs\\monai_works\\lib\\site-packages (2.4.8)\n",
      "Requirement already satisfied: nibabel in c:\\users\\hmsha\\anaconda3\\envs\\monai_works\\lib\\site-packages (from dicom2nifti) (5.1.0)\n",
      "Requirement already satisfied: pydicom>=2.2.0 in c:\\users\\hmsha\\anaconda3\\envs\\monai_works\\lib\\site-packages (from dicom2nifti) (2.3.1)\n",
      "Requirement already satisfied: python-gdcm in c:\\users\\hmsha\\anaconda3\\envs\\monai_works\\lib\\site-packages (from dicom2nifti) (3.0.21)\n",
      "Requirement already satisfied: numpy in c:\\users\\hmsha\\anaconda3\\envs\\monai_works\\lib\\site-packages (from dicom2nifti) (1.24.2)\n",
      "Requirement already satisfied: scipy in c:\\users\\hmsha\\anaconda3\\envs\\monai_works\\lib\\site-packages (from dicom2nifti) (1.10.1)\n",
      "Requirement already satisfied: importlib-resources>=1.3 in c:\\users\\hmsha\\anaconda3\\envs\\monai_works\\lib\\site-packages (from nibabel->dicom2nifti) (5.2.0)\n",
      "Requirement already satisfied: packaging>=17 in c:\\users\\hmsha\\anaconda3\\envs\\monai_works\\lib\\site-packages (from nibabel->dicom2nifti) (23.0)\n",
      "Requirement already satisfied: zipp>=3.1.0 in c:\\users\\hmsha\\anaconda3\\envs\\monai_works\\lib\\site-packages (from importlib-resources>=1.3->nibabel->dicom2nifti) (3.11.0)\n"
     ]
    }
   ],
   "source": [
    "!pip install dicom2nifti"
   ]
  },
  {
   "cell_type": "code",
   "execution_count": 304,
   "id": "8f6219cb-5a6b-4ef4-b0ba-dd46c3d32248",
   "metadata": {},
   "outputs": [],
   "source": [
    "import dicom2nifti as dn"
   ]
  },
  {
   "cell_type": "code",
   "execution_count": 305,
   "id": "dc5949ba-23b6-462b-8590-52f6ca6f1ade",
   "metadata": {},
   "outputs": [],
   "source": [
    "dicom_path_labels = \"E:/Thesis/data_preparing/dicom_final/labels/*\"\n",
    "nifti_path_labels = \"E:/Thesis/data_preparing/nifti_initial/labels\"\n",
    "\n",
    "\n",
    "dicom_path_images = \"E:/Thesis/data_preparing/dicom_final/images/*\"\n",
    "nifti_path_images = \"E:/Thesis/data_preparing/nifti_initial/images\""
   ]
  },
  {
   "cell_type": "code",
   "execution_count": 306,
   "id": "e57efb83-8840-4502-aed6-9e5a887ac86d",
   "metadata": {},
   "outputs": [],
   "source": [
    "def dicom_2_nifti(dicom_path , nifti_path):\n",
    "    folder_list = glob(dicom_path)\n",
    "    print(folder_list)\n",
    "    print(nifti_path)\n",
    "    \n",
    "    for i in folder_list:\n",
    "        folder_name = os.path.basename(os.path.normpath(i))\n",
    "        dn.dicom_series_to_nifti(i,os.path.join(nifti_path,folder_name+\".nii.gz\"))\n",
    "        print(\"completed\")\n"
   ]
  },
  {
   "cell_type": "code",
   "execution_count": 307,
   "id": "a74bf21b-613a-4ac7-a796-1a92b815f4f1",
   "metadata": {},
   "outputs": [
    {
     "name": "stdout",
     "output_type": "stream",
     "text": [
      "['E:/Thesis/data_preparing/dicom_final/labels\\\\labels_spleen_2_1', 'E:/Thesis/data_preparing/dicom_final/labels\\\\labels_spleen_2_2', 'E:/Thesis/data_preparing/dicom_final/labels\\\\labels_spleen_3_1']\n",
      "E:/Thesis/data_preparing/nifti_initial/labels\n",
      "completed\n",
      "completed\n",
      "completed\n"
     ]
    }
   ],
   "source": [
    "#for labels\n",
    "dicom_2_nifti(dicom_path_labels , nifti_path_labels)"
   ]
  },
  {
   "cell_type": "code",
   "execution_count": 308,
   "id": "a7f20e48-8449-4524-9f06-a1eed2b581d7",
   "metadata": {},
   "outputs": [
    {
     "name": "stdout",
     "output_type": "stream",
     "text": [
      "['E:/Thesis/data_preparing/dicom_final/images\\\\images_spleen_2_1', 'E:/Thesis/data_preparing/dicom_final/images\\\\images_spleen_2_2', 'E:/Thesis/data_preparing/dicom_final/images\\\\images_spleen_3_1']\n",
      "E:/Thesis/data_preparing/nifti_initial/images\n",
      "completed\n",
      "completed\n",
      "completed\n"
     ]
    }
   ],
   "source": [
    "#for images\n",
    "dicom_2_nifti(dicom_path_images , nifti_path_images)"
   ]
  },
  {
   "cell_type": "markdown",
   "id": "1073393d-52d6-4264-93b8-b6503c74e774",
   "metadata": {},
   "source": [
    "# Find NULL"
   ]
  },
  {
   "cell_type": "code",
   "execution_count": 309,
   "id": "feeaf564-6b71-4530-9b08-19e19fcf6de9",
   "metadata": {},
   "outputs": [
    {
     "name": "stdout",
     "output_type": "stream",
     "text": [
      "Requirement already satisfied: nibabel in c:\\users\\hmsha\\anaconda3\\envs\\monai_works\\lib\\site-packages (5.1.0)\n",
      "Requirement already satisfied: importlib-resources>=1.3 in c:\\users\\hmsha\\anaconda3\\envs\\monai_works\\lib\\site-packages (from nibabel) (5.2.0)\n",
      "Requirement already satisfied: packaging>=17 in c:\\users\\hmsha\\anaconda3\\envs\\monai_works\\lib\\site-packages (from nibabel) (23.0)\n",
      "Requirement already satisfied: numpy>=1.19 in c:\\users\\hmsha\\anaconda3\\envs\\monai_works\\lib\\site-packages (from nibabel) (1.24.2)\n",
      "Requirement already satisfied: zipp>=3.1.0 in c:\\users\\hmsha\\anaconda3\\envs\\monai_works\\lib\\site-packages (from importlib-resources>=1.3->nibabel) (3.11.0)\n"
     ]
    }
   ],
   "source": [
    "!pip install nibabel"
   ]
  },
  {
   "cell_type": "code",
   "execution_count": 310,
   "id": "80b46bd6-485f-466a-9f5e-322f3bcebc1e",
   "metadata": {},
   "outputs": [],
   "source": [
    "import nibabel as nb\n",
    "import numpy as np"
   ]
  },
  {
   "cell_type": "code",
   "execution_count": 311,
   "id": "9ebfe2f6-276a-490a-9b33-6214f8434ba1",
   "metadata": {},
   "outputs": [],
   "source": [
    "path_of = \"E:/Thesis/data_preparing/nifti_initial/labels/*\""
   ]
  },
  {
   "cell_type": "code",
   "execution_count": 312,
   "id": "bc60fecc-f9c4-47a2-95a3-721d6f0093bc",
   "metadata": {},
   "outputs": [
    {
     "name": "stdout",
     "output_type": "stream",
     "text": [
      "[0.]\n",
      "[0. 1.]\n",
      "[0. 1.]\n"
     ]
    }
   ],
   "source": [
    "list_of_null=[]\n",
    "\n",
    "for i in glob(path_of):\n",
    "    nifti = nb.load(i)\n",
    "    \n",
    "    frame_data = nifti.get_fdata()\n",
    "    #print(frame_data)\n",
    "    \n",
    "    uniq = np.unique(frame_data)\n",
    "    print(uniq)\n",
    "    if len(uniq) ==1:\n",
    "        list_of_null.append(i)"
   ]
  },
  {
   "cell_type": "code",
   "execution_count": 313,
   "id": "36ecc7d3-5ab3-444a-aa2b-b3e727dfbc3b",
   "metadata": {},
   "outputs": [
    {
     "data": {
      "text/plain": [
       "['E:/Thesis/data_preparing/nifti_initial/labels\\\\labels_spleen_2_1.nii.gz']"
      ]
     },
     "execution_count": 313,
     "metadata": {},
     "output_type": "execute_result"
    }
   ],
   "source": [
    "list_of_null\n"
   ]
  },
  {
   "cell_type": "code",
   "execution_count": null,
   "id": "290058f2-b12e-4914-9a2f-9d91e080df8b",
   "metadata": {},
   "outputs": [],
   "source": []
  },
  {
   "cell_type": "code",
   "execution_count": null,
   "id": "3727ffb9-412b-4eb4-9681-246a6479658a",
   "metadata": {},
   "outputs": [],
   "source": []
  }
 ],
 "metadata": {
  "kernelspec": {
   "display_name": "Python 3 (ipykernel)",
   "language": "python",
   "name": "python3"
  },
  "language_info": {
   "codemirror_mode": {
    "name": "ipython",
    "version": 3
   },
   "file_extension": ".py",
   "mimetype": "text/x-python",
   "name": "python",
   "nbconvert_exporter": "python",
   "pygments_lexer": "ipython3",
   "version": "3.8.16"
  }
 },
 "nbformat": 4,
 "nbformat_minor": 5
}
